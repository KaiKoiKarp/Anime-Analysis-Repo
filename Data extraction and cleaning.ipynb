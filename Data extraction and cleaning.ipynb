{
 "cells": [
  {
   "cell_type": "code",
   "metadata": {
    "tags": [],
    "cell_id": "50e39528-ebf6-4c5b-b795-8e15cdbcc8f5",
    "deepnote_to_be_reexecuted": false,
    "source_hash": "b7dcc9c8",
    "execution_start": 1650639356678,
    "execution_millis": 44,
    "deepnote_cell_type": "code",
    "deepnote_cell_height": 99
   },
   "source": "import numpy as np\nimport pandas as pd",
   "execution_count": 1,
   "outputs": []
  },
  {
   "cell_type": "code",
   "source": "anime_df = pd.read_csv(\"Anime.csv\")\nanime_df",
   "metadata": {
    "cell_id": "24619afd9346435696f24516fe6a7a56",
    "tags": [],
    "deepnote_to_be_reexecuted": false,
    "source_hash": "8d28558e",
    "execution_start": 1650639356723,
    "execution_millis": 272,
    "deepnote_cell_type": "code",
    "deepnote_cell_height": 658.796875
   },
   "outputs": [
    {
     "output_type": "execute_result",
     "execution_count": 2,
     "data": {
      "application/vnd.deepnote.dataframe.v3+json": {
       "column_count": 17,
       "row_count": 18495,
       "columns": [
        {
         "name": "Rank",
         "dtype": "int64",
         "stats": {
          "unique_count": 18495,
          "nan_count": 0,
          "min": "1",
          "max": "18495",
          "histogram": [
           {
            "bin_start": 1,
            "bin_end": 1850.4,
            "count": 1850
           },
           {
            "bin_start": 1850.4,
            "bin_end": 3699.8,
            "count": 1849
           },
           {
            "bin_start": 3699.8,
            "bin_end": 5549.200000000001,
            "count": 1850
           },
           {
            "bin_start": 5549.200000000001,
            "bin_end": 7398.6,
            "count": 1849
           },
           {
            "bin_start": 7398.6,
            "bin_end": 9248,
            "count": 1849
           },
           {
            "bin_start": 9248,
            "bin_end": 11097.400000000001,
            "count": 1850
           },
           {
            "bin_start": 11097.400000000001,
            "bin_end": 12946.800000000001,
            "count": 1849
           },
           {
            "bin_start": 12946.800000000001,
            "bin_end": 14796.2,
            "count": 1850
           },
           {
            "bin_start": 14796.2,
            "bin_end": 16645.600000000002,
            "count": 1849
           },
           {
            "bin_start": 16645.600000000002,
            "bin_end": 18495,
            "count": 1850
           }
          ]
         }
        },
        {
         "name": "Name",
         "dtype": "object",
         "stats": {
          "unique_count": 18443,
          "nan_count": 0,
          "categories": [
           {
            "name": "[email protected]",
            "count": 4
           },
           {
            "name": "Genki! Genki! Nontan: Spoon Tan Tan Tan",
            "count": 2
           },
           {
            "name": "18441 others",
            "count": 18489
           }
          ]
         }
        },
        {
         "name": "Japanese_name",
         "dtype": "object",
         "stats": {
          "unique_count": 7902,
          "nan_count": 10557,
          "categories": [
           {
            "name": " The",
            "count": 14
           },
           {
            "name": "7901 others",
            "count": 7924
           },
           {
            "name": "Missing",
            "count": 10557
           }
          ]
         }
        },
        {
         "name": "Type",
         "dtype": "object",
         "stats": {
          "unique_count": 8,
          "nan_count": 0,
          "categories": [
           {
            "name": "TV   ",
            "count": 5446
           },
           {
            "name": "Movie",
            "count": 3577
           },
           {
            "name": "6 others",
            "count": 9472
           }
          ]
         }
        },
        {
         "name": "Episodes",
         "dtype": "float64",
         "stats": {
          "unique_count": 205,
          "nan_count": 8992,
          "min": "1.0",
          "max": "800.0",
          "histogram": [
           {
            "bin_start": 1,
            "bin_end": 80.9,
            "count": 9197
           },
           {
            "bin_start": 80.9,
            "bin_end": 160.8,
            "count": 211
           },
           {
            "bin_start": 160.8,
            "bin_end": 240.70000000000002,
            "count": 46
           },
           {
            "bin_start": 240.70000000000002,
            "bin_end": 320.6,
            "count": 21
           },
           {
            "bin_start": 320.6,
            "bin_end": 400.5,
            "count": 13
           },
           {
            "bin_start": 400.5,
            "bin_end": 480.40000000000003,
            "count": 5
           },
           {
            "bin_start": 480.40000000000003,
            "bin_end": 560.3000000000001,
            "count": 5
           },
           {
            "bin_start": 560.3000000000001,
            "bin_end": 640.2,
            "count": 0
           },
           {
            "bin_start": 640.2,
            "bin_end": 720.1,
            "count": 1
           },
           {
            "bin_start": 720.1,
            "bin_end": 800,
            "count": 4
           }
          ]
         }
        },
        {
         "name": "Studio",
         "dtype": "object"
        },
        {
         "name": "Release_season",
         "dtype": "object"
        },
        {
         "name": "Tags",
         "dtype": "object"
        },
        {
         "name": "Rating",
         "dtype": "float64"
        },
        {
         "name": "Release_year",
         "dtype": "float64"
        },
        {
         "name": "End_year",
         "dtype": "float64"
        },
        {
         "name": "Description",
         "dtype": "object"
        },
        {
         "name": "Content_Warning",
         "dtype": "object"
        },
        {
         "name": "Related_Mange",
         "dtype": "object"
        },
        {
         "name": "Related_anime",
         "dtype": "object"
        },
        {
         "name": "Voice_actors",
         "dtype": "object"
        },
        {
         "name": "staff",
         "dtype": "object"
        },
        {
         "name": "_deepnote_index_column",
         "dtype": "int64"
        }
       ],
       "rows": [
        {
         "Rank": 1,
         "Name": "Demon Slayer: Kimetsu no Yaiba - Entertainment District Arc",
         "Japanese_name": " Kimetsu no Yaiba: Yuukaku-hen",
         "Type": "TV   ",
         "Episodes": 11,
         "Studio": "ufotable",
         "Release_season": "Fall ",
         "Tags": "Action, Adventure, Fantasy, Shounen, Demons, Historical, Martial Arts, Orphans, Siblings, Swordplay, Based on a Manga, Explicit Violence",
         "Rating": 4.6,
         "Release_year": 2021,
         "End_year": "nan",
         "Description": "'Tanjiro and his friends accompany the Hashira Tengen Uzui to an entertainment district where Tengen’s female ninja agents were gathering information on a demon before they suddenly disappeared. In order to investigate, Tanjiro and the others disguise themselves as women to sneak in!'",
         "Content_Warning": "Explicit Violence",
         "Related_Mange": "Demon Slayer: Kimetsu no Yaiba",
         "Related_anime": "Demon Slayer: Kimetsu no Yaiba, Demon Slayer: Kimetsu no Yaiba Movie - Mugen Train, Demon Slayer: Kimetsu no Yaiba - Mugen Train",
         "Voice_actors": "Inosuke Hashibira : Yoshitsugu Matsuoka, Nezuko Kamado : Akari Kitou, Tanjirou Kamado : Natsuki Hanae, Zenitsu Agatsuma : Hiro Shimono, Daki : Miyuki Sawashiro, Tengen Uzui : Katsuyuki Konishi, Akaza : Akira Ishida, Amane Ubuyashiki, Koyoharu Gotouge\nOriginal Creator, Haruo Sotozaki\nDirector, Akira Matsushima\nCharacter Design, Aimer\nSong Performance",
         "staff": "Koyoharu Gotouge : Original Creator, Haruo Sotozaki : Director, Akira Matsushima : Character Design, Aimer : Song Performance",
         "_deepnote_index_column": 0
        },
        {
         "Rank": 2,
         "Name": "Fruits Basket the Final Season",
         "Japanese_name": " Fruits Basket the Final",
         "Type": "TV   ",
         "Episodes": 13,
         "Studio": "TMS Entertainment",
         "Release_season": "Spring",
         "Tags": "Drama, Fantasy, Romance, Shoujo, Animal Transformation, Contemporary Fantasy, Curse, Dysfunctional Families, Mental Illness, Orphans, Based on a Manga, Emotional Abuse,, Mature Themes,, Physical Abuse,, Suicide,, Violence,, Domestic Abuse",
         "Rating": 4.6,
         "Release_year": 2021,
         "End_year": "nan",
         "Description": "'The final arc of Fruits Basket.'",
         "Content_Warning": "Emotional Abuse,, Mature Themes,, Physical Abuse,, Suicide,, Violence,, Domestic Abuse",
         "Related_Mange": "Fruits Basket, Fruits Basket Another",
         "Related_anime": "Fruits Basket 1st Season, Fruits Basket 2nd Season",
         "Voice_actors": "Akito Sohma : Maaya Sakamoto, Kyo Sohma : Yuuma Uchida, Shigure Sohma : Yuuichi Nakamura, Tohru Honda : Manaka Iwami, Yuki Sohma : Nobunaga Shimazaki, Arisa Uotani : Atsumi Tanezaki, Hatsuharu Sohma : Makoto Furukawa, Isuzu Sohma : Aki Toyosaki, Natsuki Takaya\nOriginal Creator, Yoshihide Ibata\nDirector & Episode Director & Storyboard, Taku Kishimoto\nScreenplay & Series Composition, Masaru Yokoyama\nMusic, Masaru Shindou\nCharacter Design & Chief Animation Director, Baek-Ryun Chae\nPhotography Director, Youko Koyama\nArt Director, Mika Sugawara\nColor Design",
         "staff": "Natsuki Takaya : Original Creator, Yoshihide Ibata : Director & Episode Director & Storyboard, Taku Kishimoto : Screenplay & Series Composition, Masaru Yokoyama : Music, Masaru Shindou : Character Design & Chief Animation Director, Baek-Ryun Chae : Photography Director, Youko Koyama : Art Director, Mika Sugawara : Color Design",
         "_deepnote_index_column": 1
        },
        {
         "Rank": 3,
         "Name": "Mo Dao Zu Shi 3",
         "Japanese_name": " The Founder of Diabolism 3",
         "Type": "Web  ",
         "Episodes": 12,
         "Studio": "B.C MAY PICTURES",
         "Release_season": "nan",
         "Tags": "Fantasy, Ancient China, Chinese Animation, Cultivation, Xianxia, Based on a Web Novel",
         "Rating": 4.58,
         "Release_year": 2021,
         "End_year": "nan",
         "Description": "'The third season of Mo Dao Zu Shi.'",
         "Content_Warning": "nan",
         "Related_Mange": "Grandmaster of Demonic Cultivation: Mo Dao Zu Shi (Novel), The Master of Diabolism",
         "Related_anime": "Mo Dao Zu Shi 2, Mo Dao Zu Shi Q",
         "Voice_actors": "Lan Wangji, Wei Wuxian, Jiang Cheng, Jin Guangyao, Jin Ling, Lan Jingyi, Lan Sizhui, Lan Xichen, Mo Xiang Tong Xiu\nOriginal Creator, Xiong Ke\nChief Director, Ma Chendi\nChief Director, Sun Yujing\nMusic, Weng Teng\nMusic, Feng Shuo\nMusic, Shen Lin\nCharacter Design & Chief Animation Director, Liang Sha\nScreenplay",
         "staff": "Mo Xiang Tong Xiu : Original Creator, Xiong Ke : Chief Director, Ma Chendi : Chief Director, Sun Yujing : Music, Weng Teng : Music, Feng Shuo : Music, Shen Lin : Character Design & Chief Animation Director, Liang Sha : Screenplay",
         "_deepnote_index_column": 2
        },
        {
         "Rank": 4,
         "Name": "Fullmetal Alchemist: Brotherhood",
         "Japanese_name": " Hagane no Renkinjutsushi: Full Metal Alchemist",
         "Type": "TV   ",
         "Episodes": 64,
         "Studio": "Bones",
         "Release_season": "Spring",
         "Tags": "Action, Adventure, Drama, Fantasy, Mystery, Shounen, Conspiracy, Death of a Loved One, Military, Siblings, Based on a Manga, Animal Abuse,, Mature Themes,, Violence,, Domestic Abuse",
         "Rating": 4.58,
         "Release_year": 2009,
         "End_year": 2010,
         "Description": "\"The foundation of alchemy is based on the law of equivalent exchange; you cannot produce something from nothing. As such, alchemy is bound by one taboo - human transmutation. Four years ago two young brothers, Edward and Alphonse Elric, broke this taboo when they tried to resurrect their dead mother. During the process Al's body disintegrated and Ed lost his leg. In a desperate attempt to prevent his brother from disappearing completely, Ed sacrificed one of his arms so he could affix Al's soul to a suit of armor. When his missing limbs are replaced by auto mail parts, Ed bears the name of the Fullmetal Alchemist - the youngest ever State Alchemist and dog of the military. Now, alongside his brother, Ed uses his status within the military to attempt to find any way that he can return their bodies back to their original state.\"",
         "Content_Warning": "Animal Abuse,, Mature Themes,, Violence,, Domestic Abuse",
         "Related_Mange": "Fullmetal Alchemist, Fullmetal Alchemist (Light Novel), Fullmetal Alchemist Gaiden, Fullmetal Alchemist: The Prototype, Fullmetal Alchemist: The Complete Four-Panel Comics",
         "Related_anime": "Fullmetal Alchemist: Brotherhood Specials, Fullmetal Alchemist: Brotherhood: 4-Koma Theater, Fullmetal Alchemist: The Sacred Star of Milos",
         "Voice_actors": "Alphonse Elric : Rie Kugimiya, Edward Elric : Romi Park, Alex Louis Armstrong : Kenji Utsumi, Barry The Chopper : Hideyuki Umezu, Buccaneer : Ryuzaburo Otomo, Darius : Masuo Amada, Envy : Minami Takayama, Father : Iemasa Kayumi, Hiromu Arakawa\nOriginal Creator, Yasuhiro Irie\nDirector, Akira Senju\nMusic, Hiroki Kanno\n2Nd Key Animator & Animation Director & Assistant Animation Director & Character Design & Key Animator, Hiroo Maruyama\nProducer, Ryou Ooyama\nProducer, Nobuyuki Kurashige\nProducer, Noritomo Yonai\nProducer",
         "staff": "Hiromu Arakawa : Original Creator, Yasuhiro Irie : Director, Akira Senju : Music, Hiroki Kanno : 2Nd Key Animator & Animation Director & Assistant Animation Director & Character Design & Key Animator, Hiroo Maruyama : Producer, Ryou Ooyama : Producer, Nobuyuki Kurashige : Producer, Noritomo Yonai : Producer",
         "_deepnote_index_column": 3
        },
        {
         "Rank": 5,
         "Name": "Attack on Titan 3rd Season: Part II",
         "Japanese_name": " Shingeki no Kyojin Season 3: Part II",
         "Type": "TV   ",
         "Episodes": 10,
         "Studio": "WIT Studio",
         "Release_season": "Spring",
         "Tags": "Action, Fantasy, Horror, Shounen, Dark Fantasy, Isolated Society, Military, Outside World, Post-apocalyptic, Based on a Manga, Cannibalism,, Explicit Violence",
         "Rating": 4.57,
         "Release_year": 2019,
         "End_year": "nan",
         "Description": "'The battle to retake Wall Maria begins now! With Eren’s new hardening ability, the Scouts are confident they can seal the wall and take back Shiganshina District. If they succeed, Eren can finally unlock the secrets of the basement—and the world. But danger lies in wait as Reiner, Bertholdt, and the Beast Titan have plans of their own. Could this be humanity’s final battle for survival?'",
         "Content_Warning": "Cannibalism,, Explicit Violence",
         "Related_Mange": "Attack on Titan, Attack on Titan: End of the World (Light Novel)",
         "Related_anime": "Attack on Titan, Attack on Titan 2nd Season, Attack on Titan 3rd Season, Attack on Titan 3rd Season: Part II Specials, Attack on Titan Movie 4: Chronicle, Attack on Titan The Final Season, Attack on Titan The Final Season: Part II",
         "Voice_actors": "Armin Arlelt : Marina Inoue, Eren Jaeger : Yuuki Kaji, Mikasa Ackerman : Yui Ishikawa, Armored Titan, Beast Titan : Takehito Koyasu, Bertholdt Hoover : Tomohisa Hashizume, Erwin Smith : Daisuke Ono, Hange Zoe : Romi Park, Hajime Isayama\nOriginal Creator, Tetsurou Araki\nChief Director, Masashi Koizuka\nDirector, Tetsuya Wakano\nAssistant Director, Yasuko Kobayashi\nSeries Composition, Hiroyuki Sawano\nMusic, Kyouji Asano\nCharacter Design, Kazuhiro Yamada\nPhotography Director",
         "staff": "Hajime Isayama : Original Creator, Tetsurou Araki : Chief Director, Masashi Koizuka : Director, Tetsuya Wakano : Assistant Director, Yasuko Kobayashi : Series Composition, Hiroyuki Sawano : Music, Kyouji Asano : Character Design, Kazuhiro Yamada : Photography Director",
         "_deepnote_index_column": 4
        },
        {
         "Rank": 6,
         "Name": "Jujutsu Kaisen",
         "Japanese_name": "nan",
         "Type": "TV   ",
         "Episodes": 24,
         "Studio": "MAPPA",
         "Release_season": "Fall ",
         "Tags": "Action, Horror, Shounen, Curse, Exorcists, Monsters, School Life, Supernatural, Based on a Manga, Explicit Violence",
         "Rating": 4.56,
         "Release_year": 2020,
         "End_year": 2021,
         "Description": "'Although Yuji Itadori looks like your average teenager, his immense physical strength is something to behold! Every sports club wants him to join, but Itadori would rather hang out with the school outcasts in the Occult Research Club. One day, the club manages to get their hands on a sealed cursed object. Little do they know the terror they’ll unleash when they break the seal…'",
         "Content_Warning": "Explicit Violence",
         "Related_Mange": "Jujutsu Kaisen 0, Jujutsu Kaisen",
         "Related_anime": "Jujutsu Kaisen (2018), Juju Sanpo, Eve: Kaikai Kitan, Jujutsu Kaisen 0",
         "Voice_actors": "Megumi Fushiguro : Yuuma Uchida, Nobara Kugisaki : Asami Seto, Satoru Gojo : Yuuichi Nakamura, Yuji Itadori : Junya Enoki, Aoi Todo : Subaru Kimura, Hanami : Atsuko Tanaka, Junpei Yoshino : Yoshitaka Yamaya, Kento Nanami : Kenjirou Tsuda, Gege Akutami\nOriginal Creator, Seong-Hu Park\nDirector, Arisa Okehazama\nMusic, Hiroaki Tsutsumi\nMusic, Yoshimasa Terui\nMusic, Tadashi Hiramatsu\nCharacter Design, Akiko Fujita\nSound Director, Toshihiro Maeda\nProducer",
         "staff": "Gege Akutami : Original Creator, Seong-Hu Park : Director, Arisa Okehazama : Music, Hiroaki Tsutsumi : Music, Yoshimasa Terui : Music, Tadashi Hiramatsu : Character Design, Akiko Fujita : Sound Director, Toshihiro Maeda : Producer",
         "_deepnote_index_column": 5
        },
        {
         "Rank": 7,
         "Name": "Attack on Titan The Final Season: Part II",
         "Japanese_name": " Shingeki no Kyojin The Final Season: Part II",
         "Type": "TV   ",
         "Episodes": "nan",
         "Studio": "MAPPA",
         "Release_season": "Winter",
         "Tags": "Action, Drama, Fantasy, Horror, Shounen, Dark Fantasy, Military, War, Based on a Manga",
         "Rating": 4.56,
         "Release_year": 2022,
         "End_year": "nan",
         "Description": "'Continuation of\\xa0Attack on Titan The Final Season.'",
         "Content_Warning": "nan",
         "Related_Mange": "Attack on Titan",
         "Related_anime": "Attack on Titan, Attack on Titan 2nd Season, Attack on Titan 3rd Season, Attack on Titan 3rd Season: Part II, Attack on Titan The Final Season",
         "Voice_actors": "Armin Arlelt : Marina Inoue, Eren Jaeger : Yuuki Kaji, Mikasa Ackerman : Yui Ishikawa, Yelena : Mitsuki Saiga, Annie Leonhart, Annie'S Father, Armored Titan, Bertholdt Hoover, Hajime Isayama\nOriginal Creator, Jun Shishido\nChief Director, Yuuichirou Hayashi\nDirector & Episode Director, Hiroshi Seko\nScreenplay & Series Composition, Hiroyuki Sawano\nMusic, Kohta Yamamoto\nMusic, Tomohiro Kishi\nCharacter Design, Tetsuya Endou\nProducer",
         "staff": "Hajime Isayama : Original Creator, Jun Shishido : Chief Director, Yuuichirou Hayashi : Director & Episode Director, Hiroshi Seko : Screenplay & Series Composition, Hiroyuki Sawano : Music, Kohta Yamamoto : Music, Tomohiro Kishi : Character Design, Tetsuya Endou : Producer",
         "_deepnote_index_column": 6
        },
        {
         "Rank": 8,
         "Name": "Attack on Titan The Final Season",
         "Japanese_name": " Shingeki no Kyojin The Final Season",
         "Type": "TV   ",
         "Episodes": 16,
         "Studio": "MAPPA",
         "Release_season": "Winter",
         "Tags": "Action, Drama, Fantasy, Horror, Shounen, Dark Fantasy, Military, War, Based on a Manga, Explicit Violence,, Mature Themes,, Physical Abuse,, Suicide",
         "Rating": 4.55,
         "Release_year": 2020,
         "End_year": 2021,
         "Description": "\"It's been four years since the Scout Regiment reached the shoreline, and the world looks different now. Things are heating up as the fate of the Scout Regiment—and the people of Paradis—are determined at last. However, Eren is missing. Will he reappear before age-old tensions between Marleyans and Eldians result in the war of all wars?\"",
         "Content_Warning": "Explicit Violence,, Mature Themes,, Physical Abuse,, Suicide",
         "Related_Mange": "Attack on Titan",
         "Related_anime": "Attack on Titan, Attack on Titan 2nd Season, Attack on Titan 3rd Season, Attack on Titan 3rd Season: Part II, Attack on Titan: The Final Season PV, Attack on Titan The Final Season: Part II",
         "Voice_actors": "Eren Jaeger : Yuuki Kaji, Armin Arlelt : Marina Inoue, Colt Grice : Masaya Matsukaze, Falco Grice : Natsuki Hanae, Gabi : Ayane Sakura, Hange Zoe : Romi Park, Jean Kirschtein : Kishou Taniyama, Levi : Hiroshi Kamiya, Hajime Isayama\nOriginal Creator, Jun Shishido\nChief Director & Episode Director & Storyboard, Yuuichirou Hayashi\nDirector & Episode Director & Op Director & Storyboard, Hiroshi Seko\nScreenplay & Series Composition, Hiroyuki Sawano\nMusic, Kohta Yamamoto\nMusic, Tomohiro Kishi\nCharacter Design & Chief Animation Director, Shigeki Asakawa\nPhotography Director",
         "staff": "Hajime Isayama : Original Creator, Jun Shishido : Chief Director & Episode Director & Storyboard, Yuuichirou Hayashi : Director & Episode Director & Op Director & Storyboard, Hiroshi Seko : Screenplay & Series Composition, Hiroyuki Sawano : Music, Kohta Yamamoto : Music, Tomohiro Kishi : Character Design & Chief Animation Director, Shigeki Asakawa : Photography Director",
         "_deepnote_index_column": 7
        },
        {
         "Rank": 9,
         "Name": "Demon Slayer: Kimetsu no Yaiba Movie - Mugen Train",
         "Japanese_name": " Kimetsu no Yaiba Movie: Mugen Ressha-hen",
         "Type": "Movie",
         "Episodes": "nan",
         "Studio": "ufotable",
         "Release_season": "nan",
         "Tags": "Action, Drama, Fantasy, Shounen, Demons, Historical, Martial Arts, Orphans, Siblings, Swordplay, Trains, Based on a Manga, Mature Themes,, Suicide,, Violence",
         "Rating": 4.54,
         "Release_year": 2020,
         "End_year": "nan",
         "Description": "'Tanjirou\\xa0and the group have completed their rehabilitation training at the Butterfly Mansion, and they arrive to their next mission on the Mugen Train, where over 40 people have disappeared in a very short period of time. Tanjirou and\\xa0Nezuko, along with\\xa0Zenitsu\\xa0and\\xa0Inosuke, join one of the most powerful swordsmen within the Demon Slayer Corps,\\xa0Flame Hashira Rengoku Kyoujurou, to face the demon aboard the Mugen Train on track to despair.'",
         "Content_Warning": "Mature Themes,, Suicide,, Violence",
         "Related_Mange": "Gotouge Koyoharu Tanpenshuu, Demon Slayer: Kimetsu no Yaiba, Demon Slayer: Kimetsu no Yaiba - Shiawase no Hana (Light Novel), Demon Slayer: Kimetsu no Yaiba - Katahane no Chou (Light Novel), Demon Slayer: Kimetsu no Yaiba - Kaze no Michishirube (Light Novel)",
         "Related_anime": "Demon Slayer: Kimetsu no Yaiba, Demon Slayer: Kimetsu no Yaiba - Mugen Train, Demon Slayer: Kimetsu no Yaiba - Entertainment District Arc",
         "Voice_actors": "Inosuke Hashibira : Yoshitsugu Matsuoka, Kyoujurou Rengoku : Mariya Ise, Nezuko Kamado : Akari Kitou, Tanjirou Kamado : Natsuki Hanae, Zenitsu Agatsuma : Hiro Shimono, Akaza : Akira Ishida, Enmu : Daisuke Hirakawa, Amane Ubuyashiki : Rina Satou, Koyoharu Gotouge\nOriginal Creator, Haruo Sotozaki\nDirector & Episode Director & Storyboard, Gou Shiina\nMusic, Yuki Kajiura\nMusic & Song Arrangement & Song Composition & Song Lyrics, Akira Matsushima\nAnimation Director & Character Design & Chief Animation Director, Yuuichi Terao\nPhotography Director, Kouji Etou\nArt Director & Background Artist, Yuri Kabasawa\nArt Director & Background Artist",
         "staff": "Koyoharu Gotouge : Original Creator, Haruo Sotozaki : Director & Episode Director & Storyboard, Gou Shiina : Music, Yuki Kajiura : Music & Song Arrangement & Song Composition & Song Lyrics, Akira Matsushima : Animation Director & Character Design & Chief Animation Director, Yuuichi Terao : Photography Director, Kouji Etou : Art Director & Background Artist, Yuri Kabasawa : Art Director & Background Artist",
         "_deepnote_index_column": 8
        },
        {
         "Rank": 10,
         "Name": "Haikyuu!! Karasuno High School vs Shiratorizawa Academy",
         "Japanese_name": " Haikyuu!! Karasuno Koukou vs Shiratorizawa Gakuen Koukou",
         "Type": "TV   ",
         "Episodes": 10,
         "Studio": "Production I.G",
         "Release_season": "Fall ",
         "Tags": "Shounen, Sports, Animeism, School Club, School Life, Tournaments, Volleyball, Based on a Manga",
         "Rating": 4.53,
         "Release_year": 2016,
         "End_year": "nan",
         "Description": "'Picking up where the second season ended, the boys prepare to finally face off for the right to represent the prefecture in the volleyball national championship. Despite being known as “The Fallen Champions,” Karasuno is determined to take down the powerhouse that is the Shiratorizawa High volleyball team. As Hinata comes closer to fulfilling his promise to defeat Ushijima’s team, will the “Flightless Crows” finally find their wings and soar above the best school in the prefecture?'",
         "Content_Warning": "nan",
         "Related_Mange": "Haikyuu!! (Pilot), Haikyuu!!, Haikyuu-bu!!",
         "Related_anime": "Haikyuu!!, Haikyuu!! Lev Kenzan!, Haikyuu!! Second Season, Haikyuu!! vs. \"Akaten\", Haikyuu!! Tokushuu! Harukou Volley ni Kaketa Seishun, Haikyuu!! Movie 4: Battle of Concepts, Haikyuu!! To the Top, Haikyuu!! Riku vs Kuu, Haikyuu!! To the Top: Part II",
         "Voice_actors": "Shoyo Hinata : Ayumu Murase, Tobio Kageyama : Kaito Ishikawa, Asahi Azumane : Yoshimasa Hosoya, Daichi Sawamura : Satoshi Hino, Hitoka Yachi : Sumire Morohoshi, Ittetsu Takeda : Hiroshi Kamiya, Keishin Ukai : Hisao Egawa, Kei Tsukishima : Kouki Uchiyama, Haruichi Furudate\nOriginal Creator, Susumu Mitsunaka\nDirector, Yuuki Hayashi\nMusic, Asami Tachibana\nMusic, Takahiro Kishida\nCharacter Design, Tomoyuki Saitou\nProducer, Toshihiro Maeda\nProducer, Kozue Kaneniwa\nProducer",
         "staff": "Haruichi Furudate : Original Creator, Susumu Mitsunaka : Director, Yuuki Hayashi : Music, Asami Tachibana : Music, Takahiro Kishida : Character Design, Tomoyuki Saitou : Producer, Toshihiro Maeda : Producer, Kozue Kaneniwa : Producer",
         "_deepnote_index_column": 9
        }
       ]
      },
      "text/plain": "        Rank                                               Name  \\\n0          1  Demon Slayer: Kimetsu no Yaiba - Entertainment...   \n1          2                     Fruits Basket the Final Season   \n2          3                                    Mo Dao Zu Shi 3   \n3          4                   Fullmetal Alchemist: Brotherhood   \n4          5                Attack on Titan 3rd Season: Part II   \n...      ...                                                ...   \n18490  18491  Qin Shi Mingyue: Canghai Hengliu Xiaomeng Spec...   \n18491  18492                      Yi Tang Juchang: Sanguo Yanyi   \n18492  18493          Fenghuang Ji Xiang Yu Qingming Shanghe Tu   \n18493  18494                      Chengshi Jiyi Wo Men de Jieri   \n18494  18495  Heisei Inu Monogatari Bow: Genshi Inu Monogata...   \n\n                                         Japanese_name   Type  Episodes  \\\n0                        Kimetsu no Yaiba: Yuukaku-hen  TV         11.0   \n1                              Fruits Basket the Final  TV         13.0   \n2                           The Founder of Diabolism 3  Web        12.0   \n3       Hagane no Renkinjutsushi: Full Metal Alchemist  TV         64.0   \n4                 Shingeki no Kyojin Season 3: Part II  TV         10.0   \n...                                                ...    ...       ...   \n18490                                              NaN  Web         2.0   \n18491                                              NaN  TV        108.0   \n18492                                              NaN  TV         13.0   \n18493                                              NaN  TV          NaN   \n18494                                              NaN  Movie       NaN   \n\n                             Studio Release_season  \\\n0                          ufotable          Fall    \n1                 TMS Entertainment         Spring   \n2                  B.C MAY PICTURES            NaN   \n3                             Bones         Spring   \n4                        WIT Studio         Spring   \n...                             ...            ...   \n18490  Sparkly Key Animation Studio            NaN   \n18491                           NaN            NaN   \n18492                           NaN            NaN   \n18493                           NaN            NaN   \n18494              Nippon Animation            NaN   \n\n                                                    Tags  Rating  \\\n0      Action, Adventure, Fantasy, Shounen, Demons, H...    4.60   \n1      Drama, Fantasy, Romance, Shoujo, Animal Transf...    4.60   \n2      Fantasy, Ancient China, Chinese Animation, Cul...    4.58   \n3      Action, Adventure, Drama, Fantasy, Mystery, Sh...    4.58   \n4      Action, Fantasy, Horror, Shounen, Dark Fantasy...    4.57   \n...                                                  ...     ...   \n18490  Action, Ancient China, Chinese Animation, Hist...     NaN   \n18491                                  Chinese Animation     NaN   \n18492  Chinese Animation, Family Friendly, Short Epis...     NaN   \n18493  Chinese Animation, Family Friendly, Short Epis...     NaN   \n18494                        Comedy, Slice of Life, Dogs     NaN   \n\n       Release_year  End_year  \\\n0            2021.0       NaN   \n1            2021.0       NaN   \n2            2021.0       NaN   \n3            2009.0    2010.0   \n4            2019.0       NaN   \n...             ...       ...   \n18490        2020.0       NaN   \n18491        2010.0       NaN   \n18492        2020.0       NaN   \n18493        2020.0       NaN   \n18494        1994.0       NaN   \n\n                                             Description  \\\n0      'Tanjiro and his friends accompany the Hashira...   \n1                      'The final arc of Fruits Basket.'   \n2                   'The third season of Mo Dao Zu Shi.'   \n3      \"The foundation of alchemy is based on the law...   \n4      'The battle to retake Wall Maria begins now! W...   \n...                                                  ...   \n18490  Special episodes of Qin Shi Mingyue: Canghai H...   \n18491                 No synopsis yet - check back soon!   \n18492                 No synopsis yet - check back soon!   \n18493                 No synopsis yet - check back soon!   \n18494                 No synopsis yet - check back soon!   \n\n                                         Content_Warning  \\\n0                                      Explicit Violence   \n1      Emotional Abuse,, Mature Themes,, Physical Abu...   \n2                                                    NaN   \n3      Animal Abuse,, Mature Themes,, Violence,, Dome...   \n4                        Cannibalism,, Explicit Violence   \n...                                                  ...   \n18490                                                NaN   \n18491                                                NaN   \n18492                                                NaN   \n18493                                                NaN   \n18494                                                NaN   \n\n                                           Related_Mange  \\\n0                         Demon Slayer: Kimetsu no Yaiba   \n1                   Fruits Basket, Fruits Basket Another   \n2      Grandmaster of Demonic Cultivation: Mo Dao Zu ...   \n3      Fullmetal Alchemist, Fullmetal Alchemist (Ligh...   \n4      Attack on Titan, Attack on Titan: End of the W...   \n...                                                  ...   \n18490                                                NaN   \n18491                                                NaN   \n18492                                                NaN   \n18493                                                NaN   \n18494                                                NaN   \n\n                                           Related_anime  \\\n0      Demon Slayer: Kimetsu no Yaiba, Demon Slayer: ...   \n1      Fruits Basket 1st Season, Fruits Basket 2nd Se...   \n2                       Mo Dao Zu Shi 2, Mo Dao Zu Shi Q   \n3      Fullmetal Alchemist: Brotherhood Specials, Ful...   \n4      Attack on Titan, Attack on Titan 2nd Season, A...   \n...                                                  ...   \n18490                   Qin Shi Mingyue: Canghai Hengliu   \n18491                                                NaN   \n18492                                                NaN   \n18493                                                NaN   \n18494                          Heisei Inu Monogatari Bow   \n\n                                            Voice_actors  \\\n0      Inosuke Hashibira : Yoshitsugu Matsuoka, Nezuk...   \n1      Akito Sohma : Maaya Sakamoto, Kyo Sohma : Yuum...   \n2      Lan Wangji, Wei Wuxian, Jiang Cheng, Jin Guang...   \n3      Alphonse Elric : Rie Kugimiya, Edward Elric : ...   \n4      Armin Arlelt : Marina Inoue, Eren Jaeger : Yuu...   \n...                                                  ...   \n18490                                                NaN   \n18491                                                NaN   \n18492                                                NaN   \n18493                                                NaN   \n18494                                                NaN   \n\n                                                   staff  \n0      Koyoharu Gotouge : Original Creator, Haruo Sot...  \n1      Natsuki Takaya : Original Creator, Yoshihide I...  \n2      Mo Xiang Tong Xiu : Original Creator, Xiong Ke...  \n3      Hiromu Arakawa : Original Creator, Yasuhiro Ir...  \n4      Hajime Isayama : Original Creator, Tetsurou Ar...  \n...                                                  ...  \n18490                                                NaN  \n18491                                                NaN  \n18492                                                NaN  \n18493                                                NaN  \n18494                                                NaN  \n\n[18495 rows x 17 columns]",
      "text/html": "<div>\n<style scoped>\n    .dataframe tbody tr th:only-of-type {\n        vertical-align: middle;\n    }\n\n    .dataframe tbody tr th {\n        vertical-align: top;\n    }\n\n    .dataframe thead th {\n        text-align: right;\n    }\n</style>\n<table border=\"1\" class=\"dataframe\">\n  <thead>\n    <tr style=\"text-align: right;\">\n      <th></th>\n      <th>Rank</th>\n      <th>Name</th>\n      <th>Japanese_name</th>\n      <th>Type</th>\n      <th>Episodes</th>\n      <th>Studio</th>\n      <th>Release_season</th>\n      <th>Tags</th>\n      <th>Rating</th>\n      <th>Release_year</th>\n      <th>End_year</th>\n      <th>Description</th>\n      <th>Content_Warning</th>\n      <th>Related_Mange</th>\n      <th>Related_anime</th>\n      <th>Voice_actors</th>\n      <th>staff</th>\n    </tr>\n  </thead>\n  <tbody>\n    <tr>\n      <th>0</th>\n      <td>1</td>\n      <td>Demon Slayer: Kimetsu no Yaiba - Entertainment...</td>\n      <td>Kimetsu no Yaiba: Yuukaku-hen</td>\n      <td>TV</td>\n      <td>11.0</td>\n      <td>ufotable</td>\n      <td>Fall</td>\n      <td>Action, Adventure, Fantasy, Shounen, Demons, H...</td>\n      <td>4.60</td>\n      <td>2021.0</td>\n      <td>NaN</td>\n      <td>'Tanjiro and his friends accompany the Hashira...</td>\n      <td>Explicit Violence</td>\n      <td>Demon Slayer: Kimetsu no Yaiba</td>\n      <td>Demon Slayer: Kimetsu no Yaiba, Demon Slayer: ...</td>\n      <td>Inosuke Hashibira : Yoshitsugu Matsuoka, Nezuk...</td>\n      <td>Koyoharu Gotouge : Original Creator, Haruo Sot...</td>\n    </tr>\n    <tr>\n      <th>1</th>\n      <td>2</td>\n      <td>Fruits Basket the Final Season</td>\n      <td>Fruits Basket the Final</td>\n      <td>TV</td>\n      <td>13.0</td>\n      <td>TMS Entertainment</td>\n      <td>Spring</td>\n      <td>Drama, Fantasy, Romance, Shoujo, Animal Transf...</td>\n      <td>4.60</td>\n      <td>2021.0</td>\n      <td>NaN</td>\n      <td>'The final arc of Fruits Basket.'</td>\n      <td>Emotional Abuse,, Mature Themes,, Physical Abu...</td>\n      <td>Fruits Basket, Fruits Basket Another</td>\n      <td>Fruits Basket 1st Season, Fruits Basket 2nd Se...</td>\n      <td>Akito Sohma : Maaya Sakamoto, Kyo Sohma : Yuum...</td>\n      <td>Natsuki Takaya : Original Creator, Yoshihide I...</td>\n    </tr>\n    <tr>\n      <th>2</th>\n      <td>3</td>\n      <td>Mo Dao Zu Shi 3</td>\n      <td>The Founder of Diabolism 3</td>\n      <td>Web</td>\n      <td>12.0</td>\n      <td>B.C MAY PICTURES</td>\n      <td>NaN</td>\n      <td>Fantasy, Ancient China, Chinese Animation, Cul...</td>\n      <td>4.58</td>\n      <td>2021.0</td>\n      <td>NaN</td>\n      <td>'The third season of Mo Dao Zu Shi.'</td>\n      <td>NaN</td>\n      <td>Grandmaster of Demonic Cultivation: Mo Dao Zu ...</td>\n      <td>Mo Dao Zu Shi 2, Mo Dao Zu Shi Q</td>\n      <td>Lan Wangji, Wei Wuxian, Jiang Cheng, Jin Guang...</td>\n      <td>Mo Xiang Tong Xiu : Original Creator, Xiong Ke...</td>\n    </tr>\n    <tr>\n      <th>3</th>\n      <td>4</td>\n      <td>Fullmetal Alchemist: Brotherhood</td>\n      <td>Hagane no Renkinjutsushi: Full Metal Alchemist</td>\n      <td>TV</td>\n      <td>64.0</td>\n      <td>Bones</td>\n      <td>Spring</td>\n      <td>Action, Adventure, Drama, Fantasy, Mystery, Sh...</td>\n      <td>4.58</td>\n      <td>2009.0</td>\n      <td>2010.0</td>\n      <td>\"The foundation of alchemy is based on the law...</td>\n      <td>Animal Abuse,, Mature Themes,, Violence,, Dome...</td>\n      <td>Fullmetal Alchemist, Fullmetal Alchemist (Ligh...</td>\n      <td>Fullmetal Alchemist: Brotherhood Specials, Ful...</td>\n      <td>Alphonse Elric : Rie Kugimiya, Edward Elric : ...</td>\n      <td>Hiromu Arakawa : Original Creator, Yasuhiro Ir...</td>\n    </tr>\n    <tr>\n      <th>4</th>\n      <td>5</td>\n      <td>Attack on Titan 3rd Season: Part II</td>\n      <td>Shingeki no Kyojin Season 3: Part II</td>\n      <td>TV</td>\n      <td>10.0</td>\n      <td>WIT Studio</td>\n      <td>Spring</td>\n      <td>Action, Fantasy, Horror, Shounen, Dark Fantasy...</td>\n      <td>4.57</td>\n      <td>2019.0</td>\n      <td>NaN</td>\n      <td>'The battle to retake Wall Maria begins now! W...</td>\n      <td>Cannibalism,, Explicit Violence</td>\n      <td>Attack on Titan, Attack on Titan: End of the W...</td>\n      <td>Attack on Titan, Attack on Titan 2nd Season, A...</td>\n      <td>Armin Arlelt : Marina Inoue, Eren Jaeger : Yuu...</td>\n      <td>Hajime Isayama : Original Creator, Tetsurou Ar...</td>\n    </tr>\n    <tr>\n      <th>...</th>\n      <td>...</td>\n      <td>...</td>\n      <td>...</td>\n      <td>...</td>\n      <td>...</td>\n      <td>...</td>\n      <td>...</td>\n      <td>...</td>\n      <td>...</td>\n      <td>...</td>\n      <td>...</td>\n      <td>...</td>\n      <td>...</td>\n      <td>...</td>\n      <td>...</td>\n      <td>...</td>\n      <td>...</td>\n    </tr>\n    <tr>\n      <th>18490</th>\n      <td>18491</td>\n      <td>Qin Shi Mingyue: Canghai Hengliu Xiaomeng Spec...</td>\n      <td>NaN</td>\n      <td>Web</td>\n      <td>2.0</td>\n      <td>Sparkly Key Animation Studio</td>\n      <td>NaN</td>\n      <td>Action, Ancient China, Chinese Animation, Hist...</td>\n      <td>NaN</td>\n      <td>2020.0</td>\n      <td>NaN</td>\n      <td>Special episodes of Qin Shi Mingyue: Canghai H...</td>\n      <td>NaN</td>\n      <td>NaN</td>\n      <td>Qin Shi Mingyue: Canghai Hengliu</td>\n      <td>NaN</td>\n      <td>NaN</td>\n    </tr>\n    <tr>\n      <th>18491</th>\n      <td>18492</td>\n      <td>Yi Tang Juchang: Sanguo Yanyi</td>\n      <td>NaN</td>\n      <td>TV</td>\n      <td>108.0</td>\n      <td>NaN</td>\n      <td>NaN</td>\n      <td>Chinese Animation</td>\n      <td>NaN</td>\n      <td>2010.0</td>\n      <td>NaN</td>\n      <td>No synopsis yet - check back soon!</td>\n      <td>NaN</td>\n      <td>NaN</td>\n      <td>NaN</td>\n      <td>NaN</td>\n      <td>NaN</td>\n    </tr>\n    <tr>\n      <th>18492</th>\n      <td>18493</td>\n      <td>Fenghuang Ji Xiang Yu Qingming Shanghe Tu</td>\n      <td>NaN</td>\n      <td>TV</td>\n      <td>13.0</td>\n      <td>NaN</td>\n      <td>NaN</td>\n      <td>Chinese Animation, Family Friendly, Short Epis...</td>\n      <td>NaN</td>\n      <td>2020.0</td>\n      <td>NaN</td>\n      <td>No synopsis yet - check back soon!</td>\n      <td>NaN</td>\n      <td>NaN</td>\n      <td>NaN</td>\n      <td>NaN</td>\n      <td>NaN</td>\n    </tr>\n    <tr>\n      <th>18493</th>\n      <td>18494</td>\n      <td>Chengshi Jiyi Wo Men de Jieri</td>\n      <td>NaN</td>\n      <td>TV</td>\n      <td>NaN</td>\n      <td>NaN</td>\n      <td>NaN</td>\n      <td>Chinese Animation, Family Friendly, Short Epis...</td>\n      <td>NaN</td>\n      <td>2020.0</td>\n      <td>NaN</td>\n      <td>No synopsis yet - check back soon!</td>\n      <td>NaN</td>\n      <td>NaN</td>\n      <td>NaN</td>\n      <td>NaN</td>\n      <td>NaN</td>\n    </tr>\n    <tr>\n      <th>18494</th>\n      <td>18495</td>\n      <td>Heisei Inu Monogatari Bow: Genshi Inu Monogata...</td>\n      <td>NaN</td>\n      <td>Movie</td>\n      <td>NaN</td>\n      <td>Nippon Animation</td>\n      <td>NaN</td>\n      <td>Comedy, Slice of Life, Dogs</td>\n      <td>NaN</td>\n      <td>1994.0</td>\n      <td>NaN</td>\n      <td>No synopsis yet - check back soon!</td>\n      <td>NaN</td>\n      <td>NaN</td>\n      <td>Heisei Inu Monogatari Bow</td>\n      <td>NaN</td>\n      <td>NaN</td>\n    </tr>\n  </tbody>\n</table>\n<p>18495 rows × 17 columns</p>\n</div>"
     },
     "metadata": {}
    }
   ],
   "execution_count": 2
  },
  {
   "cell_type": "code",
   "source": "anime_df.info()",
   "metadata": {
    "cell_id": "139319921c3741f7a4b95ffc1106d1d3",
    "tags": [],
    "deepnote_to_be_reexecuted": false,
    "source_hash": "ce342df7",
    "execution_start": 1650639357004,
    "execution_millis": 17,
    "deepnote_cell_type": "code",
    "deepnote_cell_height": 572
   },
   "outputs": [
    {
     "name": "stdout",
     "text": "<class 'pandas.core.frame.DataFrame'>\nRangeIndex: 18495 entries, 0 to 18494\nData columns (total 17 columns):\n #   Column           Non-Null Count  Dtype  \n---  ------           --------------  -----  \n 0   Rank             18495 non-null  int64  \n 1   Name             18495 non-null  object \n 2   Japanese_name    7938 non-null   object \n 3   Type             18495 non-null  object \n 4   Episodes         9503 non-null   float64\n 5   Studio           12018 non-null  object \n 6   Release_season   4116 non-null   object \n 7   Tags             18095 non-null  object \n 8   Rating           15364 non-null  float64\n 9   Release_year     18112 non-null  float64\n 10  End_year         2854 non-null   float64\n 11  Description      18491 non-null  object \n 12  Content_Warning  1840 non-null   object \n 13  Related_Mange    7627 non-null   object \n 14  Related_anime    10063 non-null  object \n 15  Voice_actors     15309 non-null  object \n 16  staff            13005 non-null  object \ndtypes: float64(4), int64(1), object(12)\nmemory usage: 2.4+ MB\n",
     "output_type": "stream"
    }
   ],
   "execution_count": 3
  },
  {
   "cell_type": "code",
   "source": "anime_df.nunique()",
   "metadata": {
    "cell_id": "33054b9668e24bf1b4ed65532af50486",
    "tags": [],
    "deepnote_to_be_reexecuted": false,
    "source_hash": "4a76a7ef",
    "execution_start": 1650639357023,
    "execution_millis": 70,
    "deepnote_cell_type": "code",
    "deepnote_cell_height": 444.578125,
    "deepnote_output_heights": [
     347.59375
    ]
   },
   "outputs": [
    {
     "output_type": "execute_result",
     "execution_count": 4,
     "data": {
      "text/plain": "Rank               18495\nName               18443\nJapanese_name       7902\nType                   8\nEpisodes             205\nStudio               745\nRelease_season         4\nTags               11799\nRating               289\nRelease_year         103\nEnd_year              60\nDescription        10012\nContent_Warning      208\nRelated_Mange       4151\nRelated_anime       9451\nVoice_actors       13615\nstaff              10559\ndtype: int64"
     },
     "metadata": {}
    }
   ],
   "execution_count": 4
  },
  {
   "cell_type": "code",
   "source": "#filtering for all unnecesary column, only these 5 would have potential to affect rating\nfilteredanime_data = pd.DataFrame(anime_df[[\"Type\",\"Studio\",\"Tags\",\"Rating\",\"Release_year\"]])\nfilteredanime_data.info()",
   "metadata": {
    "cell_id": "fa2c83bf678448269fc8308b53e25874",
    "tags": [],
    "deepnote_to_be_reexecuted": false,
    "source_hash": "bef3d680",
    "execution_start": 1650639357098,
    "execution_millis": 16,
    "deepnote_cell_type": "code",
    "deepnote_cell_height": 368
   },
   "outputs": [
    {
     "name": "stdout",
     "text": "<class 'pandas.core.frame.DataFrame'>\nRangeIndex: 18495 entries, 0 to 18494\nData columns (total 5 columns):\n #   Column        Non-Null Count  Dtype  \n---  ------        --------------  -----  \n 0   Type          18495 non-null  object \n 1   Studio        12018 non-null  object \n 2   Tags          18095 non-null  object \n 3   Rating        15364 non-null  float64\n 4   Release_year  18112 non-null  float64\ndtypes: float64(2), object(3)\nmemory usage: 722.6+ KB\n",
     "output_type": "stream"
    }
   ],
   "execution_count": 5
  },
  {
   "cell_type": "code",
   "source": "#filtering type to only be TV or Movie as this two are the more mainstream types\nfilteredanime_data = filteredanime_data[(filteredanime_data['Type'] == 'TV   ') | (filteredanime_data['Type'] == 'Movie')]",
   "metadata": {
    "cell_id": "f45e179679b940b4a69e6cb7be00caf0",
    "tags": [],
    "deepnote_to_be_reexecuted": false,
    "source_hash": "a96a6dae",
    "execution_start": 1650639357113,
    "execution_millis": 3,
    "deepnote_cell_type": "code",
    "deepnote_cell_height": 99
   },
   "outputs": [],
   "execution_count": 6
  },
  {
   "cell_type": "code",
   "source": "#removing nan from everything as they wont be useful \nfilteredanime_data.replace('', np.nan, inplace=True)\nfilteredanime_data.dropna(subset=['Studio'], inplace=True)\nfilteredanime_data.dropna(subset=['Rating'], inplace=True)\nfilteredanime_data.dropna(subset=['Release_year'], inplace=True)\nfilteredanime_data.dropna(subset=['Tags'], inplace=True)\n",
   "metadata": {
    "cell_id": "3cd4e7bd0d0043dea565c53d92b63dab",
    "tags": [],
    "deepnote_to_be_reexecuted": false,
    "source_hash": "460215ef",
    "execution_start": 1650639357163,
    "execution_millis": 0,
    "deepnote_cell_type": "code",
    "deepnote_cell_height": 189
   },
   "outputs": [],
   "execution_count": 7
  },
  {
   "cell_type": "code",
   "source": "#all the nan has been remove so there shouldnt be any 'missing' catergory\nfilteredanime_data",
   "metadata": {
    "cell_id": "c34b10673ded4e18899b4103eb6d1380",
    "tags": [],
    "deepnote_to_be_reexecuted": false,
    "source_hash": "310d394a",
    "execution_start": 1650639375171,
    "execution_millis": 52,
    "deepnote_cell_type": "code",
    "deepnote_cell_height": 658.796875
   },
   "outputs": [
    {
     "output_type": "execute_result",
     "execution_count": 8,
     "data": {
      "application/vnd.deepnote.dataframe.v3+json": {
       "column_count": 5,
       "row_count": 6056,
       "columns": [
        {
         "name": "Type",
         "dtype": "object",
         "stats": {
          "unique_count": 2,
          "nan_count": 0,
          "categories": [
           {
            "name": "TV   ",
            "count": 4354
           },
           {
            "name": "Movie",
            "count": 1702
           }
          ]
         }
        },
        {
         "name": "Studio",
         "dtype": "object",
         "stats": {
          "unique_count": 493,
          "nan_count": 0,
          "categories": [
           {
            "name": "Toei Animation",
            "count": 500
           },
           {
            "name": "Sunrise",
            "count": 252
           },
           {
            "name": "491 others",
            "count": 5304
           }
          ]
         }
        },
        {
         "name": "Tags",
         "dtype": "object",
         "stats": {
          "unique_count": 4955,
          "nan_count": 0,
          "categories": [
           {
            "name": "Anthropomorphic, Family Friendly, Food Protagonists, Non-Human Protagonists",
            "count": 24
           },
           {
            "name": "Action, Mecha, Sci Fi, Original Work",
            "count": 14
           },
           {
            "name": "4953 others",
            "count": 6018
           }
          ]
         }
        },
        {
         "name": "Rating",
         "dtype": "float64",
         "stats": {
          "unique_count": 247,
          "nan_count": 0,
          "min": "1.3",
          "max": "4.6",
          "histogram": [
           {
            "bin_start": 1.3,
            "bin_end": 1.63,
            "count": 2
           },
           {
            "bin_start": 1.63,
            "bin_end": 1.96,
            "count": 6
           },
           {
            "bin_start": 1.96,
            "bin_end": 2.29,
            "count": 19
           },
           {
            "bin_start": 2.29,
            "bin_end": 2.62,
            "count": 108
           },
           {
            "bin_start": 2.62,
            "bin_end": 2.95,
            "count": 327
           },
           {
            "bin_start": 2.95,
            "bin_end": 3.28,
            "count": 1102
           },
           {
            "bin_start": 3.28,
            "bin_end": 3.6099999999999994,
            "count": 2267
           },
           {
            "bin_start": 3.6099999999999994,
            "bin_end": 3.9399999999999995,
            "count": 1403
           },
           {
            "bin_start": 3.9399999999999995,
            "bin_end": 4.27,
            "count": 666
           },
           {
            "bin_start": 4.27,
            "bin_end": 4.6,
            "count": 156
           }
          ]
         }
        },
        {
         "name": "Release_year",
         "dtype": "float64",
         "stats": {
          "unique_count": 67,
          "nan_count": 0,
          "min": "1956.0",
          "max": "2022.0",
          "histogram": [
           {
            "bin_start": 1956,
            "bin_end": 1962.6,
            "count": 14
           },
           {
            "bin_start": 1962.6,
            "bin_end": 1969.2,
            "count": 78
           },
           {
            "bin_start": 1969.2,
            "bin_end": 1975.8,
            "count": 113
           },
           {
            "bin_start": 1975.8,
            "bin_end": 1982.4,
            "count": 235
           },
           {
            "bin_start": 1982.4,
            "bin_end": 1989,
            "count": 304
           },
           {
            "bin_start": 1989,
            "bin_end": 1995.6,
            "count": 385
           },
           {
            "bin_start": 1995.6,
            "bin_end": 2002.2,
            "count": 644
           },
           {
            "bin_start": 2002.2,
            "bin_end": 2008.8,
            "count": 998
           },
           {
            "bin_start": 2008.8,
            "bin_end": 2015.4,
            "count": 1542
           },
           {
            "bin_start": 2015.4,
            "bin_end": 2022,
            "count": 1743
           }
          ]
         }
        },
        {
         "name": "_deepnote_index_column",
         "dtype": "int64"
        }
       ],
       "rows": [
        {
         "Type": "TV   ",
         "Studio": "ufotable",
         "Tags": "Action, Adventure, Fantasy, Shounen, Demons, Historical, Martial Arts, Orphans, Siblings, Swordplay, Based on a Manga, Explicit Violence",
         "Rating": 4.6,
         "Release_year": 2021,
         "_deepnote_index_column": 0
        },
        {
         "Type": "TV   ",
         "Studio": "TMS Entertainment",
         "Tags": "Drama, Fantasy, Romance, Shoujo, Animal Transformation, Contemporary Fantasy, Curse, Dysfunctional Families, Mental Illness, Orphans, Based on a Manga, Emotional Abuse,, Mature Themes,, Physical Abuse,, Suicide,, Violence,, Domestic Abuse",
         "Rating": 4.6,
         "Release_year": 2021,
         "_deepnote_index_column": 1
        },
        {
         "Type": "TV   ",
         "Studio": "Bones",
         "Tags": "Action, Adventure, Drama, Fantasy, Mystery, Shounen, Conspiracy, Death of a Loved One, Military, Siblings, Based on a Manga, Animal Abuse,, Mature Themes,, Violence,, Domestic Abuse",
         "Rating": 4.58,
         "Release_year": 2009,
         "_deepnote_index_column": 3
        },
        {
         "Type": "TV   ",
         "Studio": "WIT Studio",
         "Tags": "Action, Fantasy, Horror, Shounen, Dark Fantasy, Isolated Society, Military, Outside World, Post-apocalyptic, Based on a Manga, Cannibalism,, Explicit Violence",
         "Rating": 4.57,
         "Release_year": 2019,
         "_deepnote_index_column": 4
        },
        {
         "Type": "TV   ",
         "Studio": "MAPPA",
         "Tags": "Action, Horror, Shounen, Curse, Exorcists, Monsters, School Life, Supernatural, Based on a Manga, Explicit Violence",
         "Rating": 4.56,
         "Release_year": 2020,
         "_deepnote_index_column": 5
        },
        {
         "Type": "TV   ",
         "Studio": "MAPPA",
         "Tags": "Action, Drama, Fantasy, Horror, Shounen, Dark Fantasy, Military, War, Based on a Manga",
         "Rating": 4.56,
         "Release_year": 2022,
         "_deepnote_index_column": 6
        },
        {
         "Type": "TV   ",
         "Studio": "MAPPA",
         "Tags": "Action, Drama, Fantasy, Horror, Shounen, Dark Fantasy, Military, War, Based on a Manga, Explicit Violence,, Mature Themes,, Physical Abuse,, Suicide",
         "Rating": 4.55,
         "Release_year": 2020,
         "_deepnote_index_column": 7
        },
        {
         "Type": "Movie",
         "Studio": "ufotable",
         "Tags": "Action, Drama, Fantasy, Shounen, Demons, Historical, Martial Arts, Orphans, Siblings, Swordplay, Trains, Based on a Manga, Mature Themes,, Suicide,, Violence",
         "Rating": 4.54,
         "Release_year": 2020,
         "_deepnote_index_column": 8
        },
        {
         "Type": "TV   ",
         "Studio": "Production I.G",
         "Tags": "Shounen, Sports, Animeism, School Club, School Life, Tournaments, Volleyball, Based on a Manga",
         "Rating": 4.53,
         "Release_year": 2016,
         "_deepnote_index_column": 9
        },
        {
         "Type": "Movie",
         "Studio": "CoMix Wave Films",
         "Tags": "Drama, Romance, Body Swapping, Gender Bender, Opposites Attract, School Life, Supernatural, Original Work",
         "Rating": 4.51,
         "Release_year": 2016,
         "_deepnote_index_column": 10
        }
       ]
      },
      "text/plain": "        Type             Studio  \\\n0      TV              ufotable   \n1      TV     TMS Entertainment   \n3      TV                 Bones   \n4      TV            WIT Studio   \n5      TV                 MAPPA   \n...      ...                ...   \n15345  Movie              Seven   \n15347  TV           Studio DEEN   \n15352  TV                Bouncy   \n15359  TV        Studio! Cucuri   \n15364  TV         Visual Flight   \n\n                                                    Tags  Rating  Release_year  \n0      Action, Adventure, Fantasy, Shounen, Demons, H...    4.60        2021.0  \n1      Drama, Fantasy, Romance, Shoujo, Animal Transf...    4.60        2021.0  \n3      Action, Adventure, Drama, Fantasy, Mystery, Sh...    4.58        2009.0  \n4      Action, Fantasy, Horror, Shounen, Dark Fantasy...    4.57        2019.0  \n5      Action, Horror, Shounen, Curse, Exorcists, Mon...    4.56        2020.0  \n...                                                  ...     ...           ...  \n15345                 BL, Yaoi, Shorts, Based on a Manga    1.77        2020.0  \n15347  Horror, Shounen, Psychological, Short Episodes...    1.76        2014.0  \n15352  Comedy, Fantasy, Magical Girl, Henshin Heroes,...    1.71        2016.0  \n15359  Comedy, Mystery, Short Episodes, Supernatural,...    1.48        2015.0  \n15364  Action, Sci Fi, Seinen, Androids, Robots, Base...    1.30        2021.0  \n\n[6056 rows x 5 columns]",
      "text/html": "<div>\n<style scoped>\n    .dataframe tbody tr th:only-of-type {\n        vertical-align: middle;\n    }\n\n    .dataframe tbody tr th {\n        vertical-align: top;\n    }\n\n    .dataframe thead th {\n        text-align: right;\n    }\n</style>\n<table border=\"1\" class=\"dataframe\">\n  <thead>\n    <tr style=\"text-align: right;\">\n      <th></th>\n      <th>Type</th>\n      <th>Studio</th>\n      <th>Tags</th>\n      <th>Rating</th>\n      <th>Release_year</th>\n    </tr>\n  </thead>\n  <tbody>\n    <tr>\n      <th>0</th>\n      <td>TV</td>\n      <td>ufotable</td>\n      <td>Action, Adventure, Fantasy, Shounen, Demons, H...</td>\n      <td>4.60</td>\n      <td>2021.0</td>\n    </tr>\n    <tr>\n      <th>1</th>\n      <td>TV</td>\n      <td>TMS Entertainment</td>\n      <td>Drama, Fantasy, Romance, Shoujo, Animal Transf...</td>\n      <td>4.60</td>\n      <td>2021.0</td>\n    </tr>\n    <tr>\n      <th>3</th>\n      <td>TV</td>\n      <td>Bones</td>\n      <td>Action, Adventure, Drama, Fantasy, Mystery, Sh...</td>\n      <td>4.58</td>\n      <td>2009.0</td>\n    </tr>\n    <tr>\n      <th>4</th>\n      <td>TV</td>\n      <td>WIT Studio</td>\n      <td>Action, Fantasy, Horror, Shounen, Dark Fantasy...</td>\n      <td>4.57</td>\n      <td>2019.0</td>\n    </tr>\n    <tr>\n      <th>5</th>\n      <td>TV</td>\n      <td>MAPPA</td>\n      <td>Action, Horror, Shounen, Curse, Exorcists, Mon...</td>\n      <td>4.56</td>\n      <td>2020.0</td>\n    </tr>\n    <tr>\n      <th>...</th>\n      <td>...</td>\n      <td>...</td>\n      <td>...</td>\n      <td>...</td>\n      <td>...</td>\n    </tr>\n    <tr>\n      <th>15345</th>\n      <td>Movie</td>\n      <td>Seven</td>\n      <td>BL, Yaoi, Shorts, Based on a Manga</td>\n      <td>1.77</td>\n      <td>2020.0</td>\n    </tr>\n    <tr>\n      <th>15347</th>\n      <td>TV</td>\n      <td>Studio DEEN</td>\n      <td>Horror, Shounen, Psychological, Short Episodes...</td>\n      <td>1.76</td>\n      <td>2014.0</td>\n    </tr>\n    <tr>\n      <th>15352</th>\n      <td>TV</td>\n      <td>Bouncy</td>\n      <td>Comedy, Fantasy, Magical Girl, Henshin Heroes,...</td>\n      <td>1.71</td>\n      <td>2016.0</td>\n    </tr>\n    <tr>\n      <th>15359</th>\n      <td>TV</td>\n      <td>Studio! Cucuri</td>\n      <td>Comedy, Mystery, Short Episodes, Supernatural,...</td>\n      <td>1.48</td>\n      <td>2015.0</td>\n    </tr>\n    <tr>\n      <th>15364</th>\n      <td>TV</td>\n      <td>Visual Flight</td>\n      <td>Action, Sci Fi, Seinen, Androids, Robots, Base...</td>\n      <td>1.30</td>\n      <td>2021.0</td>\n    </tr>\n  </tbody>\n</table>\n<p>6056 rows × 5 columns</p>\n</div>"
     },
     "metadata": {}
    }
   ],
   "execution_count": 8
  },
  {
   "cell_type": "code",
   "source": "filteredanime_data.info()",
   "metadata": {
    "cell_id": "07649bcd3db0489c80de2d6860d349e0",
    "tags": [],
    "deepnote_to_be_reexecuted": false,
    "source_hash": "abbd77f7",
    "execution_start": 1650639380968,
    "execution_millis": 12,
    "deepnote_cell_type": "code",
    "deepnote_cell_height": 332
   },
   "outputs": [
    {
     "name": "stdout",
     "text": "<class 'pandas.core.frame.DataFrame'>\nInt64Index: 6056 entries, 0 to 15364\nData columns (total 5 columns):\n #   Column        Non-Null Count  Dtype  \n---  ------        --------------  -----  \n 0   Type          6056 non-null   object \n 1   Studio        6056 non-null   object \n 2   Tags          6056 non-null   object \n 3   Rating        6056 non-null   float64\n 4   Release_year  6056 non-null   float64\ndtypes: float64(2), object(3)\nmemory usage: 283.9+ KB\n",
     "output_type": "stream"
    }
   ],
   "execution_count": 9
  },
  {
   "cell_type": "code",
   "source": "filteredanime_data.to_csv('filtered-anime-data.csv')",
   "metadata": {
    "cell_id": "3574c6b3bd404754babb4e06b29efa84",
    "tags": [],
    "deepnote_to_be_reexecuted": false,
    "source_hash": "86c96385",
    "execution_start": 1650639494748,
    "execution_millis": 1,
    "owner_user_id": "21495f3c-e2ad-4bfa-a54d-01ddefef91ba",
    "deepnote_cell_type": "code",
    "deepnote_cell_height": 81
   },
   "outputs": [],
   "execution_count": 10
  },
  {
   "cell_type": "markdown",
   "source": "<a style='text-decoration:none;line-height:16px;display:flex;color:#5B5B62;padding:10px;justify-content:end;' href='https://deepnote.com?utm_source=created-in-deepnote-cell&projectId=84741b16-0348-47d2-95b1-78d2d6dd8ad4' target=\"_blank\">\n<img alt='Created in deepnote.com' style='display:inline;max-height:16px;margin:0px;margin-right:7.5px;' src='data:image/svg+xml;base64,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' > </img>\nCreated in <span style='font-weight:600;margin-left:4px;'>Deepnote</span></a>",
   "metadata": {
    "tags": [],
    "created_in_deepnote_cell": true,
    "deepnote_cell_type": "markdown"
   }
  }
 ],
 "nbformat": 4,
 "nbformat_minor": 2,
 "metadata": {
  "orig_nbformat": 2,
  "deepnote": {},
  "deepnote_notebook_id": "b6ba6569-d8a2-4aee-88e8-00209f644703",
  "deepnote_execution_queue": []
 }
}