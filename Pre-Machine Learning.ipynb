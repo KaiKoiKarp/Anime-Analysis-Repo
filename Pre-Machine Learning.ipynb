{
 "cells": [
  {
   "cell_type": "code",
   "metadata": {
    "tags": [],
    "cell_id": "f1efc85f-33d8-485e-8c43-307c71920af0",
    "deepnote_to_be_reexecuted": false,
    "source_hash": "c0f156a",
    "execution_start": 1650643027062,
    "execution_millis": 1908,
    "deepnote_cell_type": "code",
    "deepnote_cell_height": 243
   },
   "source": "import numpy as np\nimport pandas as pd\nimport seaborn as sb\nimport matplotlib.pyplot as plt\nfrom sklearn.preprocessing import MultiLabelBinarizer\nsb.set()\nfrom sklearn.metrics import confusion_matrix\nfrom sklearn.tree import DecisionTreeClassifier\nfrom sklearn.model_selection import train_test_split\nfrom sklearn.tree import plot_tree",
   "execution_count": 1,
   "outputs": []
  },
  {
   "cell_type": "code",
   "metadata": {
    "cell_id": "6744912c256a4e20827d5ec47b8cccf9",
    "tags": [],
    "deepnote_to_be_reexecuted": false,
    "source_hash": "1d29edd0",
    "execution_start": 1650643028971,
    "execution_millis": 19,
    "deepnote_cell_type": "code",
    "deepnote_cell_height": 81
   },
   "source": "filteredanime_data = pd.read_csv(\"filtered-anime-data.csv\")",
   "execution_count": 2,
   "outputs": []
  },
  {
   "cell_type": "markdown",
   "source": "**Top 15 Studio**",
   "metadata": {
    "cell_id": "fb8b6fcaa82b4a4bbb14e008b818bbd1",
    "tags": [],
    "deepnote_cell_type": "markdown",
    "deepnote_cell_height": 52.390625
   }
  },
  {
   "cell_type": "code",
   "metadata": {
    "cell_id": "df6dc5b17bea49f581df2590cff524b0",
    "tags": [],
    "deepnote_to_be_reexecuted": false,
    "source_hash": "a3717180",
    "execution_start": 1650643028991,
    "execution_millis": 2,
    "owner_user_id": "9a9b2477-80c0-4f61-a098-ff273c018c5e",
    "deepnote_cell_type": "code",
    "deepnote_cell_height": 243,
    "deepnote_output_heights": [
     290
    ]
   },
   "source": "studios = filteredanime_data[\"Studio\"].value_counts()\ntop_15_studios = studios.head(15)\ntop_15_studios = list(top_15_studios.to_dict())\ntop_15_studios\n\n#Only keep top 15 studios\nfilteredanime_data_studio = filteredanime_data.loc[filteredanime_data[\"Studio\"].isin(top_15_studios)]\nfilteredanime_data_studios = filteredanime_data_studio.copy()\nstudio_dict = {k: v for v, k in enumerate(top_15_studios)}\nfilteredanime_data_studios[\"Studio\"] = filteredanime_data_studios[\"Studio\"].map(studio_dict).astype(np.int8)",
   "execution_count": 3,
   "outputs": []
  },
  {
   "cell_type": "markdown",
   "source": "Studio names were change to numeric values to be used as predictors for Decision Tree",
   "metadata": {
    "cell_id": "34c9337cb8354c88bfb0aa2b86e8d762",
    "tags": [],
    "deepnote_cell_type": "markdown",
    "deepnote_cell_height": 52.390625
   }
  },
  {
   "cell_type": "code",
   "metadata": {
    "cell_id": "9e815c9a57694ba7b1b04398dd65746d",
    "tags": [],
    "deepnote_to_be_reexecuted": false,
    "source_hash": "4045730a",
    "execution_start": 1650643029002,
    "execution_millis": 48,
    "deepnote_cell_type": "code",
    "deepnote_cell_height": 600
   },
   "source": "filteredanime_data_studios",
   "execution_count": 4,
   "outputs": [
    {
     "output_type": "execute_result",
     "execution_count": 4,
     "data": {
      "application/vnd.deepnote.dataframe.v3+json": {
       "column_count": 6,
       "row_count": 2650,
       "columns": [
        {
         "name": "Unnamed: 0",
         "dtype": "int64",
         "stats": {
          "unique_count": 2650,
          "nan_count": 0,
          "min": "1",
          "max": "15347",
          "histogram": [
           {
            "bin_start": 1,
            "bin_end": 1535.6,
            "count": 488
           },
           {
            "bin_start": 1535.6,
            "bin_end": 3070.2,
            "count": 452
           },
           {
            "bin_start": 3070.2,
            "bin_end": 4604.799999999999,
            "count": 364
           },
           {
            "bin_start": 4604.799999999999,
            "bin_end": 6139.4,
            "count": 357
           },
           {
            "bin_start": 6139.4,
            "bin_end": 7674,
            "count": 266
           },
           {
            "bin_start": 7674,
            "bin_end": 9208.599999999999,
            "count": 219
           },
           {
            "bin_start": 9208.599999999999,
            "bin_end": 10743.199999999999,
            "count": 189
           },
           {
            "bin_start": 10743.199999999999,
            "bin_end": 12277.8,
            "count": 143
           },
           {
            "bin_start": 12277.8,
            "bin_end": 13812.4,
            "count": 111
           },
           {
            "bin_start": 13812.4,
            "bin_end": 15347,
            "count": 61
           }
          ]
         }
        },
        {
         "name": "Type",
         "dtype": "object",
         "stats": {
          "unique_count": 2,
          "nan_count": 0,
          "categories": [
           {
            "name": "TV   ",
            "count": 1742
           },
           {
            "name": "Movie",
            "count": 908
           }
          ]
         }
        },
        {
         "name": "Studio",
         "dtype": "int8",
         "stats": {
          "unique_count": 15,
          "nan_count": 0,
          "min": "0",
          "max": "14",
          "histogram": [
           {
            "bin_start": 0,
            "bin_end": 1.4,
            "count": 752
           },
           {
            "bin_start": 1.4,
            "bin_end": 2.8,
            "count": 230
           },
           {
            "bin_start": 2.8,
            "bin_end": 4.199999999999999,
            "count": 391
           },
           {
            "bin_start": 4.199999999999999,
            "bin_end": 5.6,
            "count": 172
           },
           {
            "bin_start": 5.6,
            "bin_end": 7,
            "count": 160
           },
           {
            "bin_start": 7,
            "bin_end": 8.399999999999999,
            "count": 295
           },
           {
            "bin_start": 8.399999999999999,
            "bin_end": 9.799999999999999,
            "count": 137
           },
           {
            "bin_start": 9.799999999999999,
            "bin_end": 11.2,
            "count": 251
           },
           {
            "bin_start": 11.2,
            "bin_end": 12.6,
            "count": 106
           },
           {
            "bin_start": 12.6,
            "bin_end": 14,
            "count": 156
           }
          ]
         }
        },
        {
         "name": "Tags",
         "dtype": "object",
         "stats": {
          "unique_count": 2135,
          "nan_count": 0,
          "categories": [
           {
            "name": "Anthropomorphic, Family Friendly, Food Protagonists, Non-Human Protagonists",
            "count": 24
           },
           {
            "name": "Comedy, Crude",
            "count": 10
           },
           {
            "name": "2133 others",
            "count": 2616
           }
          ]
         }
        },
        {
         "name": "Rating",
         "dtype": "float64",
         "stats": {
          "unique_count": 196,
          "nan_count": 0,
          "min": "1.76",
          "max": "4.6",
          "histogram": [
           {
            "bin_start": 1.76,
            "bin_end": 2.044,
            "count": 1
           },
           {
            "bin_start": 2.044,
            "bin_end": 2.328,
            "count": 3
           },
           {
            "bin_start": 2.328,
            "bin_end": 2.612,
            "count": 10
           },
           {
            "bin_start": 2.612,
            "bin_end": 2.896,
            "count": 55
           },
           {
            "bin_start": 2.896,
            "bin_end": 3.1799999999999997,
            "count": 240
           },
           {
            "bin_start": 3.1799999999999997,
            "bin_end": 3.4639999999999995,
            "count": 767
           },
           {
            "bin_start": 3.4639999999999995,
            "bin_end": 3.7479999999999998,
            "count": 840
           },
           {
            "bin_start": 3.7479999999999998,
            "bin_end": 4.032,
            "count": 458
           },
           {
            "bin_start": 4.032,
            "bin_end": 4.316,
            "count": 233
           },
           {
            "bin_start": 4.316,
            "bin_end": 4.6,
            "count": 43
           }
          ]
         }
        },
        {
         "name": "Release_year",
         "dtype": "float64",
         "stats": {
          "unique_count": 67,
          "nan_count": 0,
          "min": "1956.0",
          "max": "2022.0",
          "histogram": [
           {
            "bin_start": 1956,
            "bin_end": 1962.6,
            "count": 9
           },
           {
            "bin_start": 1962.6,
            "bin_end": 1969.2,
            "count": 40
           },
           {
            "bin_start": 1969.2,
            "bin_end": 1975.8,
            "count": 82
           },
           {
            "bin_start": 1975.8,
            "bin_end": 1982.4,
            "count": 181
           },
           {
            "bin_start": 1982.4,
            "bin_end": 1989,
            "count": 208
           },
           {
            "bin_start": 1989,
            "bin_end": 1995.6,
            "count": 235
           },
           {
            "bin_start": 1995.6,
            "bin_end": 2002.2,
            "count": 353
           },
           {
            "bin_start": 2002.2,
            "bin_end": 2008.8,
            "count": 457
           },
           {
            "bin_start": 2008.8,
            "bin_end": 2015.4,
            "count": 595
           },
           {
            "bin_start": 2015.4,
            "bin_end": 2022,
            "count": 490
           }
          ]
         }
        },
        {
         "name": "_deepnote_index_column",
         "dtype": "int64"
        }
       ],
       "rows": [
        {
         "Unnamed: 0": 1,
         "Type": "TV   ",
         "Studio": 2,
         "Tags": "Drama, Fantasy, Romance, Shoujo, Animal Transformation, Contemporary Fantasy, Curse, Dysfunctional Families, Mental Illness, Orphans, Based on a Manga, Emotional Abuse,, Mature Themes,, Physical Abuse,, Suicide,, Violence,, Domestic Abuse",
         "Rating": 4.6,
         "Release_year": 2021,
         "_deepnote_index_column": 1
        },
        {
         "Unnamed: 0": 3,
         "Type": "TV   ",
         "Studio": 13,
         "Tags": "Action, Adventure, Drama, Fantasy, Mystery, Shounen, Conspiracy, Death of a Loved One, Military, Siblings, Based on a Manga, Animal Abuse,, Mature Themes,, Violence,, Domestic Abuse",
         "Rating": 4.58,
         "Release_year": 2009,
         "_deepnote_index_column": 2
        },
        {
         "Unnamed: 0": 9,
         "Type": "TV   ",
         "Studio": 8,
         "Tags": "Shounen, Sports, Animeism, School Club, School Life, Tournaments, Volleyball, Based on a Manga",
         "Rating": 4.53,
         "Release_year": 2016,
         "_deepnote_index_column": 8
        },
        {
         "Unnamed: 0": 11,
         "Type": "TV   ",
         "Studio": 8,
         "Tags": "Shounen, Sports, School Club, School Life, Tournaments, Volleyball, Based on a Manga",
         "Rating": 4.51,
         "Release_year": 2015,
         "_deepnote_index_column": 10
        },
        {
         "Unnamed: 0": 13,
         "Type": "TV   ",
         "Studio": 3,
         "Tags": "Action, Adventure, Drama, Fantasy, Shounen, Monsters, Superpowers, Based on a Manga, Violence",
         "Rating": 4.51,
         "Release_year": 2011,
         "_deepnote_index_column": 12
        },
        {
         "Unnamed: 0": 16,
         "Type": "TV   ",
         "Studio": 8,
         "Tags": "Shounen, Sports, Animeism, School Club, Tournaments, Volleyball, Based on a Manga",
         "Rating": 4.5,
         "Release_year": 2020,
         "_deepnote_index_column": 15
        },
        {
         "Unnamed: 0": 20,
         "Type": "TV   ",
         "Studio": 1,
         "Tags": "Mecha, Sci Fi, Conspiracy, Mind Games, Overpowered Main Characters, Political, Psychological, Real Robot, Rebellions, Rivalries, Royalty, Secret Identity, Superpowers, Terrorism, Original Work",
         "Rating": 4.47,
         "Release_year": 2008,
         "_deepnote_index_column": 18
        },
        {
         "Unnamed: 0": 24,
         "Type": "TV   ",
         "Studio": 13,
         "Tags": "Action, Comedy, Exorcists, Psychic Powers, Psychological, School Life, Supernatural, Superpowers, Based on a Manga, Violence",
         "Rating": 4.46,
         "Release_year": 2019,
         "_deepnote_index_column": 20
        },
        {
         "Unnamed: 0": 25,
         "Type": "TV   ",
         "Studio": 8,
         "Tags": "Shounen, Sports, Animeism, School Club, Tournaments, Volleyball, Based on a Manga",
         "Rating": 4.46,
         "Release_year": 2020,
         "_deepnote_index_column": 21
        },
        {
         "Unnamed: 0": 36,
         "Type": "TV   ",
         "Studio": 1,
         "Tags": "Action, Comedy, Drama, Sci Fi, Shounen, Aliens, Crude, Feudal Japan, Gag, Parody, Samurai, Slapstick, Swordplay, Based on a Manga",
         "Rating": 4.44,
         "Release_year": 2012,
         "_deepnote_index_column": 30
        }
       ]
      },
      "text/plain": "      Unnamed: 0   Type  Studio  \\\n1              1  TV          2   \n2              3  TV         13   \n8              9  TV          8   \n10            11  TV          8   \n12            13  TV          3   \n...          ...    ...     ...   \n6020       15184  TV         14   \n6023       15195  TV          4   \n6029       15217  TV          9   \n6037       15282  Movie       4   \n6052       15347  TV          4   \n\n                                                   Tags  Rating  Release_year  \n1     Drama, Fantasy, Romance, Shoujo, Animal Transf...    4.60        2021.0  \n2     Action, Adventure, Drama, Fantasy, Mystery, Sh...    4.58        2009.0  \n8     Shounen, Sports, Animeism, School Club, School...    4.53        2016.0  \n10    Shounen, Sports, School Club, School Life, Tou...    4.51        2015.0  \n12    Action, Adventure, Drama, Fantasy, Shounen, Mo...    4.51        2011.0  \n...                                                 ...     ...           ...  \n6020  Comedy, Fantasy, Harem, Breaking the Fourth Wa...    2.34        2018.0  \n6023  Comedy, Horror, Mystery, Chibi, Gag, Monsters,...    2.32        2016.0  \n6029  Slice of Life, Music, Showbiz, Based on an Oto...    2.28        2017.0  \n6037  Horror, Mystery, Countryside, Monsters, Based ...    2.15        2017.0  \n6052  Horror, Shounen, Psychological, Short Episodes...    1.76        2014.0  \n\n[2650 rows x 6 columns]",
      "text/html": "<div>\n<style scoped>\n    .dataframe tbody tr th:only-of-type {\n        vertical-align: middle;\n    }\n\n    .dataframe tbody tr th {\n        vertical-align: top;\n    }\n\n    .dataframe thead th {\n        text-align: right;\n    }\n</style>\n<table border=\"1\" class=\"dataframe\">\n  <thead>\n    <tr style=\"text-align: right;\">\n      <th></th>\n      <th>Unnamed: 0</th>\n      <th>Type</th>\n      <th>Studio</th>\n      <th>Tags</th>\n      <th>Rating</th>\n      <th>Release_year</th>\n    </tr>\n  </thead>\n  <tbody>\n    <tr>\n      <th>1</th>\n      <td>1</td>\n      <td>TV</td>\n      <td>2</td>\n      <td>Drama, Fantasy, Romance, Shoujo, Animal Transf...</td>\n      <td>4.60</td>\n      <td>2021.0</td>\n    </tr>\n    <tr>\n      <th>2</th>\n      <td>3</td>\n      <td>TV</td>\n      <td>13</td>\n      <td>Action, Adventure, Drama, Fantasy, Mystery, Sh...</td>\n      <td>4.58</td>\n      <td>2009.0</td>\n    </tr>\n    <tr>\n      <th>8</th>\n      <td>9</td>\n      <td>TV</td>\n      <td>8</td>\n      <td>Shounen, Sports, Animeism, School Club, School...</td>\n      <td>4.53</td>\n      <td>2016.0</td>\n    </tr>\n    <tr>\n      <th>10</th>\n      <td>11</td>\n      <td>TV</td>\n      <td>8</td>\n      <td>Shounen, Sports, School Club, School Life, Tou...</td>\n      <td>4.51</td>\n      <td>2015.0</td>\n    </tr>\n    <tr>\n      <th>12</th>\n      <td>13</td>\n      <td>TV</td>\n      <td>3</td>\n      <td>Action, Adventure, Drama, Fantasy, Shounen, Mo...</td>\n      <td>4.51</td>\n      <td>2011.0</td>\n    </tr>\n    <tr>\n      <th>...</th>\n      <td>...</td>\n      <td>...</td>\n      <td>...</td>\n      <td>...</td>\n      <td>...</td>\n      <td>...</td>\n    </tr>\n    <tr>\n      <th>6020</th>\n      <td>15184</td>\n      <td>TV</td>\n      <td>14</td>\n      <td>Comedy, Fantasy, Harem, Breaking the Fourth Wa...</td>\n      <td>2.34</td>\n      <td>2018.0</td>\n    </tr>\n    <tr>\n      <th>6023</th>\n      <td>15195</td>\n      <td>TV</td>\n      <td>4</td>\n      <td>Comedy, Horror, Mystery, Chibi, Gag, Monsters,...</td>\n      <td>2.32</td>\n      <td>2016.0</td>\n    </tr>\n    <tr>\n      <th>6029</th>\n      <td>15217</td>\n      <td>TV</td>\n      <td>9</td>\n      <td>Slice of Life, Music, Showbiz, Based on an Oto...</td>\n      <td>2.28</td>\n      <td>2017.0</td>\n    </tr>\n    <tr>\n      <th>6037</th>\n      <td>15282</td>\n      <td>Movie</td>\n      <td>4</td>\n      <td>Horror, Mystery, Countryside, Monsters, Based ...</td>\n      <td>2.15</td>\n      <td>2017.0</td>\n    </tr>\n    <tr>\n      <th>6052</th>\n      <td>15347</td>\n      <td>TV</td>\n      <td>4</td>\n      <td>Horror, Shounen, Psychological, Short Episodes...</td>\n      <td>1.76</td>\n      <td>2014.0</td>\n    </tr>\n  </tbody>\n</table>\n<p>2650 rows × 6 columns</p>\n</div>"
     },
     "metadata": {}
    }
   ]
  },
  {
   "cell_type": "markdown",
   "source": "**Rating**",
   "metadata": {
    "cell_id": "edd81f74a1f3491f8b671bfbda96ddb6",
    "tags": [],
    "deepnote_cell_type": "markdown",
    "deepnote_cell_height": 52.390625
   }
  },
  {
   "cell_type": "code",
   "metadata": {
    "cell_id": "afab8ce708ca4d548dd3c9e2866d6707",
    "tags": [],
    "deepnote_to_be_reexecuted": false,
    "source_hash": "2147ff24",
    "execution_start": 1650643029047,
    "execution_millis": 2,
    "deepnote_cell_type": "code",
    "deepnote_cell_height": 117
   },
   "source": "ratings = [\"Poor (0, 3.29]\", \"Below Average (3.29 - 3.46]\", \"Average (3.46 - 3.62]\", \"Above Average (3.62, 3.84]\", \"Good (3.84, 5.0]\"]\nfilteredanime_data_studios[\"Rating Category\"] = pd.cut(x = filteredanime_data_studios.Rating, bins = [0, 3, 3.3, 3.6, 4, 5], labels = ratings)\nratings = [\"Poor (0, 3]\", \"Below Average (3 - 3.3]\", \"Average (3.3 - 3.6]\", \"Above Average (3.6, 4]\", \"Good (4, 5.0]\"]",
   "execution_count": 5,
   "outputs": []
  },
  {
   "cell_type": "markdown",
   "source": "Ratings are converted to categorical data by grouping a range of ratings together",
   "metadata": {
    "cell_id": "43ec48d0af2a497b9f9748e70e154c8b",
    "tags": [],
    "deepnote_cell_type": "markdown",
    "deepnote_cell_height": 52.390625
   }
  },
  {
   "cell_type": "code",
   "metadata": {
    "cell_id": "be997154c6ad465fbe1182dd283cad7e",
    "tags": [],
    "deepnote_to_be_reexecuted": false,
    "source_hash": "2928ef3e",
    "execution_start": 1650643029049,
    "execution_millis": 52,
    "deepnote_cell_type": "code",
    "deepnote_cell_height": 230
   },
   "source": "filteredanime_data_studios = filteredanime_data_studios[['Studio', 'Rating Category']].copy()\nprint(filteredanime_data_studios.head())",
   "execution_count": 6,
   "outputs": [
    {
     "name": "stdout",
     "text": "    Studio   Rating Category\n1        2  Good (3.84, 5.0]\n2       13  Good (3.84, 5.0]\n8        8  Good (3.84, 5.0]\n10       8  Good (3.84, 5.0]\n12       3  Good (3.84, 5.0]\n",
     "output_type": "stream"
    }
   ]
  },
  {
   "cell_type": "code",
   "metadata": {
    "cell_id": "3259e43cbc8b463d874e12db876bd716",
    "tags": [],
    "deepnote_to_be_reexecuted": false,
    "source_hash": "4045730a",
    "execution_start": 1650643029097,
    "execution_millis": 5,
    "deepnote_table_state": {
     "pageSize": 10,
     "pageIndex": 0,
     "filters": [
      {
       "id": "Studio",
       "value": "",
       "type": "contains"
      }
     ],
     "sortBy": [
      {
       "id": "Studio",
       "type": "asc"
      }
     ]
    },
    "deepnote_table_loading": false,
    "deepnote_cell_type": "code",
    "deepnote_cell_height": 660
   },
   "source": "filteredanime_data_studios",
   "execution_count": 7,
   "outputs": [
    {
     "output_type": "execute_result",
     "execution_count": 7,
     "data": {
      "application/vnd.deepnote.dataframe.v3+json": {
       "column_count": 2,
       "row_count": 2650,
       "columns": [
        {
         "name": "Studio",
         "dtype": "int8",
         "stats": {
          "unique_count": 15,
          "nan_count": 0,
          "min": "0",
          "max": "14",
          "histogram": [
           {
            "bin_start": 0,
            "bin_end": 1.4,
            "count": 752
           },
           {
            "bin_start": 1.4,
            "bin_end": 2.8,
            "count": 230
           },
           {
            "bin_start": 2.8,
            "bin_end": 4.199999999999999,
            "count": 391
           },
           {
            "bin_start": 4.199999999999999,
            "bin_end": 5.6,
            "count": 172
           },
           {
            "bin_start": 5.6,
            "bin_end": 7,
            "count": 160
           },
           {
            "bin_start": 7,
            "bin_end": 8.399999999999999,
            "count": 295
           },
           {
            "bin_start": 8.399999999999999,
            "bin_end": 9.799999999999999,
            "count": 137
           },
           {
            "bin_start": 9.799999999999999,
            "bin_end": 11.2,
            "count": 251
           },
           {
            "bin_start": 11.2,
            "bin_end": 12.6,
            "count": 106
           },
           {
            "bin_start": 12.6,
            "bin_end": 14,
            "count": 156
           }
          ]
         }
        },
        {
         "name": "Rating Category",
         "dtype": "category",
         "stats": {
          "unique_count": 5,
          "nan_count": 0,
          "categories": [
           {
            "name": "Average (3.46 - 3.62]",
            "count": 987
           },
           {
            "name": "Above Average (3.62, 3.84]",
            "count": 781
           },
           {
            "name": "3 others",
            "count": 882
           }
          ]
         }
        },
        {
         "name": "_deepnote_index_column",
         "dtype": "int64"
        }
       ],
       "rows": [
        {
         "Studio": 0,
         "Rating Category": "Average (3.46 - 3.62]",
         "_deepnote_index_column": 2722
        },
        {
         "Studio": 0,
         "Rating Category": "Average (3.46 - 3.62]",
         "_deepnote_index_column": 3238
        },
        {
         "Studio": 0,
         "Rating Category": "Average (3.46 - 3.62]",
         "_deepnote_index_column": 3230
        },
        {
         "Studio": 0,
         "Rating Category": "Above Average (3.62, 3.84]",
         "_deepnote_index_column": 1119
        },
        {
         "Studio": 0,
         "Rating Category": "Above Average (3.62, 3.84]",
         "_deepnote_index_column": 1130
        },
        {
         "Studio": 0,
         "Rating Category": "Average (3.46 - 3.62]",
         "_deepnote_index_column": 3207
        },
        {
         "Studio": 0,
         "Rating Category": "Average (3.46 - 3.62]",
         "_deepnote_index_column": 3205
        },
        {
         "Studio": 0,
         "Rating Category": "Average (3.46 - 3.62]",
         "_deepnote_index_column": 3198
        },
        {
         "Studio": 0,
         "Rating Category": "Average (3.46 - 3.62]",
         "_deepnote_index_column": 3196
        },
        {
         "Studio": 0,
         "Rating Category": "Average (3.46 - 3.62]",
         "_deepnote_index_column": 3189
        }
       ]
      },
      "text/plain": "      Studio   Rating Category\n1          2  Good (3.84, 5.0]\n2         13  Good (3.84, 5.0]\n8          8  Good (3.84, 5.0]\n10         8  Good (3.84, 5.0]\n12         3  Good (3.84, 5.0]\n...      ...               ...\n6020      14    Poor (0, 3.29]\n6023       4    Poor (0, 3.29]\n6029       9    Poor (0, 3.29]\n6037       4    Poor (0, 3.29]\n6052       4    Poor (0, 3.29]\n\n[2650 rows x 2 columns]",
      "text/html": "<div>\n<style scoped>\n    .dataframe tbody tr th:only-of-type {\n        vertical-align: middle;\n    }\n\n    .dataframe tbody tr th {\n        vertical-align: top;\n    }\n\n    .dataframe thead th {\n        text-align: right;\n    }\n</style>\n<table border=\"1\" class=\"dataframe\">\n  <thead>\n    <tr style=\"text-align: right;\">\n      <th></th>\n      <th>Studio</th>\n      <th>Rating Category</th>\n    </tr>\n  </thead>\n  <tbody>\n    <tr>\n      <th>1</th>\n      <td>2</td>\n      <td>Good (3.84, 5.0]</td>\n    </tr>\n    <tr>\n      <th>2</th>\n      <td>13</td>\n      <td>Good (3.84, 5.0]</td>\n    </tr>\n    <tr>\n      <th>8</th>\n      <td>8</td>\n      <td>Good (3.84, 5.0]</td>\n    </tr>\n    <tr>\n      <th>10</th>\n      <td>8</td>\n      <td>Good (3.84, 5.0]</td>\n    </tr>\n    <tr>\n      <th>12</th>\n      <td>3</td>\n      <td>Good (3.84, 5.0]</td>\n    </tr>\n    <tr>\n      <th>...</th>\n      <td>...</td>\n      <td>...</td>\n    </tr>\n    <tr>\n      <th>6020</th>\n      <td>14</td>\n      <td>Poor (0, 3.29]</td>\n    </tr>\n    <tr>\n      <th>6023</th>\n      <td>4</td>\n      <td>Poor (0, 3.29]</td>\n    </tr>\n    <tr>\n      <th>6029</th>\n      <td>9</td>\n      <td>Poor (0, 3.29]</td>\n    </tr>\n    <tr>\n      <th>6037</th>\n      <td>4</td>\n      <td>Poor (0, 3.29]</td>\n    </tr>\n    <tr>\n      <th>6052</th>\n      <td>4</td>\n      <td>Poor (0, 3.29]</td>\n    </tr>\n  </tbody>\n</table>\n<p>2650 rows × 2 columns</p>\n</div>"
     },
     "metadata": {}
    }
   ]
  },
  {
   "cell_type": "markdown",
   "source": "**Studio against Rating**",
   "metadata": {
    "cell_id": "2da40fd001c14187bfe840b85c29f182",
    "tags": [],
    "deepnote_cell_type": "markdown",
    "deepnote_cell_height": 52.390625
   }
  },
  {
   "cell_type": "code",
   "metadata": {
    "cell_id": "e1e0a82469154f7db9961f162e7acfa7",
    "tags": [],
    "deepnote_to_be_reexecuted": false,
    "source_hash": "1f8c1e50",
    "execution_start": 1650643029098,
    "execution_millis": 1019,
    "deepnote_cell_type": "code",
    "deepnote_cell_height": 995.953125,
    "deepnote_output_heights": [
     null,
     21,
     304.78125
    ]
   },
   "source": "top_15_rating_tree = pd.DataFrame(filteredanime_data_studios['Rating Category'])\ntop_15_studio_tree = pd.DataFrame(filteredanime_data_studios['Studio'])\ntop_15_rating_train, top_15_rating_test, top_15_studio_train, top_15_studio_test = train_test_split(top_15_rating_tree, top_15_studio_tree, test_size = 0.2)\n\ndectree_studios = DecisionTreeClassifier(max_depth = 6)\ndectree_studios.fit(top_15_studio_train, top_15_rating_train)\n\ntop_15_rating_train_pred = dectree_studios.predict(top_15_studio_train)\ntop_15_rating_test_pred = dectree_studios.predict(top_15_studio_test)\n\nprint(\"Goodness of Fit of Model \\tTrain Dataset\")\nprint(\"Classification Accuracy \\t:\", dectree_studios.score(top_15_studio_train, top_15_rating_train))\nprint()\n\nprint(\"Goodness of Fit of Model \\tTest Dataset\")\nprint(\"Classification Accuracy \\t:\", dectree_studios.score(top_15_studio_test, top_15_rating_test))\nprint()\n\nf, axes = plt.subplots(1, 2, figsize=(30, 10))\nsb.heatmap(confusion_matrix(top_15_rating_train, top_15_rating_train_pred),\n           annot = True, fmt=\".0f\", annot_kws={\"size\": 18}, ax = axes[0])\nsb.heatmap(confusion_matrix(top_15_rating_test, top_15_rating_test_pred), \n           annot = True, fmt=\".0f\", annot_kws={\"size\": 18}, ax = axes[1])",
   "execution_count": 8,
   "outputs": [
    {
     "name": "stdout",
     "text": "Goodness of Fit of Model \tTrain Dataset\nClassification Accuracy \t: 0.42641509433962266\n\nGoodness of Fit of Model \tTest Dataset\nClassification Accuracy \t: 0.4\n\n",
     "output_type": "stream"
    },
    {
     "output_type": "execute_result",
     "execution_count": 8,
     "data": {
      "text/plain": "<AxesSubplot:>"
     },
     "metadata": {}
    },
    {
     "data": {
      "text/plain": "<Figure size 2160x720 with 4 Axes>",
      "image/png": "[encoded data removed]"
     },
     "metadata": {
      "image/png": {
       "width": 1651,
       "height": 577
      }
     },
     "output_type": "display_data"
    }
   ]
  },
  {
   "cell_type": "code",
   "metadata": {
    "cell_id": "05511516dde542acb05eaefc8d56c99a",
    "tags": [],
    "deepnote_to_be_reexecuted": false,
    "source_hash": "16460d7e",
    "execution_start": 1650643029999,
    "execution_millis": 1817,
    "deepnote_cell_type": "code",
    "deepnote_cell_height": 1046,
    "deepnote_output_heights": [
     525,
     287.21875
    ]
   },
   "source": "f = plt.figure(figsize=(36,12))\n#added precision to round off the number\nplot_tree(dectree_studios, filled=True, rounded=True,precision=0, \n          feature_names=[\"Studio\"], \n          class_names=[\"Poor (0, 3]\", \"Below Average (3 - 3.3]\", \"Average (3.3 - 3.6]\", \"Above Average (3.6, 4]\", \"Good (4, 5.0]\"])",
   "execution_count": 9,
   "outputs": [
    {
     "output_type": "execute_result",
     "execution_count": 9,
     "data": {
      "text/plain": "[Text(0.4605263157894737, 0.9285714285714286, 'Studio <= 0.0\\ngini = 1.0\\nsamples = 2120\\nvalue = [627, 785, 371, 237, 100]\\nclass = Below Average (3 - 3.3]'),\n Text(0.40789473684210525, 0.7857142857142857, 'gini = 1.0\\nsamples = 401\\nvalue = [95, 186, 89, 13, 18]\\nclass = Below Average (3 - 3.3]'),\n Text(0.5131578947368421, 0.7857142857142857, 'Studio <= 8.0\\ngini = 1.0\\nsamples = 1719\\nvalue = [532, 599, 282, 224, 82]\\nclass = Below Average (3 - 3.3]'),\n Text(0.34210526315789475, 0.6428571428571429, 'Studio <= 6.0\\ngini = 1.0\\nsamples = 1101\\nvalue = [336, 422, 172, 116, 55]\\nclass = Below Average (3 - 3.3]'),\n Text(0.21052631578947367, 0.5, 'Studio <= 2.0\\ngini = 1.0\\nsamples = 841\\nvalue = [270, 273, 138, 112, 48]\\nclass = Below Average (3 - 3.3]'),\n Text(0.10526315789473684, 0.35714285714285715, 'Studio <= 2.0\\ngini = 1.0\\nsamples = 392\\nvalue = [122, 159, 61, 38, 12]\\nclass = Below Average (3 - 3.3]'),\n Text(0.05263157894736842, 0.21428571428571427, 'gini = 1.0\\nsamples = 198\\nvalue = [72, 65, 35, 15, 11]\\nclass = Poor (0, 3]'),\n Text(0.15789473684210525, 0.21428571428571427, 'gini = 1.0\\nsamples = 194\\nvalue = [50, 94, 26, 23, 1]\\nclass = Below Average (3 - 3.3]'),\n Text(0.3157894736842105, 0.35714285714285715, 'Studio <= 4.0\\ngini = 1.0\\nsamples = 449\\nvalue = [148, 114, 77, 74, 36]\\nclass = Poor (0, 3]'),\n Text(0.2631578947368421, 0.21428571428571427, 'gini = 1.0\\nsamples = 164\\nvalue = [39, 48, 29, 39, 9]\\nclass = Below Average (3 - 3.3]'),\n Text(0.3684210526315789, 0.21428571428571427, 'Studio <= 4.0\\ngini = 1.0\\nsamples = 285\\nvalue = [109, 66, 48, 35, 27]\\nclass = Poor (0, 3]'),\n Text(0.3157894736842105, 0.07142857142857142, 'gini = 1.0\\nsamples = 148\\nvalue = [51, 33, 30, 18, 16]\\nclass = Poor (0, 3]'),\n Text(0.42105263157894735, 0.07142857142857142, 'gini = 1.0\\nsamples = 137\\nvalue = [58, 33, 18, 17, 11]\\nclass = Poor (0, 3]'),\n Text(0.47368421052631576, 0.5, 'Studio <= 6.0\\ngini = 1.0\\nsamples = 260\\nvalue = [66, 149, 34, 4, 7]\\nclass = Below Average (3 - 3.3]'),\n Text(0.42105263157894735, 0.35714285714285715, 'gini = 1.0\\nsamples = 129\\nvalue = [35, 83, 7, 1, 3]\\nclass = Below Average (3 - 3.3]'),\n Text(0.5263157894736842, 0.35714285714285715, 'gini = 1.0\\nsamples = 131\\nvalue = [31, 66, 27, 3, 4]\\nclass = Below Average (3 - 3.3]'),\n Text(0.6842105263157895, 0.6428571428571429, 'Studio <= 8.0\\ngini = 1.0\\nsamples = 618\\nvalue = [196, 177, 110, 108, 27]\\nclass = Poor (0, 3]'),\n Text(0.631578947368421, 0.5, 'gini = 1.0\\nsamples = 107\\nvalue = [38, 16, 12, 39, 2]\\nclass = Above Average (3.6, 4]'),\n Text(0.7368421052631579, 0.5, 'Studio <= 10.0\\ngini = 1.0\\nsamples = 511\\nvalue = [158, 161, 98, 69, 25]\\nclass = Below Average (3 - 3.3]'),\n Text(0.631578947368421, 0.35714285714285715, 'Studio <= 10.0\\ngini = 1.0\\nsamples = 208\\nvalue = [55, 85, 47, 10, 11]\\nclass = Below Average (3 - 3.3]'),\n Text(0.5789473684210527, 0.21428571428571427, 'gini = 1.0\\nsamples = 111\\nvalue = [41, 37, 15, 9, 9]\\nclass = Poor (0, 3]'),\n Text(0.6842105263157895, 0.21428571428571427, 'gini = 1.0\\nsamples = 97\\nvalue = [14, 48, 32, 1, 2]\\nclass = Below Average (3 - 3.3]'),\n Text(0.8421052631578947, 0.35714285714285715, 'Studio <= 12.0\\ngini = 1.0\\nsamples = 303\\nvalue = [103, 76, 51, 59, 14]\\nclass = Poor (0, 3]'),\n Text(0.7894736842105263, 0.21428571428571427, 'gini = 1.0\\nsamples = 96\\nvalue = [40, 14, 10, 32, 0]\\nclass = Poor (0, 3]'),\n Text(0.8947368421052632, 0.21428571428571427, 'Studio <= 12.0\\ngini = 1.0\\nsamples = 207\\nvalue = [63, 62, 41, 27, 14]\\nclass = Poor (0, 3]'),\n Text(0.8421052631578947, 0.07142857142857142, 'gini = 1.0\\nsamples = 81\\nvalue = [18, 33, 25, 1, 4]\\nclass = Below Average (3 - 3.3]'),\n Text(0.9473684210526315, 0.07142857142857142, 'gini = 1.0\\nsamples = 126\\nvalue = [45, 29, 16, 26, 10]\\nclass = Poor (0, 3]')]"
     },
     "metadata": {}
    },
    {
     "data": {
      "text/plain": "<Figure size 2592x864 with 1 Axes>",
      "image/png": "[encoded data removed]"
     },
     "metadata": {
      "image/png": {
       "width": 2023,
       "height": 666
      }
     },
     "output_type": "display_data"
    }
   ]
  },
  {
   "cell_type": "code",
   "metadata": {
    "cell_id": "569419a1731b44b0a233485095daa6ba",
    "tags": [],
    "deepnote_to_be_reexecuted": false,
    "source_hash": "e3980227",
    "execution_start": 1650643031813,
    "execution_millis": 17,
    "deepnote_cell_type": "code",
    "deepnote_cell_height": 267
   },
   "source": "accuracy_train = [['Studio', dectree_studios.score(top_15_studio_train, top_15_rating_train)]]\naccuracy_train_scores_studios = pd.DataFrame(accuracy_train, columns = ['Category', 'Accuracy Score'])\naccuracy_train_scores_studios",
   "execution_count": 10,
   "outputs": [
    {
     "output_type": "execute_result",
     "execution_count": 10,
     "data": {
      "application/vnd.deepnote.dataframe.v3+json": {
       "column_count": 2,
       "row_count": 1,
       "columns": [
        {
         "name": "Category",
         "dtype": "object",
         "stats": {
          "unique_count": 1,
          "nan_count": 0,
          "categories": [
           {
            "name": "Studio",
            "count": 1
           }
          ]
         }
        },
        {
         "name": "Accuracy Score",
         "dtype": "float64",
         "stats": {
          "unique_count": 1,
          "nan_count": 0,
          "min": "0.42641509433962266",
          "max": "0.42641509433962266",
          "histogram": [
           {
            "bin_start": -0.07358490566037734,
            "bin_end": 0.026415094339622663,
            "count": 0
           },
           {
            "bin_start": 0.026415094339622663,
            "bin_end": 0.12641509433962267,
            "count": 0
           },
           {
            "bin_start": 0.12641509433962267,
            "bin_end": 0.2264150943396227,
            "count": 0
           },
           {
            "bin_start": 0.2264150943396227,
            "bin_end": 0.3264150943396227,
            "count": 0
           },
           {
            "bin_start": 0.3264150943396227,
            "bin_end": 0.42641509433962266,
            "count": 0
           },
           {
            "bin_start": 0.42641509433962266,
            "bin_end": 0.5264150943396227,
            "count": 1
           },
           {
            "bin_start": 0.5264150943396227,
            "bin_end": 0.6264150943396227,
            "count": 0
           },
           {
            "bin_start": 0.6264150943396227,
            "bin_end": 0.7264150943396227,
            "count": 0
           },
           {
            "bin_start": 0.7264150943396227,
            "bin_end": 0.8264150943396227,
            "count": 0
           },
           {
            "bin_start": 0.8264150943396227,
            "bin_end": 0.9264150943396227,
            "count": 0
           }
          ]
         }
        },
        {
         "name": "_deepnote_index_column",
         "dtype": "int64"
        }
       ],
       "rows": [
        {
         "Category": "Studio",
         "Accuracy Score": 0.42641509433962266,
         "_deepnote_index_column": 0
        }
       ]
      },
      "text/plain": "  Category  Accuracy Score\n0   Studio        0.426415",
      "text/html": "<div>\n<style scoped>\n    .dataframe tbody tr th:only-of-type {\n        vertical-align: middle;\n    }\n\n    .dataframe tbody tr th {\n        vertical-align: top;\n    }\n\n    .dataframe thead th {\n        text-align: right;\n    }\n</style>\n<table border=\"1\" class=\"dataframe\">\n  <thead>\n    <tr style=\"text-align: right;\">\n      <th></th>\n      <th>Category</th>\n      <th>Accuracy Score</th>\n    </tr>\n  </thead>\n  <tbody>\n    <tr>\n      <th>0</th>\n      <td>Studio</td>\n      <td>0.426415</td>\n    </tr>\n  </tbody>\n</table>\n</div>"
     },
     "metadata": {}
    }
   ]
  },
  {
   "cell_type": "code",
   "metadata": {
    "cell_id": "25fbb7cd17a24f5aadd22aa03a22ec0a",
    "tags": [],
    "deepnote_to_be_reexecuted": false,
    "source_hash": "464c9ddd",
    "execution_start": 1650643031849,
    "execution_millis": 18,
    "deepnote_cell_type": "code",
    "deepnote_cell_height": 267
   },
   "source": "accuracy_test = [['Studio', dectree_studios.score(top_15_studio_test, top_15_rating_test)]]\naccuracy_test_scores_studios = pd.DataFrame(accuracy_test, columns = ['Category', 'Accuracy Score'])\naccuracy_test_scores_studios",
   "execution_count": 11,
   "outputs": [
    {
     "output_type": "execute_result",
     "execution_count": 11,
     "data": {
      "application/vnd.deepnote.dataframe.v3+json": {
       "column_count": 2,
       "row_count": 1,
       "columns": [
        {
         "name": "Category",
         "dtype": "object",
         "stats": {
          "unique_count": 1,
          "nan_count": 0,
          "categories": [
           {
            "name": "Studio",
            "count": 1
           }
          ]
         }
        },
        {
         "name": "Accuracy Score",
         "dtype": "float64",
         "stats": {
          "unique_count": 1,
          "nan_count": 0,
          "min": "0.4",
          "max": "0.4",
          "histogram": [
           {
            "bin_start": -0.09999999999999998,
            "bin_end": 2.7755575615628914e-17,
            "count": 0
           },
           {
            "bin_start": 2.7755575615628914e-17,
            "bin_end": 0.10000000000000003,
            "count": 0
           },
           {
            "bin_start": 0.10000000000000003,
            "bin_end": 0.20000000000000007,
            "count": 0
           },
           {
            "bin_start": 0.20000000000000007,
            "bin_end": 0.30000000000000004,
            "count": 0
           },
           {
            "bin_start": 0.30000000000000004,
            "bin_end": 0.4,
            "count": 0
           },
           {
            "bin_start": 0.4,
            "bin_end": 0.5000000000000001,
            "count": 1
           },
           {
            "bin_start": 0.5000000000000001,
            "bin_end": 0.6000000000000001,
            "count": 0
           },
           {
            "bin_start": 0.6000000000000001,
            "bin_end": 0.7000000000000001,
            "count": 0
           },
           {
            "bin_start": 0.7000000000000001,
            "bin_end": 0.8,
            "count": 0
           },
           {
            "bin_start": 0.8,
            "bin_end": 0.9,
            "count": 0
           }
          ]
         }
        },
        {
         "name": "_deepnote_index_column",
         "dtype": "int64"
        }
       ],
       "rows": [
        {
         "Category": "Studio",
         "Accuracy Score": 0.4,
         "_deepnote_index_column": 0
        }
       ]
      },
      "text/plain": "  Category  Accuracy Score\n0   Studio             0.4",
      "text/html": "<div>\n<style scoped>\n    .dataframe tbody tr th:only-of-type {\n        vertical-align: middle;\n    }\n\n    .dataframe tbody tr th {\n        vertical-align: top;\n    }\n\n    .dataframe thead th {\n        text-align: right;\n    }\n</style>\n<table border=\"1\" class=\"dataframe\">\n  <thead>\n    <tr style=\"text-align: right;\">\n      <th></th>\n      <th>Category</th>\n      <th>Accuracy Score</th>\n    </tr>\n  </thead>\n  <tbody>\n    <tr>\n      <th>0</th>\n      <td>Studio</td>\n      <td>0.4</td>\n    </tr>\n  </tbody>\n</table>\n</div>"
     },
     "metadata": {}
    }
   ]
  },
  {
   "cell_type": "markdown",
   "source": "**Top 15 Genres**",
   "metadata": {
    "cell_id": "bc8a18ac7ead4b809901a0bb77e128f2",
    "tags": [],
    "deepnote_cell_type": "markdown",
    "deepnote_cell_height": 52.390625
   }
  },
  {
   "cell_type": "code",
   "metadata": {
    "cell_id": "5556cc9e0d854fd685c34ae12117fc8d",
    "tags": [],
    "deepnote_to_be_reexecuted": false,
    "source_hash": "3388bdb3",
    "execution_start": 1650643031869,
    "execution_millis": 26,
    "deepnote_cell_type": "code",
    "deepnote_cell_height": 459,
    "deepnote_output_heights": [
     290
    ]
   },
   "source": "genres = filteredanime_data.Tags.str.split(', ',expand=True).stack().value_counts()\ntop_15_genres = genres.head(15)\ntop_15_genres = top_15_genres.to_dict()\ntop_15_genres = list(top_15_genres.keys())\ntop_15_genres",
   "execution_count": 12,
   "outputs": [
    {
     "output_type": "execute_result",
     "execution_count": 12,
     "data": {
      "text/plain": "['Based on a Manga',\n 'Comedy',\n 'Action',\n 'Fantasy',\n 'Sci Fi',\n 'Shounen',\n 'Original Work',\n 'Adventure',\n 'Drama',\n 'Family Friendly',\n 'Non-Human Protagonists',\n 'School Life',\n 'Romance',\n 'Short Episodes',\n 'Slice of Life']"
     },
     "metadata": {}
    }
   ]
  },
  {
   "cell_type": "code",
   "metadata": {
    "cell_id": "4df9515dc7fb47168cfb673542ef1ada",
    "tags": [],
    "deepnote_to_be_reexecuted": false,
    "source_hash": "ae288e8a",
    "execution_start": 1650643031895,
    "execution_millis": 50,
    "deepnote_table_state": {
     "pageSize": 10,
     "pageIndex": 0,
     "filters": [],
     "sortBy": []
    },
    "deepnote_table_loading": false,
    "deepnote_cell_type": "code",
    "deepnote_cell_height": 618
   },
   "source": "filteredanime_data_genres = filteredanime_data.copy()\nfilteredanime_data_genres",
   "execution_count": 13,
   "outputs": [
    {
     "output_type": "execute_result",
     "execution_count": 13,
     "data": {
      "application/vnd.deepnote.dataframe.v3+json": {
       "column_count": 6,
       "row_count": 6056,
       "columns": [
        {
         "name": "Unnamed: 0",
         "dtype": "int64",
         "stats": {
          "unique_count": 6056,
          "nan_count": 0,
          "min": "0",
          "max": "15364",
          "histogram": [
           {
            "bin_start": 0,
            "bin_end": 1536.4,
            "count": 1050
           },
           {
            "bin_start": 1536.4,
            "bin_end": 3072.8,
            "count": 858
           },
           {
            "bin_start": 3072.8,
            "bin_end": 4609.200000000001,
            "count": 778
           },
           {
            "bin_start": 4609.200000000001,
            "bin_end": 6145.6,
            "count": 693
           },
           {
            "bin_start": 6145.6,
            "bin_end": 7682,
            "count": 599
           },
           {
            "bin_start": 7682,
            "bin_end": 9218.400000000001,
            "count": 526
           },
           {
            "bin_start": 9218.400000000001,
            "bin_end": 10754.800000000001,
            "count": 434
           },
           {
            "bin_start": 10754.800000000001,
            "bin_end": 12291.2,
            "count": 391
           },
           {
            "bin_start": 12291.2,
            "bin_end": 13827.6,
            "count": 368
           },
           {
            "bin_start": 13827.6,
            "bin_end": 15364,
            "count": 359
           }
          ]
         }
        },
        {
         "name": "Type",
         "dtype": "object",
         "stats": {
          "unique_count": 2,
          "nan_count": 0,
          "categories": [
           {
            "name": "TV   ",
            "count": 4354
           },
           {
            "name": "Movie",
            "count": 1702
           }
          ]
         }
        },
        {
         "name": "Studio",
         "dtype": "object",
         "stats": {
          "unique_count": 493,
          "nan_count": 0,
          "categories": [
           {
            "name": "Toei Animation",
            "count": 500
           },
           {
            "name": "Sunrise",
            "count": 252
           },
           {
            "name": "491 others",
            "count": 5304
           }
          ]
         }
        },
        {
         "name": "Tags",
         "dtype": "object",
         "stats": {
          "unique_count": 4955,
          "nan_count": 0,
          "categories": [
           {
            "name": "Anthropomorphic, Family Friendly, Food Protagonists, Non-Human Protagonists",
            "count": 24
           },
           {
            "name": "Action, Mecha, Sci Fi, Original Work",
            "count": 14
           },
           {
            "name": "4953 others",
            "count": 6018
           }
          ]
         }
        },
        {
         "name": "Rating",
         "dtype": "float64",
         "stats": {
          "unique_count": 247,
          "nan_count": 0,
          "min": "1.3",
          "max": "4.6",
          "histogram": [
           {
            "bin_start": 1.3,
            "bin_end": 1.63,
            "count": 2
           },
           {
            "bin_start": 1.63,
            "bin_end": 1.96,
            "count": 6
           },
           {
            "bin_start": 1.96,
            "bin_end": 2.29,
            "count": 19
           },
           {
            "bin_start": 2.29,
            "bin_end": 2.62,
            "count": 108
           },
           {
            "bin_start": 2.62,
            "bin_end": 2.95,
            "count": 327
           },
           {
            "bin_start": 2.95,
            "bin_end": 3.28,
            "count": 1102
           },
           {
            "bin_start": 3.28,
            "bin_end": 3.6099999999999994,
            "count": 2267
           },
           {
            "bin_start": 3.6099999999999994,
            "bin_end": 3.9399999999999995,
            "count": 1403
           },
           {
            "bin_start": 3.9399999999999995,
            "bin_end": 4.27,
            "count": 666
           },
           {
            "bin_start": 4.27,
            "bin_end": 4.6,
            "count": 156
           }
          ]
         }
        },
        {
         "name": "Release_year",
         "dtype": "float64",
         "stats": {
          "unique_count": 67,
          "nan_count": 0,
          "min": "1956.0",
          "max": "2022.0",
          "histogram": [
           {
            "bin_start": 1956,
            "bin_end": 1962.6,
            "count": 14
           },
           {
            "bin_start": 1962.6,
            "bin_end": 1969.2,
            "count": 78
           },
           {
            "bin_start": 1969.2,
            "bin_end": 1975.8,
            "count": 113
           },
           {
            "bin_start": 1975.8,
            "bin_end": 1982.4,
            "count": 235
           },
           {
            "bin_start": 1982.4,
            "bin_end": 1989,
            "count": 304
           },
           {
            "bin_start": 1989,
            "bin_end": 1995.6,
            "count": 385
           },
           {
            "bin_start": 1995.6,
            "bin_end": 2002.2,
            "count": 644
           },
           {
            "bin_start": 2002.2,
            "bin_end": 2008.8,
            "count": 998
           },
           {
            "bin_start": 2008.8,
            "bin_end": 2015.4,
            "count": 1542
           },
           {
            "bin_start": 2015.4,
            "bin_end": 2022,
            "count": 1743
           }
          ]
         }
        },
        {
         "name": "_deepnote_index_column",
         "dtype": "int64"
        }
       ],
       "rows": [
        {
         "Unnamed: 0": 0,
         "Type": "TV   ",
         "Studio": "ufotable",
         "Tags": "Action, Adventure, Fantasy, Shounen, Demons, Historical, Martial Arts, Orphans, Siblings, Swordplay, Based on a Manga, Explicit Violence",
         "Rating": 4.6,
         "Release_year": 2021,
         "_deepnote_index_column": 0
        },
        {
         "Unnamed: 0": 1,
         "Type": "TV   ",
         "Studio": "TMS Entertainment",
         "Tags": "Drama, Fantasy, Romance, Shoujo, Animal Transformation, Contemporary Fantasy, Curse, Dysfunctional Families, Mental Illness, Orphans, Based on a Manga, Emotional Abuse,, Mature Themes,, Physical Abuse,, Suicide,, Violence,, Domestic Abuse",
         "Rating": 4.6,
         "Release_year": 2021,
         "_deepnote_index_column": 1
        },
        {
         "Unnamed: 0": 3,
         "Type": "TV   ",
         "Studio": "Bones",
         "Tags": "Action, Adventure, Drama, Fantasy, Mystery, Shounen, Conspiracy, Death of a Loved One, Military, Siblings, Based on a Manga, Animal Abuse,, Mature Themes,, Violence,, Domestic Abuse",
         "Rating": 4.58,
         "Release_year": 2009,
         "_deepnote_index_column": 2
        },
        {
         "Unnamed: 0": 4,
         "Type": "TV   ",
         "Studio": "WIT Studio",
         "Tags": "Action, Fantasy, Horror, Shounen, Dark Fantasy, Isolated Society, Military, Outside World, Post-apocalyptic, Based on a Manga, Cannibalism,, Explicit Violence",
         "Rating": 4.57,
         "Release_year": 2019,
         "_deepnote_index_column": 3
        },
        {
         "Unnamed: 0": 5,
         "Type": "TV   ",
         "Studio": "MAPPA",
         "Tags": "Action, Horror, Shounen, Curse, Exorcists, Monsters, School Life, Supernatural, Based on a Manga, Explicit Violence",
         "Rating": 4.56,
         "Release_year": 2020,
         "_deepnote_index_column": 4
        },
        {
         "Unnamed: 0": 6,
         "Type": "TV   ",
         "Studio": "MAPPA",
         "Tags": "Action, Drama, Fantasy, Horror, Shounen, Dark Fantasy, Military, War, Based on a Manga",
         "Rating": 4.56,
         "Release_year": 2022,
         "_deepnote_index_column": 5
        },
        {
         "Unnamed: 0": 7,
         "Type": "TV   ",
         "Studio": "MAPPA",
         "Tags": "Action, Drama, Fantasy, Horror, Shounen, Dark Fantasy, Military, War, Based on a Manga, Explicit Violence,, Mature Themes,, Physical Abuse,, Suicide",
         "Rating": 4.55,
         "Release_year": 2020,
         "_deepnote_index_column": 6
        },
        {
         "Unnamed: 0": 8,
         "Type": "Movie",
         "Studio": "ufotable",
         "Tags": "Action, Drama, Fantasy, Shounen, Demons, Historical, Martial Arts, Orphans, Siblings, Swordplay, Trains, Based on a Manga, Mature Themes,, Suicide,, Violence",
         "Rating": 4.54,
         "Release_year": 2020,
         "_deepnote_index_column": 7
        },
        {
         "Unnamed: 0": 9,
         "Type": "TV   ",
         "Studio": "Production I.G",
         "Tags": "Shounen, Sports, Animeism, School Club, School Life, Tournaments, Volleyball, Based on a Manga",
         "Rating": 4.53,
         "Release_year": 2016,
         "_deepnote_index_column": 8
        },
        {
         "Unnamed: 0": 10,
         "Type": "Movie",
         "Studio": "CoMix Wave Films",
         "Tags": "Drama, Romance, Body Swapping, Gender Bender, Opposites Attract, School Life, Supernatural, Original Work",
         "Rating": 4.51,
         "Release_year": 2016,
         "_deepnote_index_column": 9
        }
       ]
      },
      "text/plain": "      Unnamed: 0   Type             Studio  \\\n0              0  TV              ufotable   \n1              1  TV     TMS Entertainment   \n2              3  TV                 Bones   \n3              4  TV            WIT Studio   \n4              5  TV                 MAPPA   \n...          ...    ...                ...   \n6051       15345  Movie              Seven   \n6052       15347  TV           Studio DEEN   \n6053       15352  TV                Bouncy   \n6054       15359  TV        Studio! Cucuri   \n6055       15364  TV         Visual Flight   \n\n                                                   Tags  Rating  Release_year  \n0     Action, Adventure, Fantasy, Shounen, Demons, H...    4.60        2021.0  \n1     Drama, Fantasy, Romance, Shoujo, Animal Transf...    4.60        2021.0  \n2     Action, Adventure, Drama, Fantasy, Mystery, Sh...    4.58        2009.0  \n3     Action, Fantasy, Horror, Shounen, Dark Fantasy...    4.57        2019.0  \n4     Action, Horror, Shounen, Curse, Exorcists, Mon...    4.56        2020.0  \n...                                                 ...     ...           ...  \n6051                 BL, Yaoi, Shorts, Based on a Manga    1.77        2020.0  \n6052  Horror, Shounen, Psychological, Short Episodes...    1.76        2014.0  \n6053  Comedy, Fantasy, Magical Girl, Henshin Heroes,...    1.71        2016.0  \n6054  Comedy, Mystery, Short Episodes, Supernatural,...    1.48        2015.0  \n6055  Action, Sci Fi, Seinen, Androids, Robots, Base...    1.30        2021.0  \n\n[6056 rows x 6 columns]",
      "text/html": "<div>\n<style scoped>\n    .dataframe tbody tr th:only-of-type {\n        vertical-align: middle;\n    }\n\n    .dataframe tbody tr th {\n        vertical-align: top;\n    }\n\n    .dataframe thead th {\n        text-align: right;\n    }\n</style>\n<table border=\"1\" class=\"dataframe\">\n  <thead>\n    <tr style=\"text-align: right;\">\n      <th></th>\n      <th>Unnamed: 0</th>\n      <th>Type</th>\n      <th>Studio</th>\n      <th>Tags</th>\n      <th>Rating</th>\n      <th>Release_year</th>\n    </tr>\n  </thead>\n  <tbody>\n    <tr>\n      <th>0</th>\n      <td>0</td>\n      <td>TV</td>\n      <td>ufotable</td>\n      <td>Action, Adventure, Fantasy, Shounen, Demons, H...</td>\n      <td>4.60</td>\n      <td>2021.0</td>\n    </tr>\n    <tr>\n      <th>1</th>\n      <td>1</td>\n      <td>TV</td>\n      <td>TMS Entertainment</td>\n      <td>Drama, Fantasy, Romance, Shoujo, Animal Transf...</td>\n      <td>4.60</td>\n      <td>2021.0</td>\n    </tr>\n    <tr>\n      <th>2</th>\n      <td>3</td>\n      <td>TV</td>\n      <td>Bones</td>\n      <td>Action, Adventure, Drama, Fantasy, Mystery, Sh...</td>\n      <td>4.58</td>\n      <td>2009.0</td>\n    </tr>\n    <tr>\n      <th>3</th>\n      <td>4</td>\n      <td>TV</td>\n      <td>WIT Studio</td>\n      <td>Action, Fantasy, Horror, Shounen, Dark Fantasy...</td>\n      <td>4.57</td>\n      <td>2019.0</td>\n    </tr>\n    <tr>\n      <th>4</th>\n      <td>5</td>\n      <td>TV</td>\n      <td>MAPPA</td>\n      <td>Action, Horror, Shounen, Curse, Exorcists, Mon...</td>\n      <td>4.56</td>\n      <td>2020.0</td>\n    </tr>\n    <tr>\n      <th>...</th>\n      <td>...</td>\n      <td>...</td>\n      <td>...</td>\n      <td>...</td>\n      <td>...</td>\n      <td>...</td>\n    </tr>\n    <tr>\n      <th>6051</th>\n      <td>15345</td>\n      <td>Movie</td>\n      <td>Seven</td>\n      <td>BL, Yaoi, Shorts, Based on a Manga</td>\n      <td>1.77</td>\n      <td>2020.0</td>\n    </tr>\n    <tr>\n      <th>6052</th>\n      <td>15347</td>\n      <td>TV</td>\n      <td>Studio DEEN</td>\n      <td>Horror, Shounen, Psychological, Short Episodes...</td>\n      <td>1.76</td>\n      <td>2014.0</td>\n    </tr>\n    <tr>\n      <th>6053</th>\n      <td>15352</td>\n      <td>TV</td>\n      <td>Bouncy</td>\n      <td>Comedy, Fantasy, Magical Girl, Henshin Heroes,...</td>\n      <td>1.71</td>\n      <td>2016.0</td>\n    </tr>\n    <tr>\n      <th>6054</th>\n      <td>15359</td>\n      <td>TV</td>\n      <td>Studio! Cucuri</td>\n      <td>Comedy, Mystery, Short Episodes, Supernatural,...</td>\n      <td>1.48</td>\n      <td>2015.0</td>\n    </tr>\n    <tr>\n      <th>6055</th>\n      <td>15364</td>\n      <td>TV</td>\n      <td>Visual Flight</td>\n      <td>Action, Sci Fi, Seinen, Androids, Robots, Base...</td>\n      <td>1.30</td>\n      <td>2021.0</td>\n    </tr>\n  </tbody>\n</table>\n<p>6056 rows × 6 columns</p>\n</div>"
     },
     "metadata": {}
    }
   ]
  },
  {
   "cell_type": "code",
   "metadata": {
    "cell_id": "c7b72b50cd73496e8ca22f59b5abdda2",
    "tags": [],
    "deepnote_to_be_reexecuted": false,
    "source_hash": "290225b8",
    "execution_start": 1650643031948,
    "execution_millis": 110,
    "deepnote_cell_type": "code",
    "deepnote_cell_height": 628
   },
   "source": "#Convert the string in Tags into a list for MLB\nfilteredanime_data_genres[\"Tags\"] = filteredanime_data_genres[\"Tags\"].str.split(\", \").tolist()\n\nmlb = MultiLabelBinarizer()\nfilteredanime_data_mlb = pd.DataFrame(mlb.fit_transform(filteredanime_data_genres[\"Tags\"]), columns = mlb.classes_)\n\n\nfor genre in top_15_genres:\n    filteredanime_data_genres[genre] = filteredanime_data_mlb[genre]\n    filteredanime_data_genres[genre] = filteredanime_data_genres[genre].astype(bool)\nfilteredanime_data_mlb = None\n\nfilteredanime_data_genres.head()",
   "execution_count": 14,
   "outputs": [
    {
     "output_type": "execute_result",
     "execution_count": 14,
     "data": {
      "application/vnd.deepnote.dataframe.v3+json": {
       "column_count": 21,
       "row_count": 5,
       "columns": [
        {
         "name": "Unnamed: 0",
         "dtype": "int64",
         "stats": {
          "unique_count": 5,
          "nan_count": 0,
          "min": "0",
          "max": "5",
          "histogram": [
           {
            "bin_start": 0,
            "bin_end": 0.5,
            "count": 1
           },
           {
            "bin_start": 0.5,
            "bin_end": 1,
            "count": 0
           },
           {
            "bin_start": 1,
            "bin_end": 1.5,
            "count": 1
           },
           {
            "bin_start": 1.5,
            "bin_end": 2,
            "count": 0
           },
           {
            "bin_start": 2,
            "bin_end": 2.5,
            "count": 0
           },
           {
            "bin_start": 2.5,
            "bin_end": 3,
            "count": 0
           },
           {
            "bin_start": 3,
            "bin_end": 3.5,
            "count": 1
           },
           {
            "bin_start": 3.5,
            "bin_end": 4,
            "count": 0
           },
           {
            "bin_start": 4,
            "bin_end": 4.5,
            "count": 1
           },
           {
            "bin_start": 4.5,
            "bin_end": 5,
            "count": 1
           }
          ]
         }
        },
        {
         "name": "Type",
         "dtype": "object",
         "stats": {
          "unique_count": 1,
          "nan_count": 0,
          "categories": [
           {
            "name": "TV   ",
            "count": 5
           }
          ]
         }
        },
        {
         "name": "Studio",
         "dtype": "object",
         "stats": {
          "unique_count": 5,
          "nan_count": 0,
          "categories": [
           {
            "name": "ufotable",
            "count": 1
           },
           {
            "name": "TMS Entertainment",
            "count": 1
           },
           {
            "name": "3 others",
            "count": 3
           }
          ]
         }
        },
        {
         "name": "Tags",
         "dtype": "object",
         "stats": {
          "unique_count": 5,
          "nan_count": 0,
          "categories": [
           {
            "name": "['Action', 'Adventure', 'Fantasy', 'Shounen', 'Demons', 'Historical', 'Martial Arts', 'Orphans', 'Siblings', 'Swordplay', 'Based on a Manga', 'Explicit Violence']",
            "count": 1
           },
           {
            "name": "['Drama', 'Fantasy', 'Romance', 'Shoujo', 'Animal Transformation', 'Contemporary Fantasy', 'Curse', 'Dysfunctional Families', 'Mental Illness', 'Orphans', 'Based on a Manga', 'Emotional Abuse,', 'Mature Themes,', 'Physical Abuse,', 'Suicide,', 'Violence,', 'Domestic Abuse']",
            "count": 1
           },
           {
            "name": "3 others",
            "count": 3
           }
          ]
         }
        },
        {
         "name": "Rating",
         "dtype": "float64",
         "stats": {
          "unique_count": 4,
          "nan_count": 0,
          "min": "4.56",
          "max": "4.6",
          "histogram": [
           {
            "bin_start": 4.56,
            "bin_end": 4.564,
            "count": 1
           },
           {
            "bin_start": 4.564,
            "bin_end": 4.568,
            "count": 0
           },
           {
            "bin_start": 4.568,
            "bin_end": 4.571999999999999,
            "count": 1
           },
           {
            "bin_start": 4.571999999999999,
            "bin_end": 4.576,
            "count": 0
           },
           {
            "bin_start": 4.576,
            "bin_end": 4.58,
            "count": 0
           },
           {
            "bin_start": 4.58,
            "bin_end": 4.584,
            "count": 1
           },
           {
            "bin_start": 4.584,
            "bin_end": 4.587999999999999,
            "count": 0
           },
           {
            "bin_start": 4.587999999999999,
            "bin_end": 4.592,
            "count": 0
           },
           {
            "bin_start": 4.592,
            "bin_end": 4.596,
            "count": 0
           },
           {
            "bin_start": 4.596,
            "bin_end": 4.6,
            "count": 2
           }
          ]
         }
        },
        {
         "name": "Release_year",
         "dtype": "float64",
         "stats": {
          "unique_count": 4,
          "nan_count": 0,
          "min": "2009.0",
          "max": "2021.0",
          "histogram": [
           {
            "bin_start": 2009,
            "bin_end": 2010.2,
            "count": 1
           },
           {
            "bin_start": 2010.2,
            "bin_end": 2011.4,
            "count": 0
           },
           {
            "bin_start": 2011.4,
            "bin_end": 2012.6,
            "count": 0
           },
           {
            "bin_start": 2012.6,
            "bin_end": 2013.8,
            "count": 0
           },
           {
            "bin_start": 2013.8,
            "bin_end": 2015,
            "count": 0
           },
           {
            "bin_start": 2015,
            "bin_end": 2016.2,
            "count": 0
           },
           {
            "bin_start": 2016.2,
            "bin_end": 2017.4,
            "count": 0
           },
           {
            "bin_start": 2017.4,
            "bin_end": 2018.6,
            "count": 0
           },
           {
            "bin_start": 2018.6,
            "bin_end": 2019.8,
            "count": 1
           },
           {
            "bin_start": 2019.8,
            "bin_end": 2021,
            "count": 3
           }
          ]
         }
        },
        {
         "name": "Based on a Manga",
         "dtype": "bool",
         "stats": {
          "unique_count": 1,
          "nan_count": 0,
          "categories": [
           {
            "name": "True",
            "count": 5
           }
          ]
         }
        },
        {
         "name": "Comedy",
         "dtype": "bool",
         "stats": {
          "unique_count": 1,
          "nan_count": 0,
          "categories": [
           {
            "name": "False",
            "count": 5
           }
          ]
         }
        },
        {
         "name": "Action",
         "dtype": "bool",
         "stats": {
          "unique_count": 2,
          "nan_count": 0,
          "categories": [
           {
            "name": "True",
            "count": 4
           },
           {
            "name": "False",
            "count": 1
           }
          ]
         }
        },
        {
         "name": "Fantasy",
         "dtype": "bool",
         "stats": {
          "unique_count": 2,
          "nan_count": 0,
          "categories": [
           {
            "name": "True",
            "count": 4
           },
           {
            "name": "False",
            "count": 1
           }
          ]
         }
        },
        {
         "name": "Sci Fi",
         "dtype": "bool",
         "stats": {
          "unique_count": 1,
          "nan_count": 0,
          "categories": [
           {
            "name": "False",
            "count": 5
           }
          ]
         }
        },
        {
         "name": "Shounen",
         "dtype": "bool",
         "stats": {
          "unique_count": 2,
          "nan_count": 0,
          "categories": [
           {
            "name": "True",
            "count": 4
           },
           {
            "name": "False",
            "count": 1
           }
          ]
         }
        },
        {
         "name": "Original Work",
         "dtype": "bool",
         "stats": {
          "unique_count": 1,
          "nan_count": 0,
          "categories": [
           {
            "name": "False",
            "count": 5
           }
          ]
         }
        },
        {
         "name": "Adventure",
         "dtype": "bool",
         "stats": {
          "unique_count": 2,
          "nan_count": 0,
          "categories": [
           {
            "name": "False",
            "count": 3
           },
           {
            "name": "True",
            "count": 2
           }
          ]
         }
        },
        {
         "name": "Drama",
         "dtype": "bool",
         "stats": {
          "unique_count": 2,
          "nan_count": 0,
          "categories": [
           {
            "name": "False",
            "count": 3
           },
           {
            "name": "True",
            "count": 2
           }
          ]
         }
        },
        {
         "name": "Family Friendly",
         "dtype": "bool",
         "stats": {
          "unique_count": 1,
          "nan_count": 0,
          "categories": [
           {
            "name": "False",
            "count": 5
           }
          ]
         }
        },
        {
         "name": "Non-Human Protagonists",
         "dtype": "bool",
         "stats": {
          "unique_count": 1,
          "nan_count": 0,
          "categories": [
           {
            "name": "False",
            "count": 5
           }
          ]
         }
        },
        {
         "name": "School Life",
         "dtype": "bool",
         "stats": {
          "unique_count": 2,
          "nan_count": 0,
          "categories": [
           {
            "name": "False",
            "count": 4
           },
           {
            "name": "True",
            "count": 1
           }
          ]
         }
        },
        {
         "name": "Romance",
         "dtype": "bool",
         "stats": {
          "unique_count": 2,
          "nan_count": 0,
          "categories": [
           {
            "name": "False",
            "count": 4
           },
           {
            "name": "True",
            "count": 1
           }
          ]
         }
        },
        {
         "name": "Short Episodes",
         "dtype": "bool",
         "stats": {
          "unique_count": 1,
          "nan_count": 0,
          "categories": [
           {
            "name": "False",
            "count": 5
           }
          ]
         }
        },
        {
         "name": "Slice of Life",
         "dtype": "bool",
         "stats": {
          "unique_count": 1,
          "nan_count": 0,
          "categories": [
           {
            "name": "False",
            "count": 5
           }
          ]
         }
        },
        {
         "name": "_deepnote_index_column",
         "dtype": "int64"
        }
       ],
       "rows": [
        {
         "Unnamed: 0": 0,
         "Type": "TV   ",
         "Studio": "ufotable",
         "Tags": "['Action', 'Adventure', 'Fantasy', 'Shounen', 'Demons', 'Historical', 'Martial Arts', 'Orphans', 'Siblings', 'Swordplay', 'Based on a Manga', 'Explicit Violence']",
         "Rating": 4.6,
         "Release_year": 2021,
         "Based on a Manga": true,
         "Comedy": false,
         "Action": true,
         "Fantasy": true,
         "Sci Fi": false,
         "Shounen": true,
         "Original Work": false,
         "Adventure": true,
         "Drama": false,
         "Family Friendly": false,
         "Non-Human Protagonists": false,
         "School Life": false,
         "Romance": false,
         "Short Episodes": false,
         "Slice of Life": false,
         "_deepnote_index_column": 0
        },
        {
         "Unnamed: 0": 1,
         "Type": "TV   ",
         "Studio": "TMS Entertainment",
         "Tags": "['Drama', 'Fantasy', 'Romance', 'Shoujo', 'Animal Transformation', 'Contemporary Fantasy', 'Curse', 'Dysfunctional Families', 'Mental Illness', 'Orphans', 'Based on a Manga', 'Emotional Abuse,', 'Mature Themes,', 'Physical Abuse,', 'Suicide,', 'Violence,', 'Domestic Abuse']",
         "Rating": 4.6,
         "Release_year": 2021,
         "Based on a Manga": true,
         "Comedy": false,
         "Action": false,
         "Fantasy": true,
         "Sci Fi": false,
         "Shounen": false,
         "Original Work": false,
         "Adventure": false,
         "Drama": true,
         "Family Friendly": false,
         "Non-Human Protagonists": false,
         "School Life": false,
         "Romance": true,
         "Short Episodes": false,
         "Slice of Life": false,
         "_deepnote_index_column": 1
        },
        {
         "Unnamed: 0": 3,
         "Type": "TV   ",
         "Studio": "Bones",
         "Tags": "['Action', 'Adventure', 'Drama', 'Fantasy', 'Mystery', 'Shounen', 'Conspiracy', 'Death of a Loved One', 'Military', 'Siblings', 'Based on a Manga', 'Animal Abuse,', 'Mature Themes,', 'Violence,', 'Domestic Abuse']",
         "Rating": 4.58,
         "Release_year": 2009,
         "Based on a Manga": true,
         "Comedy": false,
         "Action": true,
         "Fantasy": true,
         "Sci Fi": false,
         "Shounen": true,
         "Original Work": false,
         "Adventure": true,
         "Drama": true,
         "Family Friendly": false,
         "Non-Human Protagonists": false,
         "School Life": false,
         "Romance": false,
         "Short Episodes": false,
         "Slice of Life": false,
         "_deepnote_index_column": 2
        },
        {
         "Unnamed: 0": 4,
         "Type": "TV   ",
         "Studio": "WIT Studio",
         "Tags": "['Action', 'Fantasy', 'Horror', 'Shounen', 'Dark Fantasy', 'Isolated Society', 'Military', 'Outside World', 'Post-apocalyptic', 'Based on a Manga', 'Cannibalism,', 'Explicit Violence']",
         "Rating": 4.57,
         "Release_year": 2019,
         "Based on a Manga": true,
         "Comedy": false,
         "Action": true,
         "Fantasy": true,
         "Sci Fi": false,
         "Shounen": true,
         "Original Work": false,
         "Adventure": false,
         "Drama": false,
         "Family Friendly": false,
         "Non-Human Protagonists": false,
         "School Life": false,
         "Romance": false,
         "Short Episodes": false,
         "Slice of Life": false,
         "_deepnote_index_column": 3
        },
        {
         "Unnamed: 0": 5,
         "Type": "TV   ",
         "Studio": "MAPPA",
         "Tags": "['Action', 'Horror', 'Shounen', 'Curse', 'Exorcists', 'Monsters', 'School Life', 'Supernatural', 'Based on a Manga', 'Explicit Violence']",
         "Rating": 4.56,
         "Release_year": 2020,
         "Based on a Manga": true,
         "Comedy": false,
         "Action": true,
         "Fantasy": false,
         "Sci Fi": false,
         "Shounen": true,
         "Original Work": false,
         "Adventure": false,
         "Drama": false,
         "Family Friendly": false,
         "Non-Human Protagonists": false,
         "School Life": true,
         "Romance": false,
         "Short Episodes": false,
         "Slice of Life": false,
         "_deepnote_index_column": 4
        }
       ]
      },
      "text/plain": "   Unnamed: 0   Type             Studio  \\\n0           0  TV              ufotable   \n1           1  TV     TMS Entertainment   \n2           3  TV                 Bones   \n3           4  TV            WIT Studio   \n4           5  TV                 MAPPA   \n\n                                                Tags  Rating  Release_year  \\\n0  [Action, Adventure, Fantasy, Shounen, Demons, ...    4.60        2021.0   \n1  [Drama, Fantasy, Romance, Shoujo, Animal Trans...    4.60        2021.0   \n2  [Action, Adventure, Drama, Fantasy, Mystery, S...    4.58        2009.0   \n3  [Action, Fantasy, Horror, Shounen, Dark Fantas...    4.57        2019.0   \n4  [Action, Horror, Shounen, Curse, Exorcists, Mo...    4.56        2020.0   \n\n   Based on a Manga  Comedy  Action  Fantasy  ...  Shounen  Original Work  \\\n0              True   False    True     True  ...     True          False   \n1              True   False   False     True  ...    False          False   \n2              True   False    True     True  ...     True          False   \n3              True   False    True     True  ...     True          False   \n4              True   False    True    False  ...     True          False   \n\n   Adventure  Drama  Family Friendly  Non-Human Protagonists  School Life  \\\n0       True  False            False                   False        False   \n1      False   True            False                   False        False   \n2       True   True            False                   False        False   \n3      False  False            False                   False        False   \n4      False  False            False                   False         True   \n\n   Romance  Short Episodes  Slice of Life  \n0    False           False          False  \n1     True           False          False  \n2    False           False          False  \n3    False           False          False  \n4    False           False          False  \n\n[5 rows x 21 columns]",
      "text/html": "<div>\n<style scoped>\n    .dataframe tbody tr th:only-of-type {\n        vertical-align: middle;\n    }\n\n    .dataframe tbody tr th {\n        vertical-align: top;\n    }\n\n    .dataframe thead th {\n        text-align: right;\n    }\n</style>\n<table border=\"1\" class=\"dataframe\">\n  <thead>\n    <tr style=\"text-align: right;\">\n      <th></th>\n      <th>Unnamed: 0</th>\n      <th>Type</th>\n      <th>Studio</th>\n      <th>Tags</th>\n      <th>Rating</th>\n      <th>Release_year</th>\n      <th>Based on a Manga</th>\n      <th>Comedy</th>\n      <th>Action</th>\n      <th>Fantasy</th>\n      <th>...</th>\n      <th>Shounen</th>\n      <th>Original Work</th>\n      <th>Adventure</th>\n      <th>Drama</th>\n      <th>Family Friendly</th>\n      <th>Non-Human Protagonists</th>\n      <th>School Life</th>\n      <th>Romance</th>\n      <th>Short Episodes</th>\n      <th>Slice of Life</th>\n    </tr>\n  </thead>\n  <tbody>\n    <tr>\n      <th>0</th>\n      <td>0</td>\n      <td>TV</td>\n      <td>ufotable</td>\n      <td>[Action, Adventure, Fantasy, Shounen, Demons, ...</td>\n      <td>4.60</td>\n      <td>2021.0</td>\n      <td>True</td>\n      <td>False</td>\n      <td>True</td>\n      <td>True</td>\n      <td>...</td>\n      <td>True</td>\n      <td>False</td>\n      <td>True</td>\n      <td>False</td>\n      <td>False</td>\n      <td>False</td>\n      <td>False</td>\n      <td>False</td>\n      <td>False</td>\n      <td>False</td>\n    </tr>\n    <tr>\n      <th>1</th>\n      <td>1</td>\n      <td>TV</td>\n      <td>TMS Entertainment</td>\n      <td>[Drama, Fantasy, Romance, Shoujo, Animal Trans...</td>\n      <td>4.60</td>\n      <td>2021.0</td>\n      <td>True</td>\n      <td>False</td>\n      <td>False</td>\n      <td>True</td>\n      <td>...</td>\n      <td>False</td>\n      <td>False</td>\n      <td>False</td>\n      <td>True</td>\n      <td>False</td>\n      <td>False</td>\n      <td>False</td>\n      <td>True</td>\n      <td>False</td>\n      <td>False</td>\n    </tr>\n    <tr>\n      <th>2</th>\n      <td>3</td>\n      <td>TV</td>\n      <td>Bones</td>\n      <td>[Action, Adventure, Drama, Fantasy, Mystery, S...</td>\n      <td>4.58</td>\n      <td>2009.0</td>\n      <td>True</td>\n      <td>False</td>\n      <td>True</td>\n      <td>True</td>\n      <td>...</td>\n      <td>True</td>\n      <td>False</td>\n      <td>True</td>\n      <td>True</td>\n      <td>False</td>\n      <td>False</td>\n      <td>False</td>\n      <td>False</td>\n      <td>False</td>\n      <td>False</td>\n    </tr>\n    <tr>\n      <th>3</th>\n      <td>4</td>\n      <td>TV</td>\n      <td>WIT Studio</td>\n      <td>[Action, Fantasy, Horror, Shounen, Dark Fantas...</td>\n      <td>4.57</td>\n      <td>2019.0</td>\n      <td>True</td>\n      <td>False</td>\n      <td>True</td>\n      <td>True</td>\n      <td>...</td>\n      <td>True</td>\n      <td>False</td>\n      <td>False</td>\n      <td>False</td>\n      <td>False</td>\n      <td>False</td>\n      <td>False</td>\n      <td>False</td>\n      <td>False</td>\n      <td>False</td>\n    </tr>\n    <tr>\n      <th>4</th>\n      <td>5</td>\n      <td>TV</td>\n      <td>MAPPA</td>\n      <td>[Action, Horror, Shounen, Curse, Exorcists, Mo...</td>\n      <td>4.56</td>\n      <td>2020.0</td>\n      <td>True</td>\n      <td>False</td>\n      <td>True</td>\n      <td>False</td>\n      <td>...</td>\n      <td>True</td>\n      <td>False</td>\n      <td>False</td>\n      <td>False</td>\n      <td>False</td>\n      <td>False</td>\n      <td>True</td>\n      <td>False</td>\n      <td>False</td>\n      <td>False</td>\n    </tr>\n  </tbody>\n</table>\n<p>5 rows × 21 columns</p>\n</div>"
     },
     "metadata": {}
    }
   ]
  },
  {
   "cell_type": "markdown",
   "source": "Tags were converted using Multi-label Classification",
   "metadata": {
    "cell_id": "1d5246fb238a41fe9cb86d8dcf2f58a2",
    "tags": [],
    "deepnote_cell_type": "markdown",
    "deepnote_cell_height": 52.390625
   }
  },
  {
   "cell_type": "code",
   "metadata": {
    "cell_id": "ff89e3eea28e435fac9a5923df76b702",
    "tags": [],
    "deepnote_to_be_reexecuted": false,
    "source_hash": "273f9bc7",
    "execution_start": 1650643032059,
    "execution_millis": 4,
    "deepnote_cell_type": "code",
    "deepnote_cell_height": 81
   },
   "source": "filteredanime_data_genres[\"Rating Category\"] = pd.cut(x = filteredanime_data_genres.Rating, bins = [0, 3, 3.3, 3.6, 4, 5], labels = ratings)",
   "execution_count": 15,
   "outputs": []
  },
  {
   "cell_type": "code",
   "metadata": {
    "cell_id": "81495f0fac224a598d480178bab7508f",
    "tags": [],
    "deepnote_to_be_reexecuted": false,
    "source_hash": "dc32073a",
    "execution_start": 1650643032065,
    "execution_millis": 630,
    "deepnote_table_state": {
     "pageSize": 10,
     "pageIndex": 3,
     "filters": [],
     "sortBy": []
    },
    "deepnote_table_loading": false,
    "deepnote_cell_type": "code",
    "deepnote_cell_height": 616.796875
   },
   "source": "filteredanime_data_genres",
   "execution_count": 16,
   "outputs": [
    {
     "output_type": "execute_result",
     "execution_count": 16,
     "data": {
      "application/vnd.deepnote.dataframe.v3+json": {
       "column_count": 22,
       "row_count": 6056,
       "columns": [
        {
         "name": "Unnamed: 0",
         "dtype": "int64",
         "stats": {
          "unique_count": 6056,
          "nan_count": 0,
          "min": "0",
          "max": "15364",
          "histogram": [
           {
            "bin_start": 0,
            "bin_end": 1536.4,
            "count": 1050
           },
           {
            "bin_start": 1536.4,
            "bin_end": 3072.8,
            "count": 858
           },
           {
            "bin_start": 3072.8,
            "bin_end": 4609.200000000001,
            "count": 778
           },
           {
            "bin_start": 4609.200000000001,
            "bin_end": 6145.6,
            "count": 693
           },
           {
            "bin_start": 6145.6,
            "bin_end": 7682,
            "count": 599
           },
           {
            "bin_start": 7682,
            "bin_end": 9218.400000000001,
            "count": 526
           },
           {
            "bin_start": 9218.400000000001,
            "bin_end": 10754.800000000001,
            "count": 434
           },
           {
            "bin_start": 10754.800000000001,
            "bin_end": 12291.2,
            "count": 391
           },
           {
            "bin_start": 12291.2,
            "bin_end": 13827.6,
            "count": 368
           },
           {
            "bin_start": 13827.6,
            "bin_end": 15364,
            "count": 359
           }
          ]
         }
        },
        {
         "name": "Type",
         "dtype": "object",
         "stats": {
          "unique_count": 2,
          "nan_count": 0,
          "categories": [
           {
            "name": "TV   ",
            "count": 4354
           },
           {
            "name": "Movie",
            "count": 1702
           }
          ]
         }
        },
        {
         "name": "Studio",
         "dtype": "object",
         "stats": {
          "unique_count": 493,
          "nan_count": 0,
          "categories": [
           {
            "name": "Toei Animation",
            "count": 500
           },
           {
            "name": "Sunrise",
            "count": 252
           },
           {
            "name": "491 others",
            "count": 5304
           }
          ]
         }
        },
        {
         "name": "Tags",
         "dtype": "object",
         "stats": {
          "unique_count": 6056,
          "nan_count": 0,
          "categories": [
           {
            "name": "['Anthropomorphic', 'Family Friendly', 'Food Protagonists', 'Non-Human Protagonists']",
            "count": 24
           },
           {
            "name": "['Action', 'Mecha', 'Sci Fi', 'Original Work']",
            "count": 14
           },
           {
            "name": "4953 others",
            "count": 6018
           }
          ]
         }
        },
        {
         "name": "Rating",
         "dtype": "float64",
         "stats": {
          "unique_count": 247,
          "nan_count": 0,
          "min": "1.3",
          "max": "4.6",
          "histogram": [
           {
            "bin_start": 1.3,
            "bin_end": 1.63,
            "count": 2
           },
           {
            "bin_start": 1.63,
            "bin_end": 1.96,
            "count": 6
           },
           {
            "bin_start": 1.96,
            "bin_end": 2.29,
            "count": 19
           },
           {
            "bin_start": 2.29,
            "bin_end": 2.62,
            "count": 108
           },
           {
            "bin_start": 2.62,
            "bin_end": 2.95,
            "count": 327
           },
           {
            "bin_start": 2.95,
            "bin_end": 3.28,
            "count": 1102
           },
           {
            "bin_start": 3.28,
            "bin_end": 3.6099999999999994,
            "count": 2267
           },
           {
            "bin_start": 3.6099999999999994,
            "bin_end": 3.9399999999999995,
            "count": 1403
           },
           {
            "bin_start": 3.9399999999999995,
            "bin_end": 4.27,
            "count": 666
           },
           {
            "bin_start": 4.27,
            "bin_end": 4.6,
            "count": 156
           }
          ]
         }
        },
        {
         "name": "Release_year",
         "dtype": "float64",
         "stats": {
          "unique_count": 67,
          "nan_count": 0,
          "min": "1956.0",
          "max": "2022.0",
          "histogram": [
           {
            "bin_start": 1956,
            "bin_end": 1962.6,
            "count": 14
           },
           {
            "bin_start": 1962.6,
            "bin_end": 1969.2,
            "count": 78
           },
           {
            "bin_start": 1969.2,
            "bin_end": 1975.8,
            "count": 113
           },
           {
            "bin_start": 1975.8,
            "bin_end": 1982.4,
            "count": 235
           },
           {
            "bin_start": 1982.4,
            "bin_end": 1989,
            "count": 304
           },
           {
            "bin_start": 1989,
            "bin_end": 1995.6,
            "count": 385
           },
           {
            "bin_start": 1995.6,
            "bin_end": 2002.2,
            "count": 644
           },
           {
            "bin_start": 2002.2,
            "bin_end": 2008.8,
            "count": 998
           },
           {
            "bin_start": 2008.8,
            "bin_end": 2015.4,
            "count": 1542
           },
           {
            "bin_start": 2015.4,
            "bin_end": 2022,
            "count": 1743
           }
          ]
         }
        },
        {
         "name": "Based on a Manga",
         "dtype": "bool",
         "stats": {
          "unique_count": 2,
          "nan_count": 0,
          "categories": [
           {
            "name": "False",
            "count": 3822
           },
           {
            "name": "True",
            "count": 2234
           }
          ]
         }
        },
        {
         "name": "Comedy",
         "dtype": "bool",
         "stats": {
          "unique_count": 2,
          "nan_count": 0,
          "categories": [
           {
            "name": "False",
            "count": 4128
           },
           {
            "name": "True",
            "count": 1928
           }
          ]
         }
        },
        {
         "name": "Action",
         "dtype": "bool",
         "stats": {
          "unique_count": 2,
          "nan_count": 0,
          "categories": [
           {
            "name": "False",
            "count": 4224
           },
           {
            "name": "True",
            "count": 1832
           }
          ]
         }
        },
        {
         "name": "Fantasy",
         "dtype": "bool",
         "stats": {
          "unique_count": 2,
          "nan_count": 0,
          "categories": [
           {
            "name": "False",
            "count": 4681
           },
           {
            "name": "True",
            "count": 1375
           }
          ]
         }
        },
        {
         "name": "Sci Fi",
         "dtype": "bool",
         "stats": {
          "unique_count": 2,
          "nan_count": 0,
          "categories": [
           {
            "name": "False",
            "count": 4771
           },
           {
            "name": "True",
            "count": 1285
           }
          ]
         }
        },
        {
         "name": "Shounen",
         "dtype": "bool",
         "stats": {
          "unique_count": 2,
          "nan_count": 0,
          "categories": [
           {
            "name": "False",
            "count": 4867
           },
           {
            "name": "True",
            "count": 1189
           }
          ]
         }
        },
        {
         "name": "Original Work",
         "dtype": "bool",
         "stats": {
          "unique_count": 2,
          "nan_count": 0,
          "categories": [
           {
            "name": "False",
            "count": 4954
           },
           {
            "name": "True",
            "count": 1102
           }
          ]
         }
        },
        {
         "name": "Adventure",
         "dtype": "bool",
         "stats": {
          "unique_count": 2,
          "nan_count": 0,
          "categories": [
           {
            "name": "False",
            "count": 5063
           },
           {
            "name": "True",
            "count": 993
           }
          ]
         }
        },
        {
         "name": "Drama",
         "dtype": "bool",
         "stats": {
          "unique_count": 2,
          "nan_count": 0,
          "categories": [
           {
            "name": "False",
            "count": 5064
           },
           {
            "name": "True",
            "count": 992
           }
          ]
         }
        },
        {
         "name": "Family Friendly",
         "dtype": "bool",
         "stats": {
          "unique_count": 2,
          "nan_count": 0,
          "categories": [
           {
            "name": "False",
            "count": 5171
           },
           {
            "name": "True",
            "count": 885
           }
          ]
         }
        },
        {
         "name": "Non-Human Protagonists",
         "dtype": "bool"
        },
        {
         "name": "School Life",
         "dtype": "bool"
        },
        {
         "name": "Romance",
         "dtype": "bool"
        },
        {
         "name": "Short Episodes",
         "dtype": "bool"
        },
        {
         "name": "Slice of Life",
         "dtype": "bool"
        },
        {
         "name": "Rating Category",
         "dtype": "category"
        },
        {
         "name": "_deepnote_index_column",
         "dtype": "int64"
        }
       ],
       "rows": [
        {
         "Unnamed: 0": 36,
         "Type": "TV   ",
         "Studio": "Sunrise",
         "Tags": "['Action', 'Comedy', 'Drama', 'Sci Fi', 'Shounen', 'Aliens', 'Crude', 'Feudal Japan', 'Gag', 'Parody', 'Samurai', 'Slapstick', 'Swordplay', 'Based on a Manga']",
         "Rating": 4.44,
         "Release_year": 2012,
         "Based on a Manga": true,
         "Comedy": true,
         "Action": true,
         "Fantasy": false,
         "Sci Fi": true,
         "Shounen": true,
         "Original Work": false,
         "Adventure": false,
         "Drama": true,
         "Family Friendly": false,
         "Non-Human Protagonists": false,
         "School Life": false,
         "Romance": false,
         "Short Episodes": false,
         "Slice of Life": false,
         "Rating Category": "Good (4, 5.0]",
         "_deepnote_index_column": 30
        },
        {
         "Unnamed: 0": 37,
         "Type": "TV   ",
         "Studio": "MAPPA",
         "Tags": "['Action', 'Drama', 'Shoujo', 'America', 'Criminals', 'Gangs', 'noitaminA', 'Based on a Manga', 'Drug Use,', 'Mature Themes,', 'Physical Abuse,', 'Prostitution,', 'Sexual Abuse,', 'Violence']",
         "Rating": 4.44,
         "Release_year": 2018,
         "Based on a Manga": true,
         "Comedy": false,
         "Action": true,
         "Fantasy": false,
         "Sci Fi": false,
         "Shounen": false,
         "Original Work": false,
         "Adventure": false,
         "Drama": true,
         "Family Friendly": false,
         "Non-Human Protagonists": false,
         "School Life": false,
         "Romance": false,
         "Short Episodes": false,
         "Slice of Life": false,
         "Rating Category": "Good (4, 5.0]",
         "_deepnote_index_column": 31
        },
        {
         "Unnamed: 0": 39,
         "Type": "Movie",
         "Studio": "Sunrise",
         "Tags": "['Action', 'Comedy', 'Drama', 'Sci Fi', 'Shounen', 'Aliens', 'Feudal Japan', 'Samurai', 'Swordplay', 'Time Travel', 'Based on a Manga']",
         "Rating": 4.44,
         "Release_year": 2013,
         "Based on a Manga": true,
         "Comedy": true,
         "Action": true,
         "Fantasy": false,
         "Sci Fi": true,
         "Shounen": true,
         "Original Work": false,
         "Adventure": false,
         "Drama": true,
         "Family Friendly": false,
         "Non-Human Protagonists": false,
         "School Life": false,
         "Romance": false,
         "Short Episodes": false,
         "Slice of Life": false,
         "Rating Category": "Good (4, 5.0]",
         "_deepnote_index_column": 32
        },
        {
         "Unnamed: 0": 40,
         "Type": "TV   ",
         "Studio": "BN Pictures",
         "Tags": "['Action', 'Comedy', 'Drama', 'Sci Fi', 'Shounen', 'Aliens', 'Crude', 'Feudal Japan', 'Gag', 'Samurai', 'Slapstick', 'Swordplay', 'Based on a Manga']",
         "Rating": 4.44,
         "Release_year": 2017,
         "Based on a Manga": true,
         "Comedy": true,
         "Action": true,
         "Fantasy": false,
         "Sci Fi": true,
         "Shounen": true,
         "Original Work": false,
         "Adventure": false,
         "Drama": true,
         "Family Friendly": false,
         "Non-Human Protagonists": false,
         "School Life": false,
         "Romance": false,
         "Short Episodes": false,
         "Slice of Life": false,
         "Rating Category": "Good (4, 5.0]",
         "_deepnote_index_column": 33
        },
        {
         "Unnamed: 0": 41,
         "Type": "TV   ",
         "Studio": "BN Pictures",
         "Tags": "['Action', 'Comedy', 'Drama', 'Sci Fi', 'Shounen', 'Aliens', 'Crude', 'Feudal Japan', 'Gag', 'Samurai', 'Slapstick', 'Swordplay', 'Based on a Manga']",
         "Rating": 4.44,
         "Release_year": 2018,
         "Based on a Manga": true,
         "Comedy": true,
         "Action": true,
         "Fantasy": false,
         "Sci Fi": true,
         "Shounen": true,
         "Original Work": false,
         "Adventure": false,
         "Drama": true,
         "Family Friendly": false,
         "Non-Human Protagonists": false,
         "School Life": false,
         "Romance": false,
         "Short Episodes": false,
         "Slice of Life": false,
         "Rating Category": "Good (4, 5.0]",
         "_deepnote_index_column": 34
        },
        {
         "Unnamed: 0": 42,
         "Type": "TV   ",
         "Studio": "WIT Studio",
         "Tags": "['Action', 'Fantasy', 'Horror', 'Dark Fantasy', 'Isolated Society', 'Military', 'Outside World', 'Political', 'Post-apocalyptic', 'Based on a Manga', 'Cannibalism,', 'Explicit Violence']",
         "Rating": 4.44,
         "Release_year": 2018,
         "Based on a Manga": true,
         "Comedy": false,
         "Action": true,
         "Fantasy": true,
         "Sci Fi": false,
         "Shounen": false,
         "Original Work": false,
         "Adventure": false,
         "Drama": false,
         "Family Friendly": false,
         "Non-Human Protagonists": false,
         "School Life": false,
         "Romance": false,
         "Short Episodes": false,
         "Slice of Life": false,
         "Rating Category": "Good (4, 5.0]",
         "_deepnote_index_column": 35
        },
        {
         "Unnamed: 0": 43,
         "Type": "TV   ",
         "Studio": "WHITE FOX",
         "Tags": "['Sci Fi', 'Conspiracy', 'LGBT Themes', 'Psychological', 'Thriller', 'Time Travel', 'Based on a Visual Novel', 'Mature Themes,', 'Suicide']",
         "Rating": 4.44,
         "Release_year": 2011,
         "Based on a Manga": false,
         "Comedy": false,
         "Action": false,
         "Fantasy": false,
         "Sci Fi": true,
         "Shounen": false,
         "Original Work": false,
         "Adventure": false,
         "Drama": false,
         "Family Friendly": false,
         "Non-Human Protagonists": false,
         "School Life": false,
         "Romance": false,
         "Short Episodes": false,
         "Slice of Life": false,
         "Rating Category": "Good (4, 5.0]",
         "_deepnote_index_column": 36
        },
        {
         "Unnamed: 0": 44,
         "Type": "TV   ",
         "Studio": "Production I.G",
         "Tags": "['Shounen', 'Sports', 'School Club', 'School Life', 'Tournaments', 'Volleyball', 'Based on a Manga']",
         "Rating": 4.43,
         "Release_year": 2014,
         "Based on a Manga": true,
         "Comedy": false,
         "Action": false,
         "Fantasy": false,
         "Sci Fi": false,
         "Shounen": true,
         "Original Work": false,
         "Adventure": false,
         "Drama": false,
         "Family Friendly": false,
         "Non-Human Protagonists": false,
         "School Life": true,
         "Romance": false,
         "Short Episodes": false,
         "Slice of Life": false,
         "Rating Category": "Good (4, 5.0]",
         "_deepnote_index_column": 37
        },
        {
         "Unnamed: 0": 45,
         "Type": "TV   ",
         "Studio": "Sunrise",
         "Tags": "['Action', 'Comedy', 'Drama', 'Sci Fi', 'Shounen', 'Aliens', 'Breaking the Fourth Wall', 'Crude', 'Feudal Japan', 'Gag', 'Parody', 'Samurai', 'Slapstick', 'Swordplay', 'Based on a Manga']",
         "Rating": 4.43,
         "Release_year": 2011,
         "Based on a Manga": true,
         "Comedy": true,
         "Action": true,
         "Fantasy": false,
         "Sci Fi": true,
         "Shounen": true,
         "Original Work": false,
         "Adventure": false,
         "Drama": true,
         "Family Friendly": false,
         "Non-Human Protagonists": false,
         "School Life": false,
         "Romance": false,
         "Short Episodes": false,
         "Slice of Life": false,
         "Rating Category": "Good (4, 5.0]",
         "_deepnote_index_column": 38
        },
        {
         "Unnamed: 0": 46,
         "Type": "TV   ",
         "Studio": "MADHOUSE",
         "Tags": "['Action', 'Comedy', 'Sci Fi', 'Seinen', 'Cyborgs', 'Monsters', 'Overpowered Main Characters', 'Parody', 'Satire', 'Superheroes', 'Superpowers', 'Based on a Manga', 'Explicit Violence']",
         "Rating": 4.43,
         "Release_year": 2015,
         "Based on a Manga": true,
         "Comedy": true,
         "Action": true,
         "Fantasy": false,
         "Sci Fi": true,
         "Shounen": false,
         "Original Work": false,
         "Adventure": false,
         "Drama": false,
         "Family Friendly": false,
         "Non-Human Protagonists": false,
         "School Life": false,
         "Romance": false,
         "Short Episodes": false,
         "Slice of Life": false,
         "Rating Category": "Good (4, 5.0]",
         "_deepnote_index_column": 39
        }
       ]
      },
      "text/plain": "      Unnamed: 0   Type             Studio  \\\n0              0  TV              ufotable   \n1              1  TV     TMS Entertainment   \n2              3  TV                 Bones   \n3              4  TV            WIT Studio   \n4              5  TV                 MAPPA   \n...          ...    ...                ...   \n6051       15345  Movie              Seven   \n6052       15347  TV           Studio DEEN   \n6053       15352  TV                Bouncy   \n6054       15359  TV        Studio! Cucuri   \n6055       15364  TV         Visual Flight   \n\n                                                   Tags  Rating  Release_year  \\\n0     [Action, Adventure, Fantasy, Shounen, Demons, ...    4.60        2021.0   \n1     [Drama, Fantasy, Romance, Shoujo, Animal Trans...    4.60        2021.0   \n2     [Action, Adventure, Drama, Fantasy, Mystery, S...    4.58        2009.0   \n3     [Action, Fantasy, Horror, Shounen, Dark Fantas...    4.57        2019.0   \n4     [Action, Horror, Shounen, Curse, Exorcists, Mo...    4.56        2020.0   \n...                                                 ...     ...           ...   \n6051               [BL, Yaoi, Shorts, Based on a Manga]    1.77        2020.0   \n6052  [Horror, Shounen, Psychological, Short Episode...    1.76        2014.0   \n6053  [Comedy, Fantasy, Magical Girl, Henshin Heroes...    1.71        2016.0   \n6054  [Comedy, Mystery, Short Episodes, Supernatural...    1.48        2015.0   \n6055  [Action, Sci Fi, Seinen, Androids, Robots, Bas...    1.30        2021.0   \n\n      Based on a Manga  Comedy  Action  Fantasy  ...  Original Work  \\\n0                 True   False    True     True  ...          False   \n1                 True   False   False     True  ...          False   \n2                 True   False    True     True  ...          False   \n3                 True   False    True     True  ...          False   \n4                 True   False    True    False  ...          False   \n...                ...     ...     ...      ...  ...            ...   \n6051              True   False   False    False  ...          False   \n6052              True   False   False    False  ...          False   \n6053             False    True   False     True  ...           True   \n6054             False    True   False    False  ...          False   \n6055              True   False    True    False  ...          False   \n\n      Adventure  Drama  Family Friendly  Non-Human Protagonists  School Life  \\\n0          True  False            False                   False        False   \n1         False   True            False                   False        False   \n2          True   True            False                   False        False   \n3         False  False            False                   False        False   \n4         False  False            False                   False         True   \n...         ...    ...              ...                     ...          ...   \n6051      False  False            False                   False        False   \n6052      False  False            False                   False        False   \n6053      False  False            False                   False        False   \n6054      False  False            False                   False        False   \n6055      False  False            False                   False        False   \n\n      Romance  Short Episodes  Slice of Life  Rating Category  \n0       False           False          False    Good (4, 5.0]  \n1        True           False          False    Good (4, 5.0]  \n2       False           False          False    Good (4, 5.0]  \n3       False           False          False    Good (4, 5.0]  \n4       False           False          False    Good (4, 5.0]  \n...       ...             ...            ...              ...  \n6051    False           False          False      Poor (0, 3]  \n6052    False            True          False      Poor (0, 3]  \n6053    False            True          False      Poor (0, 3]  \n6054    False            True          False      Poor (0, 3]  \n6055    False           False          False      Poor (0, 3]  \n\n[6056 rows x 22 columns]",
      "text/html": "<div>\n<style scoped>\n    .dataframe tbody tr th:only-of-type {\n        vertical-align: middle;\n    }\n\n    .dataframe tbody tr th {\n        vertical-align: top;\n    }\n\n    .dataframe thead th {\n        text-align: right;\n    }\n</style>\n<table border=\"1\" class=\"dataframe\">\n  <thead>\n    <tr style=\"text-align: right;\">\n      <th></th>\n      <th>Unnamed: 0</th>\n      <th>Type</th>\n      <th>Studio</th>\n      <th>Tags</th>\n      <th>Rating</th>\n      <th>Release_year</th>\n      <th>Based on a Manga</th>\n      <th>Comedy</th>\n      <th>Action</th>\n      <th>Fantasy</th>\n      <th>...</th>\n      <th>Original Work</th>\n      <th>Adventure</th>\n      <th>Drama</th>\n      <th>Family Friendly</th>\n      <th>Non-Human Protagonists</th>\n      <th>School Life</th>\n      <th>Romance</th>\n      <th>Short Episodes</th>\n      <th>Slice of Life</th>\n      <th>Rating Category</th>\n    </tr>\n  </thead>\n  <tbody>\n    <tr>\n      <th>0</th>\n      <td>0</td>\n      <td>TV</td>\n      <td>ufotable</td>\n      <td>[Action, Adventure, Fantasy, Shounen, Demons, ...</td>\n      <td>4.60</td>\n      <td>2021.0</td>\n      <td>True</td>\n      <td>False</td>\n      <td>True</td>\n      <td>True</td>\n      <td>...</td>\n      <td>False</td>\n      <td>True</td>\n      <td>False</td>\n      <td>False</td>\n      <td>False</td>\n      <td>False</td>\n      <td>False</td>\n      <td>False</td>\n      <td>False</td>\n      <td>Good (4, 5.0]</td>\n    </tr>\n    <tr>\n      <th>1</th>\n      <td>1</td>\n      <td>TV</td>\n      <td>TMS Entertainment</td>\n      <td>[Drama, Fantasy, Romance, Shoujo, Animal Trans...</td>\n      <td>4.60</td>\n      <td>2021.0</td>\n      <td>True</td>\n      <td>False</td>\n      <td>False</td>\n      <td>True</td>\n      <td>...</td>\n      <td>False</td>\n      <td>False</td>\n      <td>True</td>\n      <td>False</td>\n      <td>False</td>\n      <td>False</td>\n      <td>True</td>\n      <td>False</td>\n      <td>False</td>\n      <td>Good (4, 5.0]</td>\n    </tr>\n    <tr>\n      <th>2</th>\n      <td>3</td>\n      <td>TV</td>\n      <td>Bones</td>\n      <td>[Action, Adventure, Drama, Fantasy, Mystery, S...</td>\n      <td>4.58</td>\n      <td>2009.0</td>\n      <td>True</td>\n      <td>False</td>\n      <td>True</td>\n      <td>True</td>\n      <td>...</td>\n      <td>False</td>\n      <td>True</td>\n      <td>True</td>\n      <td>False</td>\n      <td>False</td>\n      <td>False</td>\n      <td>False</td>\n      <td>False</td>\n      <td>False</td>\n      <td>Good (4, 5.0]</td>\n    </tr>\n    <tr>\n      <th>3</th>\n      <td>4</td>\n      <td>TV</td>\n      <td>WIT Studio</td>\n      <td>[Action, Fantasy, Horror, Shounen, Dark Fantas...</td>\n      <td>4.57</td>\n      <td>2019.0</td>\n      <td>True</td>\n      <td>False</td>\n      <td>True</td>\n      <td>True</td>\n      <td>...</td>\n      <td>False</td>\n      <td>False</td>\n      <td>False</td>\n      <td>False</td>\n      <td>False</td>\n      <td>False</td>\n      <td>False</td>\n      <td>False</td>\n      <td>False</td>\n      <td>Good (4, 5.0]</td>\n    </tr>\n    <tr>\n      <th>4</th>\n      <td>5</td>\n      <td>TV</td>\n      <td>MAPPA</td>\n      <td>[Action, Horror, Shounen, Curse, Exorcists, Mo...</td>\n      <td>4.56</td>\n      <td>2020.0</td>\n      <td>True</td>\n      <td>False</td>\n      <td>True</td>\n      <td>False</td>\n      <td>...</td>\n      <td>False</td>\n      <td>False</td>\n      <td>False</td>\n      <td>False</td>\n      <td>False</td>\n      <td>True</td>\n      <td>False</td>\n      <td>False</td>\n      <td>False</td>\n      <td>Good (4, 5.0]</td>\n    </tr>\n    <tr>\n      <th>...</th>\n      <td>...</td>\n      <td>...</td>\n      <td>...</td>\n      <td>...</td>\n      <td>...</td>\n      <td>...</td>\n      <td>...</td>\n      <td>...</td>\n      <td>...</td>\n      <td>...</td>\n      <td>...</td>\n      <td>...</td>\n      <td>...</td>\n      <td>...</td>\n      <td>...</td>\n      <td>...</td>\n      <td>...</td>\n      <td>...</td>\n      <td>...</td>\n      <td>...</td>\n      <td>...</td>\n    </tr>\n    <tr>\n      <th>6051</th>\n      <td>15345</td>\n      <td>Movie</td>\n      <td>Seven</td>\n      <td>[BL, Yaoi, Shorts, Based on a Manga]</td>\n      <td>1.77</td>\n      <td>2020.0</td>\n      <td>True</td>\n      <td>False</td>\n      <td>False</td>\n      <td>False</td>\n      <td>...</td>\n      <td>False</td>\n      <td>False</td>\n      <td>False</td>\n      <td>False</td>\n      <td>False</td>\n      <td>False</td>\n      <td>False</td>\n      <td>False</td>\n      <td>False</td>\n      <td>Poor (0, 3]</td>\n    </tr>\n    <tr>\n      <th>6052</th>\n      <td>15347</td>\n      <td>TV</td>\n      <td>Studio DEEN</td>\n      <td>[Horror, Shounen, Psychological, Short Episode...</td>\n      <td>1.76</td>\n      <td>2014.0</td>\n      <td>True</td>\n      <td>False</td>\n      <td>False</td>\n      <td>False</td>\n      <td>...</td>\n      <td>False</td>\n      <td>False</td>\n      <td>False</td>\n      <td>False</td>\n      <td>False</td>\n      <td>False</td>\n      <td>False</td>\n      <td>True</td>\n      <td>False</td>\n      <td>Poor (0, 3]</td>\n    </tr>\n    <tr>\n      <th>6053</th>\n      <td>15352</td>\n      <td>TV</td>\n      <td>Bouncy</td>\n      <td>[Comedy, Fantasy, Magical Girl, Henshin Heroes...</td>\n      <td>1.71</td>\n      <td>2016.0</td>\n      <td>False</td>\n      <td>True</td>\n      <td>False</td>\n      <td>True</td>\n      <td>...</td>\n      <td>True</td>\n      <td>False</td>\n      <td>False</td>\n      <td>False</td>\n      <td>False</td>\n      <td>False</td>\n      <td>False</td>\n      <td>True</td>\n      <td>False</td>\n      <td>Poor (0, 3]</td>\n    </tr>\n    <tr>\n      <th>6054</th>\n      <td>15359</td>\n      <td>TV</td>\n      <td>Studio! Cucuri</td>\n      <td>[Comedy, Mystery, Short Episodes, Supernatural...</td>\n      <td>1.48</td>\n      <td>2015.0</td>\n      <td>False</td>\n      <td>True</td>\n      <td>False</td>\n      <td>False</td>\n      <td>...</td>\n      <td>False</td>\n      <td>False</td>\n      <td>False</td>\n      <td>False</td>\n      <td>False</td>\n      <td>False</td>\n      <td>False</td>\n      <td>True</td>\n      <td>False</td>\n      <td>Poor (0, 3]</td>\n    </tr>\n    <tr>\n      <th>6055</th>\n      <td>15364</td>\n      <td>TV</td>\n      <td>Visual Flight</td>\n      <td>[Action, Sci Fi, Seinen, Androids, Robots, Bas...</td>\n      <td>1.30</td>\n      <td>2021.0</td>\n      <td>True</td>\n      <td>False</td>\n      <td>True</td>\n      <td>False</td>\n      <td>...</td>\n      <td>False</td>\n      <td>False</td>\n      <td>False</td>\n      <td>False</td>\n      <td>False</td>\n      <td>False</td>\n      <td>False</td>\n      <td>False</td>\n      <td>False</td>\n      <td>Poor (0, 3]</td>\n    </tr>\n  </tbody>\n</table>\n<p>6056 rows × 22 columns</p>\n</div>"
     },
     "metadata": {}
    }
   ]
  },
  {
   "cell_type": "markdown",
   "source": "**Genres against Rating**",
   "metadata": {
    "cell_id": "099b99d338844f218eddda2db5ec9f9c",
    "tags": [],
    "deepnote_cell_type": "markdown",
    "deepnote_cell_height": 52.390625
   }
  },
  {
   "cell_type": "code",
   "metadata": {
    "cell_id": "711a863b439743209fbda52179e23d78",
    "tags": [],
    "deepnote_to_be_reexecuted": false,
    "source_hash": "173fc87c",
    "execution_start": 1650643032196,
    "execution_millis": 3,
    "deepnote_cell_type": "code",
    "deepnote_cell_height": 207
   },
   "source": "# Import essential models and functions from sklearn\nfrom sklearn.tree import DecisionTreeClassifier\nfrom sklearn.model_selection import train_test_split\nfrom sklearn.metrics import confusion_matrix\n\n# Recall the Legendary-Total Dataset\ntop_15_rating_tree = pd.DataFrame(filteredanime_data_genres['Rating Category'])\ntop_15_genres_tree = pd.DataFrame(filteredanime_data_genres[top_15_genres])",
   "execution_count": 17,
   "outputs": []
  },
  {
   "cell_type": "code",
   "metadata": {
    "cell_id": "dbf3ff2925144da3aeabafcb2a76eb38",
    "tags": [],
    "deepnote_to_be_reexecuted": false,
    "source_hash": "a8875e16",
    "execution_start": 1650643032201,
    "execution_millis": 501,
    "deepnote_cell_type": "code",
    "deepnote_cell_height": 616.796875
   },
   "source": "top_15_genres_tree",
   "execution_count": 18,
   "outputs": [
    {
     "output_type": "execute_result",
     "execution_count": 18,
     "data": {
      "application/vnd.deepnote.dataframe.v3+json": {
       "column_count": 15,
       "row_count": 6056,
       "columns": [
        {
         "name": "Based on a Manga",
         "dtype": "bool",
         "stats": {
          "unique_count": 2,
          "nan_count": 0,
          "categories": [
           {
            "name": "False",
            "count": 3822
           },
           {
            "name": "True",
            "count": 2234
           }
          ]
         }
        },
        {
         "name": "Comedy",
         "dtype": "bool",
         "stats": {
          "unique_count": 2,
          "nan_count": 0,
          "categories": [
           {
            "name": "False",
            "count": 4128
           },
           {
            "name": "True",
            "count": 1928
           }
          ]
         }
        },
        {
         "name": "Action",
         "dtype": "bool",
         "stats": {
          "unique_count": 2,
          "nan_count": 0,
          "categories": [
           {
            "name": "False",
            "count": 4224
           },
           {
            "name": "True",
            "count": 1832
           }
          ]
         }
        },
        {
         "name": "Fantasy",
         "dtype": "bool",
         "stats": {
          "unique_count": 2,
          "nan_count": 0,
          "categories": [
           {
            "name": "False",
            "count": 4681
           },
           {
            "name": "True",
            "count": 1375
           }
          ]
         }
        },
        {
         "name": "Sci Fi",
         "dtype": "bool",
         "stats": {
          "unique_count": 2,
          "nan_count": 0,
          "categories": [
           {
            "name": "False",
            "count": 4771
           },
           {
            "name": "True",
            "count": 1285
           }
          ]
         }
        },
        {
         "name": "Shounen",
         "dtype": "bool",
         "stats": {
          "unique_count": 2,
          "nan_count": 0,
          "categories": [
           {
            "name": "False",
            "count": 4867
           },
           {
            "name": "True",
            "count": 1189
           }
          ]
         }
        },
        {
         "name": "Original Work",
         "dtype": "bool",
         "stats": {
          "unique_count": 2,
          "nan_count": 0,
          "categories": [
           {
            "name": "False",
            "count": 4954
           },
           {
            "name": "True",
            "count": 1102
           }
          ]
         }
        },
        {
         "name": "Adventure",
         "dtype": "bool",
         "stats": {
          "unique_count": 2,
          "nan_count": 0,
          "categories": [
           {
            "name": "False",
            "count": 5063
           },
           {
            "name": "True",
            "count": 993
           }
          ]
         }
        },
        {
         "name": "Drama",
         "dtype": "bool",
         "stats": {
          "unique_count": 2,
          "nan_count": 0,
          "categories": [
           {
            "name": "False",
            "count": 5064
           },
           {
            "name": "True",
            "count": 992
           }
          ]
         }
        },
        {
         "name": "Family Friendly",
         "dtype": "bool",
         "stats": {
          "unique_count": 2,
          "nan_count": 0,
          "categories": [
           {
            "name": "False",
            "count": 5171
           },
           {
            "name": "True",
            "count": 885
           }
          ]
         }
        },
        {
         "name": "Non-Human Protagonists",
         "dtype": "bool",
         "stats": {
          "unique_count": 2,
          "nan_count": 0,
          "categories": [
           {
            "name": "False",
            "count": 5217
           },
           {
            "name": "True",
            "count": 839
           }
          ]
         }
        },
        {
         "name": "School Life",
         "dtype": "bool",
         "stats": {
          "unique_count": 2,
          "nan_count": 0,
          "categories": [
           {
            "name": "False",
            "count": 5250
           },
           {
            "name": "True",
            "count": 806
           }
          ]
         }
        },
        {
         "name": "Romance",
         "dtype": "bool",
         "stats": {
          "unique_count": 2,
          "nan_count": 0,
          "categories": [
           {
            "name": "False",
            "count": 5343
           },
           {
            "name": "True",
            "count": 713
           }
          ]
         }
        },
        {
         "name": "Short Episodes",
         "dtype": "bool",
         "stats": {
          "unique_count": 2,
          "nan_count": 0,
          "categories": [
           {
            "name": "False",
            "count": 5388
           },
           {
            "name": "True",
            "count": 668
           }
          ]
         }
        },
        {
         "name": "Slice of Life",
         "dtype": "bool",
         "stats": {
          "unique_count": 2,
          "nan_count": 0,
          "categories": [
           {
            "name": "False",
            "count": 5432
           },
           {
            "name": "True",
            "count": 624
           }
          ]
         }
        },
        {
         "name": "_deepnote_index_column",
         "dtype": "int64"
        }
       ],
       "rows": [
        {
         "Based on a Manga": true,
         "Comedy": false,
         "Action": true,
         "Fantasy": true,
         "Sci Fi": false,
         "Shounen": true,
         "Original Work": false,
         "Adventure": true,
         "Drama": false,
         "Family Friendly": false,
         "Non-Human Protagonists": false,
         "School Life": false,
         "Romance": false,
         "Short Episodes": false,
         "Slice of Life": false,
         "_deepnote_index_column": 0
        },
        {
         "Based on a Manga": true,
         "Comedy": false,
         "Action": false,
         "Fantasy": true,
         "Sci Fi": false,
         "Shounen": false,
         "Original Work": false,
         "Adventure": false,
         "Drama": true,
         "Family Friendly": false,
         "Non-Human Protagonists": false,
         "School Life": false,
         "Romance": true,
         "Short Episodes": false,
         "Slice of Life": false,
         "_deepnote_index_column": 1
        },
        {
         "Based on a Manga": true,
         "Comedy": false,
         "Action": true,
         "Fantasy": true,
         "Sci Fi": false,
         "Shounen": true,
         "Original Work": false,
         "Adventure": true,
         "Drama": true,
         "Family Friendly": false,
         "Non-Human Protagonists": false,
         "School Life": false,
         "Romance": false,
         "Short Episodes": false,
         "Slice of Life": false,
         "_deepnote_index_column": 2
        },
        {
         "Based on a Manga": true,
         "Comedy": false,
         "Action": true,
         "Fantasy": true,
         "Sci Fi": false,
         "Shounen": true,
         "Original Work": false,
         "Adventure": false,
         "Drama": false,
         "Family Friendly": false,
         "Non-Human Protagonists": false,
         "School Life": false,
         "Romance": false,
         "Short Episodes": false,
         "Slice of Life": false,
         "_deepnote_index_column": 3
        },
        {
         "Based on a Manga": true,
         "Comedy": false,
         "Action": true,
         "Fantasy": false,
         "Sci Fi": false,
         "Shounen": true,
         "Original Work": false,
         "Adventure": false,
         "Drama": false,
         "Family Friendly": false,
         "Non-Human Protagonists": false,
         "School Life": true,
         "Romance": false,
         "Short Episodes": false,
         "Slice of Life": false,
         "_deepnote_index_column": 4
        },
        {
         "Based on a Manga": true,
         "Comedy": false,
         "Action": true,
         "Fantasy": true,
         "Sci Fi": false,
         "Shounen": true,
         "Original Work": false,
         "Adventure": false,
         "Drama": true,
         "Family Friendly": false,
         "Non-Human Protagonists": false,
         "School Life": false,
         "Romance": false,
         "Short Episodes": false,
         "Slice of Life": false,
         "_deepnote_index_column": 5
        },
        {
         "Based on a Manga": true,
         "Comedy": false,
         "Action": true,
         "Fantasy": true,
         "Sci Fi": false,
         "Shounen": true,
         "Original Work": false,
         "Adventure": false,
         "Drama": true,
         "Family Friendly": false,
         "Non-Human Protagonists": false,
         "School Life": false,
         "Romance": false,
         "Short Episodes": false,
         "Slice of Life": false,
         "_deepnote_index_column": 6
        },
        {
         "Based on a Manga": true,
         "Comedy": false,
         "Action": true,
         "Fantasy": true,
         "Sci Fi": false,
         "Shounen": true,
         "Original Work": false,
         "Adventure": false,
         "Drama": true,
         "Family Friendly": false,
         "Non-Human Protagonists": false,
         "School Life": false,
         "Romance": false,
         "Short Episodes": false,
         "Slice of Life": false,
         "_deepnote_index_column": 7
        },
        {
         "Based on a Manga": true,
         "Comedy": false,
         "Action": false,
         "Fantasy": false,
         "Sci Fi": false,
         "Shounen": true,
         "Original Work": false,
         "Adventure": false,
         "Drama": false,
         "Family Friendly": false,
         "Non-Human Protagonists": false,
         "School Life": true,
         "Romance": false,
         "Short Episodes": false,
         "Slice of Life": false,
         "_deepnote_index_column": 8
        },
        {
         "Based on a Manga": false,
         "Comedy": false,
         "Action": false,
         "Fantasy": false,
         "Sci Fi": false,
         "Shounen": false,
         "Original Work": true,
         "Adventure": false,
         "Drama": true,
         "Family Friendly": false,
         "Non-Human Protagonists": false,
         "School Life": true,
         "Romance": true,
         "Short Episodes": false,
         "Slice of Life": false,
         "_deepnote_index_column": 9
        }
       ]
      },
      "text/plain": "      Based on a Manga  Comedy  Action  Fantasy  Sci Fi  Shounen  \\\n0                 True   False    True     True   False     True   \n1                 True   False   False     True   False    False   \n2                 True   False    True     True   False     True   \n3                 True   False    True     True   False     True   \n4                 True   False    True    False   False     True   \n...                ...     ...     ...      ...     ...      ...   \n6051              True   False   False    False   False    False   \n6052              True   False   False    False   False     True   \n6053             False    True   False     True   False    False   \n6054             False    True   False    False   False    False   \n6055              True   False    True    False    True    False   \n\n      Original Work  Adventure  Drama  Family Friendly  \\\n0             False       True  False            False   \n1             False      False   True            False   \n2             False       True   True            False   \n3             False      False  False            False   \n4             False      False  False            False   \n...             ...        ...    ...              ...   \n6051          False      False  False            False   \n6052          False      False  False            False   \n6053           True      False  False            False   \n6054          False      False  False            False   \n6055          False      False  False            False   \n\n      Non-Human Protagonists  School Life  Romance  Short Episodes  \\\n0                      False        False    False           False   \n1                      False        False     True           False   \n2                      False        False    False           False   \n3                      False        False    False           False   \n4                      False         True    False           False   \n...                      ...          ...      ...             ...   \n6051                   False        False    False           False   \n6052                   False        False    False            True   \n6053                   False        False    False            True   \n6054                   False        False    False            True   \n6055                   False        False    False           False   \n\n      Slice of Life  \n0             False  \n1             False  \n2             False  \n3             False  \n4             False  \n...             ...  \n6051          False  \n6052          False  \n6053          False  \n6054          False  \n6055          False  \n\n[6056 rows x 15 columns]",
      "text/html": "<div>\n<style scoped>\n    .dataframe tbody tr th:only-of-type {\n        vertical-align: middle;\n    }\n\n    .dataframe tbody tr th {\n        vertical-align: top;\n    }\n\n    .dataframe thead th {\n        text-align: right;\n    }\n</style>\n<table border=\"1\" class=\"dataframe\">\n  <thead>\n    <tr style=\"text-align: right;\">\n      <th></th>\n      <th>Based on a Manga</th>\n      <th>Comedy</th>\n      <th>Action</th>\n      <th>Fantasy</th>\n      <th>Sci Fi</th>\n      <th>Shounen</th>\n      <th>Original Work</th>\n      <th>Adventure</th>\n      <th>Drama</th>\n      <th>Family Friendly</th>\n      <th>Non-Human Protagonists</th>\n      <th>School Life</th>\n      <th>Romance</th>\n      <th>Short Episodes</th>\n      <th>Slice of Life</th>\n    </tr>\n  </thead>\n  <tbody>\n    <tr>\n      <th>0</th>\n      <td>True</td>\n      <td>False</td>\n      <td>True</td>\n      <td>True</td>\n      <td>False</td>\n      <td>True</td>\n      <td>False</td>\n      <td>True</td>\n      <td>False</td>\n      <td>False</td>\n      <td>False</td>\n      <td>False</td>\n      <td>False</td>\n      <td>False</td>\n      <td>False</td>\n    </tr>\n    <tr>\n      <th>1</th>\n      <td>True</td>\n      <td>False</td>\n      <td>False</td>\n      <td>True</td>\n      <td>False</td>\n      <td>False</td>\n      <td>False</td>\n      <td>False</td>\n      <td>True</td>\n      <td>False</td>\n      <td>False</td>\n      <td>False</td>\n      <td>True</td>\n      <td>False</td>\n      <td>False</td>\n    </tr>\n    <tr>\n      <th>2</th>\n      <td>True</td>\n      <td>False</td>\n      <td>True</td>\n      <td>True</td>\n      <td>False</td>\n      <td>True</td>\n      <td>False</td>\n      <td>True</td>\n      <td>True</td>\n      <td>False</td>\n      <td>False</td>\n      <td>False</td>\n      <td>False</td>\n      <td>False</td>\n      <td>False</td>\n    </tr>\n    <tr>\n      <th>3</th>\n      <td>True</td>\n      <td>False</td>\n      <td>True</td>\n      <td>True</td>\n      <td>False</td>\n      <td>True</td>\n      <td>False</td>\n      <td>False</td>\n      <td>False</td>\n      <td>False</td>\n      <td>False</td>\n      <td>False</td>\n      <td>False</td>\n      <td>False</td>\n      <td>False</td>\n    </tr>\n    <tr>\n      <th>4</th>\n      <td>True</td>\n      <td>False</td>\n      <td>True</td>\n      <td>False</td>\n      <td>False</td>\n      <td>True</td>\n      <td>False</td>\n      <td>False</td>\n      <td>False</td>\n      <td>False</td>\n      <td>False</td>\n      <td>True</td>\n      <td>False</td>\n      <td>False</td>\n      <td>False</td>\n    </tr>\n    <tr>\n      <th>...</th>\n      <td>...</td>\n      <td>...</td>\n      <td>...</td>\n      <td>...</td>\n      <td>...</td>\n      <td>...</td>\n      <td>...</td>\n      <td>...</td>\n      <td>...</td>\n      <td>...</td>\n      <td>...</td>\n      <td>...</td>\n      <td>...</td>\n      <td>...</td>\n      <td>...</td>\n    </tr>\n    <tr>\n      <th>6051</th>\n      <td>True</td>\n      <td>False</td>\n      <td>False</td>\n      <td>False</td>\n      <td>False</td>\n      <td>False</td>\n      <td>False</td>\n      <td>False</td>\n      <td>False</td>\n      <td>False</td>\n      <td>False</td>\n      <td>False</td>\n      <td>False</td>\n      <td>False</td>\n      <td>False</td>\n    </tr>\n    <tr>\n      <th>6052</th>\n      <td>True</td>\n      <td>False</td>\n      <td>False</td>\n      <td>False</td>\n      <td>False</td>\n      <td>True</td>\n      <td>False</td>\n      <td>False</td>\n      <td>False</td>\n      <td>False</td>\n      <td>False</td>\n      <td>False</td>\n      <td>False</td>\n      <td>True</td>\n      <td>False</td>\n    </tr>\n    <tr>\n      <th>6053</th>\n      <td>False</td>\n      <td>True</td>\n      <td>False</td>\n      <td>True</td>\n      <td>False</td>\n      <td>False</td>\n      <td>True</td>\n      <td>False</td>\n      <td>False</td>\n      <td>False</td>\n      <td>False</td>\n      <td>False</td>\n      <td>False</td>\n      <td>True</td>\n      <td>False</td>\n    </tr>\n    <tr>\n      <th>6054</th>\n      <td>False</td>\n      <td>True</td>\n      <td>False</td>\n      <td>False</td>\n      <td>False</td>\n      <td>False</td>\n      <td>False</td>\n      <td>False</td>\n      <td>False</td>\n      <td>False</td>\n      <td>False</td>\n      <td>False</td>\n      <td>False</td>\n      <td>True</td>\n      <td>False</td>\n    </tr>\n    <tr>\n      <th>6055</th>\n      <td>True</td>\n      <td>False</td>\n      <td>True</td>\n      <td>False</td>\n      <td>True</td>\n      <td>False</td>\n      <td>False</td>\n      <td>False</td>\n      <td>False</td>\n      <td>False</td>\n      <td>False</td>\n      <td>False</td>\n      <td>False</td>\n      <td>False</td>\n      <td>False</td>\n    </tr>\n  </tbody>\n</table>\n<p>6056 rows × 15 columns</p>\n</div>"
     },
     "metadata": {}
    }
   ]
  },
  {
   "cell_type": "code",
   "metadata": {
    "cell_id": "78afc9ed1afe499493dab75bf51bc08a",
    "tags": [],
    "deepnote_to_be_reexecuted": false,
    "source_hash": "cdb07944",
    "execution_start": 1650643032301,
    "execution_millis": 821,
    "deepnote_cell_type": "code",
    "deepnote_cell_height": 960.1875,
    "deepnote_output_heights": [
     null,
     21.1875,
     305
    ]
   },
   "source": "top_15_rating_train, top_15_rating_test, top_15_genres_train, top_15_genres_test = train_test_split(top_15_rating_tree, top_15_genres_tree, test_size = 0.2)\n\ndectree_genres = DecisionTreeClassifier(max_depth = 6)\ndectree_genres.fit(top_15_genres_train, top_15_rating_train)\n\ntop_15_rating_train_pred = dectree_genres.predict(top_15_genres_train)\ntop_15_rating_test_pred = dectree_genres.predict(top_15_genres_test)\n\nprint(\"Goodness of Fit of Model \\tTrain Dataset\")\nprint(\"Classification Accuracy \\t:\", dectree_genres.score(top_15_genres_train, top_15_rating_train))\nprint()\n\nprint(\"Goodness of Fit of Model \\tTest Dataset\")\nprint(\"Classification Accuracy \\t:\", dectree_genres.score(top_15_genres_test, top_15_rating_test))\nprint()\n\nf, axes = plt.subplots(1, 2, figsize=(30, 10))\nsb.heatmap(confusion_matrix(top_15_rating_train, top_15_rating_train_pred),\n           annot = True, fmt=\".0f\", annot_kws={\"size\": 18}, ax = axes[0])\nsb.heatmap(confusion_matrix(top_15_rating_test, top_15_rating_test_pred), \n           annot = True, fmt=\".0f\", annot_kws={\"size\": 18}, ax = axes[1])",
   "execution_count": 19,
   "outputs": [
    {
     "name": "stdout",
     "text": "Goodness of Fit of Model \tTrain Dataset\nClassification Accuracy \t: 0.41701073492981006\n\nGoodness of Fit of Model \tTest Dataset\nClassification Accuracy \t: 0.38613861386138615\n\n",
     "output_type": "stream"
    },
    {
     "output_type": "execute_result",
     "execution_count": 19,
     "data": {
      "text/plain": "<AxesSubplot:>"
     },
     "metadata": {}
    },
    {
     "data": {
      "text/plain": "<Figure size 2160x720 with 4 Axes>",
      "image/png": "[encoded data removed]"
     },
     "metadata": {
      "image/png": {
       "width": 1651,
       "height": 577
      }
     },
     "output_type": "display_data"
    }
   ]
  },
  {
   "cell_type": "code",
   "metadata": {
    "cell_id": "4b65bd34c6e8493289980f8c39392ce1",
    "tags": [],
    "deepnote_to_be_reexecuted": false,
    "source_hash": "5b9fc06",
    "execution_start": 1650643033126,
    "execution_millis": 18,
    "deepnote_cell_type": "code",
    "deepnote_cell_height": 267
   },
   "source": "accuracy_train = [['Tags', dectree_genres.score(top_15_genres_train, top_15_rating_train)]]\naccuracy_train_scores_genres = pd.DataFrame(accuracy_train, columns = ['Category', 'Accuracy Score'])\naccuracy_train_scores_genres",
   "execution_count": 20,
   "outputs": [
    {
     "output_type": "execute_result",
     "execution_count": 20,
     "data": {
      "application/vnd.deepnote.dataframe.v3+json": {
       "column_count": 2,
       "row_count": 1,
       "columns": [
        {
         "name": "Category",
         "dtype": "object",
         "stats": {
          "unique_count": 1,
          "nan_count": 0,
          "categories": [
           {
            "name": "Tags",
            "count": 1
           }
          ]
         }
        },
        {
         "name": "Accuracy Score",
         "dtype": "float64",
         "stats": {
          "unique_count": 1,
          "nan_count": 0,
          "min": "0.41701073492981006",
          "max": "0.41701073492981006",
          "histogram": [
           {
            "bin_start": -0.08298926507018994,
            "bin_end": 0.017010734929810062,
            "count": 0
           },
           {
            "bin_start": 0.017010734929810062,
            "bin_end": 0.11701073492981007,
            "count": 0
           },
           {
            "bin_start": 0.11701073492981007,
            "bin_end": 0.2170107349298101,
            "count": 0
           },
           {
            "bin_start": 0.2170107349298101,
            "bin_end": 0.3170107349298101,
            "count": 0
           },
           {
            "bin_start": 0.3170107349298101,
            "bin_end": 0.41701073492981006,
            "count": 0
           },
           {
            "bin_start": 0.41701073492981006,
            "bin_end": 0.5170107349298101,
            "count": 1
           },
           {
            "bin_start": 0.5170107349298101,
            "bin_end": 0.6170107349298102,
            "count": 0
           },
           {
            "bin_start": 0.6170107349298102,
            "bin_end": 0.71701073492981,
            "count": 0
           },
           {
            "bin_start": 0.71701073492981,
            "bin_end": 0.8170107349298101,
            "count": 0
           },
           {
            "bin_start": 0.8170107349298101,
            "bin_end": 0.91701073492981,
            "count": 0
           }
          ]
         }
        },
        {
         "name": "_deepnote_index_column",
         "dtype": "int64"
        }
       ],
       "rows": [
        {
         "Category": "Tags",
         "Accuracy Score": 0.41701073492981006,
         "_deepnote_index_column": 0
        }
       ]
      },
      "text/plain": "  Category  Accuracy Score\n0     Tags        0.417011",
      "text/html": "<div>\n<style scoped>\n    .dataframe tbody tr th:only-of-type {\n        vertical-align: middle;\n    }\n\n    .dataframe tbody tr th {\n        vertical-align: top;\n    }\n\n    .dataframe thead th {\n        text-align: right;\n    }\n</style>\n<table border=\"1\" class=\"dataframe\">\n  <thead>\n    <tr style=\"text-align: right;\">\n      <th></th>\n      <th>Category</th>\n      <th>Accuracy Score</th>\n    </tr>\n  </thead>\n  <tbody>\n    <tr>\n      <th>0</th>\n      <td>Tags</td>\n      <td>0.417011</td>\n    </tr>\n  </tbody>\n</table>\n</div>"
     },
     "metadata": {}
    }
   ]
  },
  {
   "cell_type": "code",
   "metadata": {
    "cell_id": "f993e39c0cdc4da393f71a267b8efef1",
    "tags": [],
    "deepnote_to_be_reexecuted": false,
    "source_hash": "690bdff4",
    "execution_start": 1650643033148,
    "execution_millis": 19,
    "deepnote_cell_type": "code",
    "deepnote_cell_height": 267
   },
   "source": "accuracy_test = [['Tags', dectree_genres.score(top_15_genres_test, top_15_rating_test)]]\naccuracy_test_scores_genres = pd.DataFrame(accuracy_test, columns = ['Category', 'Accuracy Score'])\naccuracy_test_scores_genres",
   "execution_count": 21,
   "outputs": [
    {
     "output_type": "execute_result",
     "execution_count": 21,
     "data": {
      "application/vnd.deepnote.dataframe.v3+json": {
       "column_count": 2,
       "row_count": 1,
       "columns": [
        {
         "name": "Category",
         "dtype": "object",
         "stats": {
          "unique_count": 1,
          "nan_count": 0,
          "categories": [
           {
            "name": "Tags",
            "count": 1
           }
          ]
         }
        },
        {
         "name": "Accuracy Score",
         "dtype": "float64",
         "stats": {
          "unique_count": 1,
          "nan_count": 0,
          "min": "0.38613861386138615",
          "max": "0.38613861386138615",
          "histogram": [
           {
            "bin_start": -0.11386138613861385,
            "bin_end": -0.013861386138613846,
            "count": 0
           },
           {
            "bin_start": -0.013861386138613846,
            "bin_end": 0.08613861386138616,
            "count": 0
           },
           {
            "bin_start": 0.08613861386138616,
            "bin_end": 0.1861386138613862,
            "count": 0
           },
           {
            "bin_start": 0.1861386138613862,
            "bin_end": 0.28613861386138617,
            "count": 0
           },
           {
            "bin_start": 0.28613861386138617,
            "bin_end": 0.38613861386138615,
            "count": 0
           },
           {
            "bin_start": 0.38613861386138615,
            "bin_end": 0.48613861386138624,
            "count": 1
           },
           {
            "bin_start": 0.48613861386138624,
            "bin_end": 0.5861386138613862,
            "count": 0
           },
           {
            "bin_start": 0.5861386138613862,
            "bin_end": 0.6861386138613862,
            "count": 0
           },
           {
            "bin_start": 0.6861386138613862,
            "bin_end": 0.7861386138613862,
            "count": 0
           },
           {
            "bin_start": 0.7861386138613862,
            "bin_end": 0.8861386138613861,
            "count": 0
           }
          ]
         }
        },
        {
         "name": "_deepnote_index_column",
         "dtype": "int64"
        }
       ],
       "rows": [
        {
         "Category": "Tags",
         "Accuracy Score": 0.38613861386138615,
         "_deepnote_index_column": 0
        }
       ]
      },
      "text/plain": "  Category  Accuracy Score\n0     Tags        0.386139",
      "text/html": "<div>\n<style scoped>\n    .dataframe tbody tr th:only-of-type {\n        vertical-align: middle;\n    }\n\n    .dataframe tbody tr th {\n        vertical-align: top;\n    }\n\n    .dataframe thead th {\n        text-align: right;\n    }\n</style>\n<table border=\"1\" class=\"dataframe\">\n  <thead>\n    <tr style=\"text-align: right;\">\n      <th></th>\n      <th>Category</th>\n      <th>Accuracy Score</th>\n    </tr>\n  </thead>\n  <tbody>\n    <tr>\n      <th>0</th>\n      <td>Tags</td>\n      <td>0.386139</td>\n    </tr>\n  </tbody>\n</table>\n</div>"
     },
     "metadata": {}
    }
   ]
  },
  {
   "cell_type": "markdown",
   "source": "**Release Year**",
   "metadata": {
    "cell_id": "ab9c47ab07c346a5bfcf20c2fcdff16c",
    "tags": [],
    "deepnote_cell_type": "markdown",
    "deepnote_cell_height": 52.390625
   }
  },
  {
   "cell_type": "code",
   "metadata": {
    "cell_id": "f03245056ee746b587a4834b8699e710",
    "tags": [],
    "deepnote_to_be_reexecuted": false,
    "source_hash": "55d63467",
    "execution_start": 1650643033168,
    "execution_millis": 83,
    "deepnote_table_state": {
     "pageSize": 10,
     "pageIndex": 5,
     "filters": [],
     "sortBy": [
      {
       "id": "Release_year",
       "type": "asc"
      }
     ]
    },
    "deepnote_table_loading": false,
    "deepnote_cell_type": "code",
    "deepnote_cell_height": 686
   },
   "source": "filteredanime_data_releaseyear = filteredanime_data.copy()\nfilteredanime_data_releaseyear[\"Rating Category\"] = pd.cut(x = filteredanime_data_releaseyear.Rating, bins = [0, 3, 3.3, 3.6, 4, 5], labels = ratings)\nfilteredanime_data_releaseyear = filteredanime_data_releaseyear[['Release_year', 'Rating Category']].copy()\nfilteredanime_data_releaseyear",
   "execution_count": 22,
   "outputs": [
    {
     "output_type": "execute_result",
     "execution_count": 22,
     "data": {
      "application/vnd.deepnote.dataframe.v3+json": {
       "column_count": 2,
       "row_count": 6056,
       "columns": [
        {
         "name": "Release_year",
         "dtype": "float64",
         "stats": {
          "unique_count": 67,
          "nan_count": 0,
          "min": "1956.0",
          "max": "2022.0",
          "histogram": [
           {
            "bin_start": 1956,
            "bin_end": 1962.6,
            "count": 14
           },
           {
            "bin_start": 1962.6,
            "bin_end": 1969.2,
            "count": 78
           },
           {
            "bin_start": 1969.2,
            "bin_end": 1975.8,
            "count": 113
           },
           {
            "bin_start": 1975.8,
            "bin_end": 1982.4,
            "count": 235
           },
           {
            "bin_start": 1982.4,
            "bin_end": 1989,
            "count": 304
           },
           {
            "bin_start": 1989,
            "bin_end": 1995.6,
            "count": 385
           },
           {
            "bin_start": 1995.6,
            "bin_end": 2002.2,
            "count": 644
           },
           {
            "bin_start": 2002.2,
            "bin_end": 2008.8,
            "count": 998
           },
           {
            "bin_start": 2008.8,
            "bin_end": 2015.4,
            "count": 1542
           },
           {
            "bin_start": 2015.4,
            "bin_end": 2022,
            "count": 1743
           }
          ]
         }
        },
        {
         "name": "Rating Category",
         "dtype": "category",
         "stats": {
          "unique_count": 5,
          "nan_count": 0,
          "categories": [
           {
            "name": "Average (3.3 - 3.6]",
            "count": 2099
           },
           {
            "name": "Above Average (3.6, 4]",
            "count": 1583
           },
           {
            "name": "3 others",
            "count": 2374
           }
          ]
         }
        },
        {
         "name": "_deepnote_index_column",
         "dtype": "int64"
        }
       ],
       "rows": [
        {
         "Release_year": 1967,
         "Rating Category": "Below Average (3 - 3.3]",
         "_deepnote_index_column": 5174
        },
        {
         "Release_year": 1967,
         "Rating Category": "Below Average (3 - 3.3]",
         "_deepnote_index_column": 4362
        },
        {
         "Release_year": 1967,
         "Rating Category": "Below Average (3 - 3.3]",
         "_deepnote_index_column": 4904
        },
        {
         "Release_year": 1967,
         "Rating Category": "Below Average (3 - 3.3]",
         "_deepnote_index_column": 4767
        },
        {
         "Release_year": 1967,
         "Rating Category": "Below Average (3 - 3.3]",
         "_deepnote_index_column": 4817
        },
        {
         "Release_year": 1967,
         "Rating Category": "Below Average (3 - 3.3]",
         "_deepnote_index_column": 5165
        },
        {
         "Release_year": 1967,
         "Rating Category": "Average (3.3 - 3.6]",
         "_deepnote_index_column": 4241
        },
        {
         "Release_year": 1967,
         "Rating Category": "Below Average (3 - 3.3]",
         "_deepnote_index_column": 5138
        },
        {
         "Release_year": 1967,
         "Rating Category": "Below Average (3 - 3.3]",
         "_deepnote_index_column": 4959
        },
        {
         "Release_year": 1967,
         "Rating Category": "Average (3.3 - 3.6]",
         "_deepnote_index_column": 3737
        }
       ]
      },
      "text/plain": "      Release_year Rating Category\n0           2021.0   Good (4, 5.0]\n1           2021.0   Good (4, 5.0]\n2           2009.0   Good (4, 5.0]\n3           2019.0   Good (4, 5.0]\n4           2020.0   Good (4, 5.0]\n...            ...             ...\n6051        2020.0     Poor (0, 3]\n6052        2014.0     Poor (0, 3]\n6053        2016.0     Poor (0, 3]\n6054        2015.0     Poor (0, 3]\n6055        2021.0     Poor (0, 3]\n\n[6056 rows x 2 columns]",
      "text/html": "<div>\n<style scoped>\n    .dataframe tbody tr th:only-of-type {\n        vertical-align: middle;\n    }\n\n    .dataframe tbody tr th {\n        vertical-align: top;\n    }\n\n    .dataframe thead th {\n        text-align: right;\n    }\n</style>\n<table border=\"1\" class=\"dataframe\">\n  <thead>\n    <tr style=\"text-align: right;\">\n      <th></th>\n      <th>Release_year</th>\n      <th>Rating Category</th>\n    </tr>\n  </thead>\n  <tbody>\n    <tr>\n      <th>0</th>\n      <td>2021.0</td>\n      <td>Good (4, 5.0]</td>\n    </tr>\n    <tr>\n      <th>1</th>\n      <td>2021.0</td>\n      <td>Good (4, 5.0]</td>\n    </tr>\n    <tr>\n      <th>2</th>\n      <td>2009.0</td>\n      <td>Good (4, 5.0]</td>\n    </tr>\n    <tr>\n      <th>3</th>\n      <td>2019.0</td>\n      <td>Good (4, 5.0]</td>\n    </tr>\n    <tr>\n      <th>4</th>\n      <td>2020.0</td>\n      <td>Good (4, 5.0]</td>\n    </tr>\n    <tr>\n      <th>...</th>\n      <td>...</td>\n      <td>...</td>\n    </tr>\n    <tr>\n      <th>6051</th>\n      <td>2020.0</td>\n      <td>Poor (0, 3]</td>\n    </tr>\n    <tr>\n      <th>6052</th>\n      <td>2014.0</td>\n      <td>Poor (0, 3]</td>\n    </tr>\n    <tr>\n      <th>6053</th>\n      <td>2016.0</td>\n      <td>Poor (0, 3]</td>\n    </tr>\n    <tr>\n      <th>6054</th>\n      <td>2015.0</td>\n      <td>Poor (0, 3]</td>\n    </tr>\n    <tr>\n      <th>6055</th>\n      <td>2021.0</td>\n      <td>Poor (0, 3]</td>\n    </tr>\n  </tbody>\n</table>\n<p>6056 rows × 2 columns</p>\n</div>"
     },
     "metadata": {}
    }
   ]
  },
  {
   "cell_type": "code",
   "metadata": {
    "cell_id": "2ac1b5df66a641b4b62f621f5166b11a",
    "tags": [],
    "deepnote_to_be_reexecuted": false,
    "source_hash": "6aeff79",
    "execution_start": 1650643033248,
    "execution_millis": 690,
    "deepnote_cell_type": "code",
    "deepnote_cell_height": 996,
    "deepnote_output_heights": [
     null,
     21.1875,
     298.90625
    ]
   },
   "source": "top_15_rating_tree = pd.DataFrame(filteredanime_data_releaseyear['Rating Category'])\ntop_15_releaseyear_tree = pd.DataFrame(filteredanime_data_releaseyear['Release_year'])\ntop_15_rating_train, top_15_rating_test, top_15_releaseyear_train, top_15_releaseyear_test = train_test_split(top_15_rating_tree, top_15_releaseyear_tree, test_size = 0.2)\n\ndectree_releaseyear = DecisionTreeClassifier(max_depth = 6)  # create the decision tree object\ndectree_releaseyear.fit(top_15_releaseyear_train, top_15_rating_train)                    # train the decision tree model\n\ntop_15_rating_train_pred = dectree_releaseyear.predict(top_15_releaseyear_train)\ntop_15_rating_test_pred = dectree_releaseyear.predict(top_15_releaseyear_test)\n\nprint(\"Goodness of Fit of Model \\tTrain Dataset\")\nprint(\"Classification Accuracy \\t:\", dectree_releaseyear.score(top_15_releaseyear_train, top_15_rating_train))\nprint()\n\nprint(\"Goodness of Fit of Model \\tTest Dataset\")\nprint(\"Classification Accuracy \\t:\", dectree_releaseyear.score(top_15_releaseyear_test, top_15_rating_test))\nprint()\n\nf, axes = plt.subplots(1, 2, figsize=(30, 10))\nsb.heatmap(confusion_matrix(top_15_rating_train, top_15_rating_train_pred),\n           annot = True, fmt=\".0f\", annot_kws={\"size\": 18}, ax = axes[0])\nsb.heatmap(confusion_matrix(top_15_rating_test, top_15_rating_test_pred), \n           annot = True, fmt=\".0f\", annot_kws={\"size\": 18}, ax = axes[1])",
   "execution_count": 23,
   "outputs": [
    {
     "name": "stdout",
     "text": "Goodness of Fit of Model \tTrain Dataset\nClassification Accuracy \t: 0.37799339388934766\n\nGoodness of Fit of Model \tTest Dataset\nClassification Accuracy \t: 0.3787128712871287\n\n",
     "output_type": "stream"
    },
    {
     "output_type": "execute_result",
     "execution_count": 23,
     "data": {
      "text/plain": "<AxesSubplot:>"
     },
     "metadata": {}
    },
    {
     "data": {
      "text/plain": "<Figure size 2160x720 with 4 Axes>",
      "image/png": "[encoded data removed]"
     },
     "metadata": {
      "image/png": {
       "width": 1651,
       "height": 577
      }
     },
     "output_type": "display_data"
    }
   ]
  },
  {
   "cell_type": "code",
   "metadata": {
    "cell_id": "a65b6377bda94e46bdc93daac5b9d477",
    "tags": [],
    "deepnote_to_be_reexecuted": false,
    "source_hash": "2b22ab8f",
    "execution_start": 1650643033945,
    "execution_millis": 6637,
    "deepnote_cell_type": "code",
    "deepnote_cell_height": 1134,
    "deepnote_output_heights": [
     606.1875,
     287
    ]
   },
   "source": "from sklearn.tree import plot_tree\n\nf = plt.figure(figsize=(36,12))\n#added precision to round off the number\nplot_tree(dectree_releaseyear, filled=True, rounded=True,precision=0, \n          feature_names=[\"Release_year\"],\n          class_names=True)",
   "execution_count": 24,
   "outputs": [
    {
     "output_type": "execute_result",
     "execution_count": 24,
     "data": {
      "text/plain": "[Text(0.5175, 0.9285714285714286, 'Release_year <= 2004.0\\ngini = 1.0\\nsamples = 4844\\nvalue = [1272, 1676, 917, 512, 467]\\nclass = y[1]'),\n Text(0.27666666666666667, 0.7857142857142857, 'Release_year <= 1976.0\\ngini = 1.0\\nsamples = 1529\\nvalue = [266, 728, 395, 44, 96]\\nclass = y[1]'),\n Text(0.10666666666666667, 0.6428571428571429, 'Release_year <= 1968.0\\ngini = 1.0\\nsamples = 186\\nvalue = [3, 77, 93, 0, 13]\\nclass = y[2]'),\n Text(0.04, 0.5, 'Release_year <= 1966.0\\ngini = 1.0\\nsamples = 46\\nvalue = [0, 14, 28, 0, 4]\\nclass = y[2]'),\n Text(0.02666666666666667, 0.35714285714285715, 'Release_year <= 1956.0\\ngini = 1.0\\nsamples = 39\\nvalue = [0, 14, 21, 0, 4]\\nclass = y[2]'),\n Text(0.013333333333333334, 0.21428571428571427, 'gini = 0.0\\nsamples = 2\\nvalue = [0, 2, 0, 0, 0]\\nclass = y[1]'),\n Text(0.04, 0.21428571428571427, 'Release_year <= 1966.0\\ngini = 1.0\\nsamples = 37\\nvalue = [0, 12, 21, 0, 4]\\nclass = y[2]'),\n Text(0.02666666666666667, 0.07142857142857142, 'gini = 1.0\\nsamples = 29\\nvalue = [0, 7, 18, 0, 4]\\nclass = y[2]'),\n Text(0.05333333333333334, 0.07142857142857142, 'gini = 0.0\\nsamples = 8\\nvalue = [0, 5, 3, 0, 0]\\nclass = y[1]'),\n Text(0.05333333333333334, 0.35714285714285715, 'gini = 0.0\\nsamples = 7\\nvalue = [0, 0, 7, 0, 0]\\nclass = y[2]'),\n Text(0.17333333333333334, 0.5, 'Release_year <= 1972.0\\ngini = 1.0\\nsamples = 140\\nvalue = [3, 63, 65, 0, 9]\\nclass = y[2]'),\n Text(0.12, 0.35714285714285715, 'Release_year <= 1970.0\\ngini = 1.0\\nsamples = 60\\nvalue = [3, 31, 23, 0, 3]\\nclass = y[1]'),\n Text(0.09333333333333334, 0.21428571428571427, 'Release_year <= 1968.0\\ngini = 1.0\\nsamples = 28\\nvalue = [1, 14, 12, 0, 1]\\nclass = y[1]'),\n Text(0.08, 0.07142857142857142, 'gini = 1.0\\nsamples = 14\\nvalue = [0, 8, 5, 0, 1]\\nclass = y[1]'),\n Text(0.10666666666666667, 0.07142857142857142, 'gini = 1.0\\nsamples = 14\\nvalue = [1, 6, 7, 0, 0]\\nclass = y[2]'),\n Text(0.14666666666666667, 0.21428571428571427, 'Release_year <= 1970.0\\ngini = 1.0\\nsamples = 32\\nvalue = [2, 17, 11, 0, 2]\\nclass = y[1]'),\n Text(0.13333333333333333, 0.07142857142857142, 'gini = 1.0\\nsamples = 19\\nvalue = [1, 10, 7, 0, 1]\\nclass = y[1]'),\n Text(0.16, 0.07142857142857142, 'gini = 1.0\\nsamples = 13\\nvalue = [1, 7, 4, 0, 1]\\nclass = y[1]'),\n Text(0.22666666666666666, 0.35714285714285715, 'Release_year <= 1974.0\\ngini = 1.0\\nsamples = 80\\nvalue = [0, 32, 42, 0, 6]\\nclass = y[2]'),\n Text(0.2, 0.21428571428571427, 'Release_year <= 1972.0\\ngini = 0.0\\nsamples = 30\\nvalue = [0, 8, 20, 0, 2]\\nclass = y[2]'),\n Text(0.18666666666666668, 0.07142857142857142, 'gini = 1.0\\nsamples = 12\\nvalue = [0, 4, 7, 0, 1]\\nclass = y[2]'),\n Text(0.21333333333333335, 0.07142857142857142, 'gini = 0.0\\nsamples = 18\\nvalue = [0, 4, 13, 0, 1]\\nclass = y[2]'),\n Text(0.25333333333333335, 0.21428571428571427, 'Release_year <= 1974.0\\ngini = 1.0\\nsamples = 50\\nvalue = [0, 24, 22, 0, 4]\\nclass = y[1]'),\n Text(0.24, 0.07142857142857142, 'gini = 1.0\\nsamples = 15\\nvalue = [0, 9, 4, 0, 2]\\nclass = y[1]'),\n Text(0.26666666666666666, 0.07142857142857142, 'gini = 1.0\\nsamples = 35\\nvalue = [0, 15, 18, 0, 2]\\nclass = y[2]'),\n Text(0.44666666666666666, 0.6428571428571429, 'Release_year <= 1994.0\\ngini = 1.0\\nsamples = 1343\\nvalue = [263, 651, 302, 44, 83]\\nclass = y[1]'),\n Text(0.38, 0.5, 'Release_year <= 1986.0\\ngini = 1.0\\nsamples = 626\\nvalue = [103, 346, 144, 8, 25]\\nclass = y[1]'),\n Text(0.3333333333333333, 0.35714285714285715, 'Release_year <= 1978.0\\ngini = 1.0\\nsamples = 340\\nvalue = [49, 174, 100, 4, 13]\\nclass = y[1]'),\n Text(0.30666666666666664, 0.21428571428571427, 'Release_year <= 1978.0\\ngini = 1.0\\nsamples = 43\\nvalue = [4, 27, 11, 0, 1]\\nclass = y[1]'),\n Text(0.29333333333333333, 0.07142857142857142, 'gini = 1.0\\nsamples = 25\\nvalue = [1, 16, 7, 0, 1]\\nclass = y[1]'),\n Text(0.32, 0.07142857142857142, 'gini = 1.0\\nsamples = 18\\nvalue = [3, 11, 4, 0, 0]\\nclass = y[1]'),\n Text(0.36, 0.21428571428571427, 'Release_year <= 1980.0\\ngini = 1.0\\nsamples = 297\\nvalue = [45, 147, 89, 4, 12]\\nclass = y[1]'),\n Text(0.3466666666666667, 0.07142857142857142, 'gini = 1.0\\nsamples = 52\\nvalue = [6, 24, 21, 1, 0]\\nclass = y[1]'),\n Text(0.37333333333333335, 0.07142857142857142, 'gini = 1.0\\nsamples = 245\\nvalue = [39, 123, 68, 3, 12]\\nclass = y[1]'),\n Text(0.4266666666666667, 0.35714285714285715, 'Release_year <= 1992.0\\ngini = 1.0\\nsamples = 286\\nvalue = [54, 172, 44, 4, 12]\\nclass = y[1]'),\n Text(0.41333333333333333, 0.21428571428571427, 'Release_year <= 1992.0\\ngini = 1.0\\nsamples = 243\\nvalue = [49, 142, 42, 2, 8]\\nclass = y[1]'),\n Text(0.4, 0.07142857142857142, 'gini = 1.0\\nsamples = 197\\nvalue = [41, 116, 31, 2, 7]\\nclass = y[1]'),\n Text(0.4266666666666667, 0.07142857142857142, 'gini = 1.0\\nsamples = 46\\nvalue = [8, 26, 11, 0, 1]\\nclass = y[1]'),\n Text(0.44, 0.21428571428571427, 'gini = 0.0\\nsamples = 43\\nvalue = [5, 30, 2, 2, 4]\\nclass = y[1]'),\n Text(0.5133333333333333, 0.5, 'Release_year <= 1996.0\\ngini = 1.0\\nsamples = 717\\nvalue = [160, 305, 158, 36, 58]\\nclass = y[1]'),\n Text(0.48, 0.35714285714285715, 'Release_year <= 1996.0\\ngini = 1.0\\nsamples = 150\\nvalue = [48, 73, 17, 5, 7]\\nclass = y[1]'),\n Text(0.4666666666666667, 0.21428571428571427, 'Release_year <= 1994.0\\ngini = 1.0\\nsamples = 102\\nvalue = [32, 47, 13, 3, 7]\\nclass = y[1]'),\n Text(0.4533333333333333, 0.07142857142857142, 'gini = 1.0\\nsamples = 51\\nvalue = [15, 25, 7, 0, 4]\\nclass = y[1]'),\n Text(0.48, 0.07142857142857142, 'gini = 1.0\\nsamples = 51\\nvalue = [17, 22, 6, 3, 3]\\nclass = y[1]'),\n Text(0.49333333333333335, 0.21428571428571427, 'gini = 1.0\\nsamples = 48\\nvalue = [16, 26, 4, 2, 0]\\nclass = y[1]'),\n Text(0.5466666666666666, 0.35714285714285715, 'Release_year <= 2000.0\\ngini = 1.0\\nsamples = 567\\nvalue = [112, 232, 141, 31, 51]\\nclass = y[1]'),\n Text(0.52, 0.21428571428571427, 'Release_year <= 1998.0\\ngini = 1.0\\nsamples = 227\\nvalue = [32, 97, 68, 15, 15]\\nclass = y[1]'),\n Text(0.5066666666666667, 0.07142857142857142, 'gini = 1.0\\nsamples = 59\\nvalue = [11, 27, 14, 4, 3]\\nclass = y[1]'),\n Text(0.5333333333333333, 0.07142857142857142, 'gini = 1.0\\nsamples = 168\\nvalue = [21, 70, 54, 11, 12]\\nclass = y[1]'),\n Text(0.5733333333333334, 0.21428571428571427, 'Release_year <= 2002.0\\ngini = 1.0\\nsamples = 340\\nvalue = [80, 135, 73, 16, 36]\\nclass = y[1]'),\n Text(0.56, 0.07142857142857142, 'gini = 1.0\\nsamples = 245\\nvalue = [61, 102, 50, 11, 21]\\nclass = y[1]'),\n Text(0.5866666666666667, 0.07142857142857142, 'gini = 1.0\\nsamples = 95\\nvalue = [19, 33, 23, 5, 15]\\nclass = y[1]'),\n Text(0.7583333333333333, 0.7857142857142857, 'Release_year <= 2010.0\\ngini = 1.0\\nsamples = 3315\\nvalue = [1006, 948, 522, 468, 371]\\nclass = y[0]'),\n Text(0.6533333333333333, 0.6428571428571429, 'Release_year <= 2006.0\\ngini = 1.0\\nsamples = 834\\nvalue = [236, 296, 142, 91, 69]\\nclass = y[1]'),\n Text(0.6266666666666667, 0.5, 'Release_year <= 2006.0\\ngini = 1.0\\nsamples = 404\\nvalue = [107, 152, 77, 35, 33]\\nclass = y[1]'),\n Text(0.6133333333333333, 0.35714285714285715, 'Release_year <= 2004.0\\ngini = 1.0\\nsamples = 240\\nvalue = [69, 85, 48, 16, 22]\\nclass = y[1]'),\n Text(0.6, 0.21428571428571427, 'gini = 1.0\\nsamples = 115\\nvalue = [28, 44, 22, 8, 13]\\nclass = y[1]'),\n Text(0.6266666666666667, 0.21428571428571427, 'gini = 1.0\\nsamples = 125\\nvalue = [41, 41, 26, 8, 9]\\nclass = y[0]'),\n Text(0.64, 0.35714285714285715, 'gini = 1.0\\nsamples = 164\\nvalue = [38, 67, 29, 19, 11]\\nclass = y[1]'),\n Text(0.68, 0.5, 'Release_year <= 2008.0\\ngini = 1.0\\nsamples = 430\\nvalue = [129, 144, 65, 56, 36]\\nclass = y[1]'),\n Text(0.6666666666666666, 0.35714285714285715, 'gini = 1.0\\nsamples = 149\\nvalue = [50, 48, 24, 15, 12]\\nclass = y[0]'),\n Text(0.6933333333333334, 0.35714285714285715, 'Release_year <= 2008.0\\ngini = 1.0\\nsamples = 281\\nvalue = [79, 96, 41, 41, 24]\\nclass = y[1]'),\n Text(0.68, 0.21428571428571427, 'gini = 1.0\\nsamples = 142\\nvalue = [39, 51, 21, 23, 8]\\nclass = y[1]'),\n Text(0.7066666666666667, 0.21428571428571427, 'gini = 1.0\\nsamples = 139\\nvalue = [40, 45, 20, 18, 16]\\nclass = y[1]'),\n Text(0.8633333333333333, 0.6428571428571429, 'Release_year <= 2018.0\\ngini = 1.0\\nsamples = 2481\\nvalue = [770, 652, 380, 377, 302]\\nclass = y[0]'),\n Text(0.7933333333333333, 0.5, 'Release_year <= 2012.0\\ngini = 1.0\\nsamples = 1602\\nvalue = [504, 406, 266, 215, 211]\\nclass = y[0]'),\n Text(0.7466666666666667, 0.35714285714285715, 'Release_year <= 2010.0\\ngini = 1.0\\nsamples = 447\\nvalue = [162, 125, 68, 54, 38]\\nclass = y[0]'),\n Text(0.7333333333333333, 0.21428571428571427, 'gini = 1.0\\nsamples = 128\\nvalue = [47, 32, 21, 18, 10]\\nclass = y[0]'),\n Text(0.76, 0.21428571428571427, 'Release_year <= 2012.0\\ngini = 1.0\\nsamples = 319\\nvalue = [115, 93, 47, 36, 28]\\nclass = y[0]'),\n Text(0.7466666666666667, 0.07142857142857142, 'gini = 1.0\\nsamples = 149\\nvalue = [52, 45, 25, 15, 12]\\nclass = y[0]'),\n Text(0.7733333333333333, 0.07142857142857142, 'gini = 1.0\\nsamples = 170\\nvalue = [63, 48, 22, 21, 16]\\nclass = y[0]'),\n Text(0.84, 0.35714285714285715, 'Release_year <= 2016.0\\ngini = 1.0\\nsamples = 1155\\nvalue = [342, 281, 198, 161, 173]\\nclass = y[0]'),\n Text(0.8133333333333334, 0.21428571428571427, 'Release_year <= 2014.0\\ngini = 1.0\\nsamples = 639\\nvalue = [190, 142, 114, 97, 96]\\nclass = y[0]'),\n Text(0.8, 0.07142857142857142, 'gini = 1.0\\nsamples = 202\\nvalue = [67, 50, 33, 24, 28]\\nclass = y[0]'),\n Text(0.8266666666666667, 0.07142857142857142, 'gini = 1.0\\nsamples = 437\\nvalue = [123, 92, 81, 73, 68]\\nclass = y[0]'),\n Text(0.8666666666666667, 0.21428571428571427, 'Release_year <= 2016.0\\ngini = 1.0\\nsamples = 516\\nvalue = [152, 139, 84, 64, 77]\\nclass = y[0]'),\n Text(0.8533333333333334, 0.07142857142857142, 'gini = 1.0\\nsamples = 269\\nvalue = [78, 72, 47, 30, 42]\\nclass = y[0]'),\n Text(0.88, 0.07142857142857142, 'gini = 1.0\\nsamples = 247\\nvalue = [74, 67, 37, 34, 35]\\nclass = y[0]'),\n Text(0.9333333333333333, 0.5, 'Release_year <= 2018.0\\ngini = 1.0\\nsamples = 879\\nvalue = [266, 246, 114, 162, 91]\\nclass = y[0]'),\n Text(0.92, 0.35714285714285715, 'gini = 1.0\\nsamples = 252\\nvalue = [82, 75, 30, 37, 28]\\nclass = y[0]'),\n Text(0.9466666666666667, 0.35714285714285715, 'Release_year <= 2020.0\\ngini = 1.0\\nsamples = 627\\nvalue = [184, 171, 84, 125, 63]\\nclass = y[0]'),\n Text(0.92, 0.21428571428571427, 'Release_year <= 2020.0\\ngini = 1.0\\nsamples = 387\\nvalue = [110, 102, 52, 78, 45]\\nclass = y[0]'),\n Text(0.9066666666666666, 0.07142857142857142, 'gini = 1.0\\nsamples = 214\\nvalue = [59, 59, 29, 45, 22]\\nclass = y[0]'),\n Text(0.9333333333333333, 0.07142857142857142, 'gini = 1.0\\nsamples = 173\\nvalue = [51, 43, 23, 33, 23]\\nclass = y[0]'),\n Text(0.9733333333333334, 0.21428571428571427, 'Release_year <= 2022.0\\ngini = 1.0\\nsamples = 240\\nvalue = [74, 69, 32, 47, 18]\\nclass = y[0]'),\n Text(0.96, 0.07142857142857142, 'gini = 1.0\\nsamples = 210\\nvalue = [65, 59, 29, 41, 16]\\nclass = y[0]'),\n Text(0.9866666666666667, 0.07142857142857142, 'gini = 1.0\\nsamples = 30\\nvalue = [9, 10, 3, 6, 2]\\nclass = y[1]')]"
     },
     "metadata": {}
    },
    {
     "data": {
      "text/plain": "<Figure size 2592x864 with 1 Axes>",
      "image/png": "[encoded data removed]"
     },
     "metadata": {
      "image/png": {
       "width": 2023,
       "height": 666
      }
     },
     "output_type": "display_data"
    }
   ]
  },
  {
   "cell_type": "code",
   "metadata": {
    "cell_id": "6152b55a428b42b4b90978dbfe4fe5d3",
    "tags": [],
    "deepnote_to_be_reexecuted": false,
    "source_hash": "1877d4de",
    "execution_start": 1650643040412,
    "execution_millis": 171,
    "deepnote_cell_type": "code",
    "deepnote_cell_height": 267
   },
   "source": "accuracy_train = [['Release Year', dectree_releaseyear.score(top_15_releaseyear_train, top_15_rating_train)]]\naccuracy_train_scores_releaseyear = pd.DataFrame(accuracy_train, columns = ['Category', 'Accuracy Score'])\naccuracy_train_scores_releaseyear",
   "execution_count": 25,
   "outputs": [
    {
     "output_type": "execute_result",
     "execution_count": 25,
     "data": {
      "application/vnd.deepnote.dataframe.v3+json": {
       "column_count": 2,
       "row_count": 1,
       "columns": [
        {
         "name": "Category",
         "dtype": "object",
         "stats": {
          "unique_count": 1,
          "nan_count": 0,
          "categories": [
           {
            "name": "Release Year",
            "count": 1
           }
          ]
         }
        },
        {
         "name": "Accuracy Score",
         "dtype": "float64",
         "stats": {
          "unique_count": 1,
          "nan_count": 0,
          "min": "0.37799339388934766",
          "max": "0.37799339388934766",
          "histogram": [
           {
            "bin_start": -0.12200660611065234,
            "bin_end": -0.022006606110652333,
            "count": 0
           },
           {
            "bin_start": -0.022006606110652333,
            "bin_end": 0.07799339388934767,
            "count": 0
           },
           {
            "bin_start": 0.07799339388934767,
            "bin_end": 0.1779933938893477,
            "count": 0
           },
           {
            "bin_start": 0.1779933938893477,
            "bin_end": 0.2779933938893477,
            "count": 0
           },
           {
            "bin_start": 0.2779933938893477,
            "bin_end": 0.37799339388934766,
            "count": 0
           },
           {
            "bin_start": 0.37799339388934766,
            "bin_end": 0.47799339388934775,
            "count": 1
           },
           {
            "bin_start": 0.47799339388934775,
            "bin_end": 0.5779933938893478,
            "count": 0
           },
           {
            "bin_start": 0.5779933938893478,
            "bin_end": 0.6779933938893477,
            "count": 0
           },
           {
            "bin_start": 0.6779933938893477,
            "bin_end": 0.7779933938893477,
            "count": 0
           },
           {
            "bin_start": 0.7779933938893477,
            "bin_end": 0.8779933938893476,
            "count": 0
           }
          ]
         }
        },
        {
         "name": "_deepnote_index_column",
         "dtype": "int64"
        }
       ],
       "rows": [
        {
         "Category": "Release Year",
         "Accuracy Score": 0.37799339388934766,
         "_deepnote_index_column": 0
        }
       ]
      },
      "text/plain": "       Category  Accuracy Score\n0  Release Year        0.377993",
      "text/html": "<div>\n<style scoped>\n    .dataframe tbody tr th:only-of-type {\n        vertical-align: middle;\n    }\n\n    .dataframe tbody tr th {\n        vertical-align: top;\n    }\n\n    .dataframe thead th {\n        text-align: right;\n    }\n</style>\n<table border=\"1\" class=\"dataframe\">\n  <thead>\n    <tr style=\"text-align: right;\">\n      <th></th>\n      <th>Category</th>\n      <th>Accuracy Score</th>\n    </tr>\n  </thead>\n  <tbody>\n    <tr>\n      <th>0</th>\n      <td>Release Year</td>\n      <td>0.377993</td>\n    </tr>\n  </tbody>\n</table>\n</div>"
     },
     "metadata": {}
    }
   ]
  },
  {
   "cell_type": "code",
   "metadata": {
    "cell_id": "984afddfbc5440b8bf45ae5fbcf4e322",
    "tags": [],
    "deepnote_to_be_reexecuted": false,
    "source_hash": "e7bc358e",
    "execution_start": 1650643040442,
    "execution_millis": 142,
    "deepnote_cell_type": "code",
    "deepnote_cell_height": 267
   },
   "source": "accuracy_test = [['Release Year', dectree_releaseyear.score(top_15_releaseyear_test, top_15_rating_test)]]\naccuracy_test_scores_releaseyear = pd.DataFrame(accuracy_test, columns = ['Category', 'Accuracy Score'])\naccuracy_test_scores_releaseyear",
   "execution_count": 26,
   "outputs": [
    {
     "output_type": "execute_result",
     "execution_count": 26,
     "data": {
      "application/vnd.deepnote.dataframe.v3+json": {
       "column_count": 2,
       "row_count": 1,
       "columns": [
        {
         "name": "Category",
         "dtype": "object",
         "stats": {
          "unique_count": 1,
          "nan_count": 0,
          "categories": [
           {
            "name": "Release Year",
            "count": 1
           }
          ]
         }
        },
        {
         "name": "Accuracy Score",
         "dtype": "float64",
         "stats": {
          "unique_count": 1,
          "nan_count": 0,
          "min": "0.3787128712871287",
          "max": "0.3787128712871287",
          "histogram": [
           {
            "bin_start": -0.12128712871287128,
            "bin_end": -0.02128712871287128,
            "count": 0
           },
           {
            "bin_start": -0.02128712871287128,
            "bin_end": 0.07871287128712873,
            "count": 0
           },
           {
            "bin_start": 0.07871287128712873,
            "bin_end": 0.17871287128712876,
            "count": 0
           },
           {
            "bin_start": 0.17871287128712876,
            "bin_end": 0.27871287128712874,
            "count": 0
           },
           {
            "bin_start": 0.27871287128712874,
            "bin_end": 0.3787128712871287,
            "count": 0
           },
           {
            "bin_start": 0.3787128712871287,
            "bin_end": 0.4787128712871288,
            "count": 1
           },
           {
            "bin_start": 0.4787128712871288,
            "bin_end": 0.5787128712871288,
            "count": 0
           },
           {
            "bin_start": 0.5787128712871288,
            "bin_end": 0.6787128712871288,
            "count": 0
           },
           {
            "bin_start": 0.6787128712871288,
            "bin_end": 0.7787128712871287,
            "count": 0
           },
           {
            "bin_start": 0.7787128712871287,
            "bin_end": 0.8787128712871287,
            "count": 0
           }
          ]
         }
        },
        {
         "name": "_deepnote_index_column",
         "dtype": "int64"
        }
       ],
       "rows": [
        {
         "Category": "Release Year",
         "Accuracy Score": 0.3787128712871287,
         "_deepnote_index_column": 0
        }
       ]
      },
      "text/plain": "       Category  Accuracy Score\n0  Release Year        0.378713",
      "text/html": "<div>\n<style scoped>\n    .dataframe tbody tr th:only-of-type {\n        vertical-align: middle;\n    }\n\n    .dataframe tbody tr th {\n        vertical-align: top;\n    }\n\n    .dataframe thead th {\n        text-align: right;\n    }\n</style>\n<table border=\"1\" class=\"dataframe\">\n  <thead>\n    <tr style=\"text-align: right;\">\n      <th></th>\n      <th>Category</th>\n      <th>Accuracy Score</th>\n    </tr>\n  </thead>\n  <tbody>\n    <tr>\n      <th>0</th>\n      <td>Release Year</td>\n      <td>0.378713</td>\n    </tr>\n  </tbody>\n</table>\n</div>"
     },
     "metadata": {}
    }
   ]
  },
  {
   "cell_type": "code",
   "metadata": {
    "cell_id": "47b839e6c86d4c71ace32ed5d2151b79",
    "tags": [],
    "deepnote_to_be_reexecuted": false,
    "source_hash": "e6e77abd",
    "execution_start": 1650643040460,
    "execution_millis": 125,
    "deepnote_cell_type": "code",
    "deepnote_cell_height": 349
   },
   "source": "accuracy_train_scores = [accuracy_train_scores_studios, accuracy_train_scores_genres, accuracy_train_scores_releaseyear]\naccuracy_train_scores = pd.concat(accuracy_train_scores)\naccuracy_train_scores",
   "execution_count": 27,
   "outputs": [
    {
     "output_type": "execute_result",
     "execution_count": 27,
     "data": {
      "application/vnd.deepnote.dataframe.v3+json": {
       "column_count": 2,
       "row_count": 3,
       "columns": [
        {
         "name": "Category",
         "dtype": "object",
         "stats": {
          "unique_count": 3,
          "nan_count": 0,
          "categories": [
           {
            "name": "Studio",
            "count": 1
           },
           {
            "name": "Tags",
            "count": 1
           },
           {
            "name": "Release Year",
            "count": 1
           }
          ]
         }
        },
        {
         "name": "Accuracy Score",
         "dtype": "float64",
         "stats": {
          "unique_count": 3,
          "nan_count": 0,
          "min": "0.37799339388934766",
          "max": "0.42641509433962266",
          "histogram": [
           {
            "bin_start": 0.37799339388934766,
            "bin_end": 0.3828355639343752,
            "count": 1
           },
           {
            "bin_start": 0.3828355639343752,
            "bin_end": 0.38767773397940264,
            "count": 0
           },
           {
            "bin_start": 0.38767773397940264,
            "bin_end": 0.39251990402443016,
            "count": 0
           },
           {
            "bin_start": 0.39251990402443016,
            "bin_end": 0.39736207406945767,
            "count": 0
           },
           {
            "bin_start": 0.39736207406945767,
            "bin_end": 0.4022042441144852,
            "count": 0
           },
           {
            "bin_start": 0.4022042441144852,
            "bin_end": 0.40704641415951265,
            "count": 0
           },
           {
            "bin_start": 0.40704641415951265,
            "bin_end": 0.41188858420454016,
            "count": 0
           },
           {
            "bin_start": 0.41188858420454016,
            "bin_end": 0.4167307542495677,
            "count": 0
           },
           {
            "bin_start": 0.4167307542495677,
            "bin_end": 0.42157292429459514,
            "count": 1
           },
           {
            "bin_start": 0.42157292429459514,
            "bin_end": 0.42641509433962266,
            "count": 1
           }
          ]
         }
        },
        {
         "name": "_deepnote_index_column",
         "dtype": "int64"
        }
       ],
       "rows": [
        {
         "Category": "Studio",
         "Accuracy Score": 0.42641509433962266,
         "_deepnote_index_column": 0
        },
        {
         "Category": "Tags",
         "Accuracy Score": 0.41701073492981006,
         "_deepnote_index_column": 0
        },
        {
         "Category": "Release Year",
         "Accuracy Score": 0.37799339388934766,
         "_deepnote_index_column": 0
        }
       ]
      },
      "text/plain": "       Category  Accuracy Score\n0        Studio        0.426415\n0          Tags        0.417011\n0  Release Year        0.377993",
      "text/html": "<div>\n<style scoped>\n    .dataframe tbody tr th:only-of-type {\n        vertical-align: middle;\n    }\n\n    .dataframe tbody tr th {\n        vertical-align: top;\n    }\n\n    .dataframe thead th {\n        text-align: right;\n    }\n</style>\n<table border=\"1\" class=\"dataframe\">\n  <thead>\n    <tr style=\"text-align: right;\">\n      <th></th>\n      <th>Category</th>\n      <th>Accuracy Score</th>\n    </tr>\n  </thead>\n  <tbody>\n    <tr>\n      <th>0</th>\n      <td>Studio</td>\n      <td>0.426415</td>\n    </tr>\n    <tr>\n      <th>0</th>\n      <td>Tags</td>\n      <td>0.417011</td>\n    </tr>\n    <tr>\n      <th>0</th>\n      <td>Release Year</td>\n      <td>0.377993</td>\n    </tr>\n  </tbody>\n</table>\n</div>"
     },
     "metadata": {}
    }
   ]
  },
  {
   "cell_type": "code",
   "metadata": {
    "cell_id": "2b5a05903edc43eea7663da27a54070f",
    "tags": [],
    "deepnote_to_be_reexecuted": false,
    "source_hash": "f0e86af8",
    "execution_start": 1650643040476,
    "execution_millis": 109,
    "deepnote_cell_type": "code",
    "deepnote_cell_height": 349
   },
   "source": "accuracy_test_scores = [accuracy_test_scores_studios, accuracy_test_scores_genres, accuracy_test_scores_releaseyear]\naccuracy_test_scores = pd.concat(accuracy_test_scores)\naccuracy_test_scores",
   "execution_count": 28,
   "outputs": [
    {
     "output_type": "execute_result",
     "execution_count": 28,
     "data": {
      "application/vnd.deepnote.dataframe.v3+json": {
       "column_count": 2,
       "row_count": 3,
       "columns": [
        {
         "name": "Category",
         "dtype": "object",
         "stats": {
          "unique_count": 3,
          "nan_count": 0,
          "categories": [
           {
            "name": "Studio",
            "count": 1
           },
           {
            "name": "Tags",
            "count": 1
           },
           {
            "name": "Release Year",
            "count": 1
           }
          ]
         }
        },
        {
         "name": "Accuracy Score",
         "dtype": "float64",
         "stats": {
          "unique_count": 3,
          "nan_count": 0,
          "min": "0.3787128712871287",
          "max": "0.4",
          "histogram": [
           {
            "bin_start": 0.3787128712871287,
            "bin_end": 0.38084158415841585,
            "count": 1
           },
           {
            "bin_start": 0.38084158415841585,
            "bin_end": 0.382970297029703,
            "count": 0
           },
           {
            "bin_start": 0.382970297029703,
            "bin_end": 0.3850990099009901,
            "count": 0
           },
           {
            "bin_start": 0.3850990099009901,
            "bin_end": 0.38722772277227724,
            "count": 1
           },
           {
            "bin_start": 0.38722772277227724,
            "bin_end": 0.38935643564356437,
            "count": 0
           },
           {
            "bin_start": 0.38935643564356437,
            "bin_end": 0.3914851485148515,
            "count": 0
           },
           {
            "bin_start": 0.3914851485148515,
            "bin_end": 0.39361386138613863,
            "count": 0
           },
           {
            "bin_start": 0.39361386138613863,
            "bin_end": 0.39574257425742576,
            "count": 0
           },
           {
            "bin_start": 0.39574257425742576,
            "bin_end": 0.3978712871287129,
            "count": 0
           },
           {
            "bin_start": 0.3978712871287129,
            "bin_end": 0.4,
            "count": 1
           }
          ]
         }
        },
        {
         "name": "_deepnote_index_column",
         "dtype": "int64"
        }
       ],
       "rows": [
        {
         "Category": "Studio",
         "Accuracy Score": 0.4,
         "_deepnote_index_column": 0
        },
        {
         "Category": "Tags",
         "Accuracy Score": 0.38613861386138615,
         "_deepnote_index_column": 0
        },
        {
         "Category": "Release Year",
         "Accuracy Score": 0.3787128712871287,
         "_deepnote_index_column": 0
        }
       ]
      },
      "text/plain": "       Category  Accuracy Score\n0        Studio        0.400000\n0          Tags        0.386139\n0  Release Year        0.378713",
      "text/html": "<div>\n<style scoped>\n    .dataframe tbody tr th:only-of-type {\n        vertical-align: middle;\n    }\n\n    .dataframe tbody tr th {\n        vertical-align: top;\n    }\n\n    .dataframe thead th {\n        text-align: right;\n    }\n</style>\n<table border=\"1\" class=\"dataframe\">\n  <thead>\n    <tr style=\"text-align: right;\">\n      <th></th>\n      <th>Category</th>\n      <th>Accuracy Score</th>\n    </tr>\n  </thead>\n  <tbody>\n    <tr>\n      <th>0</th>\n      <td>Studio</td>\n      <td>0.400000</td>\n    </tr>\n    <tr>\n      <th>0</th>\n      <td>Tags</td>\n      <td>0.386139</td>\n    </tr>\n    <tr>\n      <th>0</th>\n      <td>Release Year</td>\n      <td>0.378713</td>\n    </tr>\n  </tbody>\n</table>\n</div>"
     },
     "metadata": {}
    }
   ]
  },
  {
   "cell_type": "code",
   "metadata": {
    "cell_id": "3be907ba00414a8986b5a3aae24b7b4a",
    "tags": [],
    "deepnote_to_be_reexecuted": false,
    "source_hash": "3fee096b",
    "execution_start": 1650643040484,
    "execution_millis": 332,
    "deepnote_cell_type": "code",
    "deepnote_cell_height": 778,
    "deepnote_output_heights": [
     21,
     611
    ]
   },
   "source": "f,axes=plt.subplots(figsize=(10,10))\nsb.barplot(data=accuracy_train_scores, y=\"Category\", x=\"Accuracy Score\").set(title='Accuracy Score difference among categories')",
   "execution_count": 29,
   "outputs": [
    {
     "output_type": "execute_result",
     "execution_count": 29,
     "data": {
      "text/plain": "[Text(0.5, 1.0, 'Accuracy Score difference among categories')]"
     },
     "metadata": {}
    },
    {
     "data": {
      "text/plain": "<Figure size 720x720 with 1 Axes>",
      "image/png": "[encoded data removed]"
     },
     "metadata": {
      "image/png": {
       "width": 669,
       "height": 610
      }
     },
     "output_type": "display_data"
    }
   ]
  },
  {
   "cell_type": "markdown",
   "source": "This is to illustrate the accuracy score of the 3 categories, we can see that release year has an obvious lower accuracy score as the other 2.",
   "metadata": {
    "cell_id": "027cb0aa36bf41fe972f0f5ed1249d26",
    "tags": [],
    "deepnote_cell_type": "markdown",
    "deepnote_cell_height": 74.796875
   }
  },
  {
   "cell_type": "markdown",
   "source": "<a style='text-decoration:none;line-height:16px;display:flex;color:#5B5B62;padding:10px;justify-content:end;' href='https://deepnote.com?utm_source=created-in-deepnote-cell&projectId=84741b16-0348-47d2-95b1-78d2d6dd8ad4' target=\"_blank\">\n<img alt='Created in deepnote.com' style='display:inline;max-height:16px;margin:0px;margin-right:7.5px;' src='data:image/svg+xml;base64,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' > </img>\nCreated in <span style='font-weight:600;margin-left:4px;'>Deepnote</span></a>",
   "metadata": {
    "tags": [],
    "created_in_deepnote_cell": true,
    "deepnote_cell_type": "markdown"
   }
  }
 ],
 "nbformat": 4,
 "nbformat_minor": 2,
 "metadata": {
  "orig_nbformat": 2,
  "deepnote": {
   "is_reactive": false
  },
  "deepnote_notebook_id": "0df87713-d705-4710-8df0-4443a49a8fe8",
  "deepnote_execution_queue": []
 }
}